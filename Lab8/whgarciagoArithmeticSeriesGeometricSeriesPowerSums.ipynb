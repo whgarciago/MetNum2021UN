{
  "nbformat": 4,
  "nbformat_minor": 0,
  "metadata": {
    "colab": {
      "name": "whgarciagoArithmeticSeriesGeometricSeriesPowerSums.ipynb",
      "provenance": [],
      "collapsed_sections": []
    },
    "kernelspec": {
      "name": "python3",
      "display_name": "Python 3"
    }
  },
  "cells": [
    {
      "cell_type": "markdown",
      "metadata": {
        "id": "r4rXWI4gCN5B"
      },
      "source": [
        "# Arithmetic Series\n",
        "\n",
        "## Modified from Arithmetic Series -  [Wolfram MathWorld](https://mathworld.wolfram.com/ArithmeticSeries.html) - [wikipedia](https://en.wikipedia.org/wiki/Arithmetic_progression)\n",
        "\n",
        "\n",
        "An arithmetic sequence $\\{a_k\\}$ for $k=1, 2, ..., $ in which each term is computed from the previous one by adding (or subtracting) a constant $d$. \n",
        "\n",
        "\\begin{align*}\n",
        "a_1 & \\\\\n",
        "a_2 &\\ \\ =\\ \\ a_1 + d  \\\\\n",
        "a_3 &\\ \\ =\\ \\ a_2 + d \\ \\ =\\ \\ a_1 + 2d   \\\\\n",
        "a_4 &\\ \\ =\\ \\ a_3 + d \\ \\ =\\ \\ a_2 + 2d \\ \\ =\\ \\ a_1 + 3d  \\\\\n",
        "\\vdots\\\\\n",
        "a_k &\\ \\ =\\ \\ a_{(k-1)}+d \\ =\\  a_{(k-2)}+2d \\ =\\  \\ldots \\ =\\  \\ a_1+(k-1)d\n",
        "\\end{align*}\n",
        "\n",
        "Therefore, for $k>=1$,\n",
        "\n",
        "$$ a_k = a_1 + (k-1)d$$\n",
        "\n",
        "With $a_1$ and $d$ given.\n",
        "\n",
        "<br /> \n",
        "\n",
        "The sequence of the partial sum of the first $n$ terms of a sequence is called a series, in the case of an arithemetic sequence the series is called an arithmetic series.\n",
        "\n",
        "If  $a_1= 1$ and $d=1$ we have, the simplest arithmnetic sequence,  the natural numbers sequence $\\{a_k = k \\}$ for  $k=1, 2, ..., $  i.e. the seuqnece\n",
        "$$1, 2, ...,$$\n",
        "The  corresponmding series is \n",
        "$$ \n",
        "S_n = 1 + 2+ \\ldots + (n-1)+ n = \\sum_{k=1}^n k\n",
        "$$\n",
        "can be calculated as a function of $n$.\n",
        "\n",
        "Assume that we allign one $S_{n-1}$ with a second  $S_{n-1}$ that have the terms adden reverse order and you add term to term, we have\n",
        "\\begin{array}{llclclclclc}\n",
        "  S_{n-1} &=& 1 &+& 2 &+& \\ldots &+& (n-2) &+& (n-1) \\\\\n",
        "  S_{n-1} &=& (n-1)  &+& (n-2)  &+& \\ldots   &+& 2   &+& 1 \\\\\n",
        "   \\hline \\\\\n",
        "   2S_{n-1} &=& n  &+& n  &+& \\ldots   &+& n   &+& n \\\\\n",
        "\\end{array}\n",
        "so\n",
        "$$  2S_{n-1} = (n-1)n $$\n",
        "then\n",
        "$$  S_{n-1} = \\frac{1}{2} (n-1)n$$\n",
        "therefore \n",
        "$$  S_{n} = \\frac{1}{2} n(n+1)$$\n",
        "\n",
        "\n",
        "\\begin{align*}\n",
        "S_n &= \\sum_{k=1}^n a_k\t\\\\\n",
        "    &= \\sum_{k=1}^n[a_1+(k-1)d]\t\t\\\\\n",
        "    &= na_1 + d \\sum_{k=1}^n(k-1)\t\\\\\n",
        "    &= na_1 + d \\sum_{k=0}^{n-1} k\t\\\\\n",
        "    &= na_1 + d \\sum_{k=1}^{n-1} k\t\\\\\n",
        "    &= na_1 +  \\frac{1}{2} d(n-1)n\\\\\n",
        "\\end{align*}\n",
        "so \n",
        "$$ S_n =  \\frac{1}{2} n[2 a_1 +d(n-1)].$$\n",
        "\n",
        "Note, however, that\n",
        "$$a_1+a_n=a_1+[a_1+d(n-1)]=2a_1+d(n-1),$$ \t\n",
        "so\n",
        "$$S_n = \\frac{1}{2}n(a_1+a_n),$$\n",
        "\n",
        "\n",
        "or $n$ times the arithmetic mean of the first and last terms! This is the trick Gauss used as a schoolboy to solve the problem of summing the integers from $1$ to $100$ given as busy-work by his teacher. While his classmates toiled away doing the addition longhand, Gauss wrote a single number, the correct answer\n",
        "\n",
        "$$\\frac{1}{2}(100)(1+100)=50·101=5050$$ \t\n",
        "on his slate (Burton 1989, pp. 80-81; Hoffman 1998, p. 207). When the answers were examined, Gauss's proved to be the only correct one.\n",
        "\n",
        "<br /> \n",
        "\n",
        "If  the sequence starts at index $0$, $\\{a_k\\}$ for $ k=0, 1, 2, ..., $ we have\n",
        "\n",
        "\\begin{align*}\n",
        "a_0 & \\\\\n",
        "a_1 &\\ \\ =\\ \\ a_0 + d  \\\\\n",
        "a_2 &\\ \\ =\\ \\ a_1 + d \\ \\ =\\ \\ a_0 + 2d   \\\\\n",
        "a_3 &\\ \\ =\\ \\ a_2 + d \\ \\ =\\ \\ a_1 + 2d \\ \\ =\\ \\ a_0 + 3d  \\\\\n",
        "\\vdots\\\\\n",
        "a_k &\\ \\ =\\ \\ a_{(k-1)}+d \\ =\\  a_{(k-2)}+2d \\ =\\  \\ldots \\ = \\  \\ a_1+(k-1)d \\ \\ =\\ \\ a_0+kd\n",
        "\\end{align*}\n",
        "\n",
        "<br /> \n",
        "for given   $a_0$ and $d$.\n",
        "\n",
        "In this case the sum of the terms between $0$ and $n$ of  the arithemnetic sequence  is then given by\n",
        "\\begin{align*}\n",
        "S_n &= \\sum_{k=0}^{n} a_k\t\\\\\n",
        "    &= \\sum_{k=0}^{n}[a_0+kd]\t\t\\\\\n",
        "    &= (n+1) a_0 + d \\sum_{k=0}^{n} k\t\\\\\n",
        "    &= (n+1) a_0 + d \\sum_{k=1}^{} k\t\\\\\n",
        "    &=(n+1) a_0+  \\frac{1}{2} dn(n+1) \\\\\n",
        "\\end{align*}\n",
        "so \n",
        "$$ S_n =  \\frac{1}{2} (n+1)[2 a_0 + dn].$$\n",
        "<br /> \n",
        "$$ S_n =  \\frac{1}{2} (n+1)[a_0+ a_n].$$\n",
        "\n",
        "\n"
      ]
    },
    {
      "cell_type": "markdown",
      "metadata": {
        "id": "GfBh-QHRcods"
      },
      "source": [
        "### Code\n",
        "####  The simplest arithmetic sequence and series\n",
        "\n",
        "The simplest arithmnetic sequence is \n",
        "\n",
        "\n",
        "$$a_n = 1, 2, ...,$$"
      ]
    },
    {
      "cell_type": "markdown",
      "metadata": {
        "id": "n36eWqEXiktl"
      },
      "source": [
        "The following code plots the first $n = 15$ terms of the simplest arithmnetic sequence \n",
        "$$\\{a_n = n\\} \\text{ for } n =1,2,\\ldots  $$\n",
        "i.e\n",
        "$$\\{a_n = n\\} =1,2,\\ldots $$\n",
        "adn the corresponding terms of the simplest arithmnetic series \n",
        "$$  S_n = 1 + 2+ \\ldots + (n-1)+ n = \\sum_{k=1}^n k=  \\frac{1}{2} n(n+1)$$\n"
      ]
    },
    {
      "cell_type": "markdown",
      "metadata": {
        "id": "_VyGiunIZknK"
      },
      "source": [
        "Plot"
      ]
    },
    {
      "cell_type": "code",
      "metadata": {
        "colab": {
          "base_uri": "https://localhost:8080/",
          "height": 283
        },
        "id": "gx3Q4uo-ONCi",
        "outputId": "f178fc7b-2af1-4d9e-c353-ee99208d349b"
      },
      "source": [
        "import matplotlib.pyplot as plt\n",
        "\n",
        "n = 15\n",
        "S_n = 0\n",
        "Serie_S_n=[]\n",
        "Sequence_a_n =[]\n",
        "for i in range(1,n+1):\n",
        "  S_n = S_n + i\n",
        "  Serie_S_n.append(S_n)\n",
        "  Sequence_a_n.append(i)\n",
        " \n",
        "plt.plot(Serie_S_n, color='black',label='Serie_S_n')\n",
        "plt.plot(Sequence_a_n, color='red',label='Sequence_a_n')\n",
        "plt.legend()\n",
        "\n",
        "\n"
      ],
      "execution_count": null,
      "outputs": [
        {
          "output_type": "execute_result",
          "data": {
            "text/plain": [
              "<matplotlib.legend.Legend at 0x7f4135ff8750>"
            ]
          },
          "metadata": {
            "tags": []
          },
          "execution_count": 11
        },
        {
          "output_type": "display_data",
          "data": {
            "image/png": "[encoded data removed]",
            "text/plain": [
              "<Figure size 432x288 with 1 Axes>"
            ]
          },
          "metadata": {
            "tags": [],
            "needs_background": "light"
          }
        }
      ]
    },
    {
      "cell_type": "code",
      "metadata": {
        "colab": {
          "base_uri": "https://localhost:8080/"
        },
        "id": "o2es6b4cysQk",
        "outputId": "2d8875c7-e4c1-49cc-9b38-028475c5f19f"
      },
      "source": [
        "Sequence_a_n"
      ],
      "execution_count": null,
      "outputs": [
        {
          "output_type": "execute_result",
          "data": {
            "text/plain": [
              "[1, 2, 3, 4, 5, 6, 7, 8, 9, 10, 11, 12, 13, 14, 15]"
            ]
          },
          "metadata": {
            "tags": []
          },
          "execution_count": 12
        }
      ]
    },
    {
      "cell_type": "code",
      "metadata": {
        "colab": {
          "base_uri": "https://localhost:8080/"
        },
        "id": "T2VeBOBZ0ibg",
        "outputId": "daaf6544-5edd-4843-a485-505e1a06a3f7"
      },
      "source": [
        "Serie_S_n"
      ],
      "execution_count": null,
      "outputs": [
        {
          "output_type": "execute_result",
          "data": {
            "text/plain": [
              "[1, 3, 6, 10, 15, 21, 28, 36, 45, 55, 66, 78, 91, 105, 120]"
            ]
          },
          "metadata": {
            "tags": []
          },
          "execution_count": 14
        }
      ]
    },
    {
      "cell_type": "markdown",
      "metadata": {
        "id": "0ybfJdHxZGvW"
      },
      "source": [
        "The following code computes the  $n=10000000$  term of the airthmetic series\n",
        "$$  S_n = 1 + 2+ \\ldots + (n-1)+ n = \\sum_{k=1}^n =  \\frac{1}{2} n(n+1)$$"
      ]
    },
    {
      "cell_type": "code",
      "metadata": {
        "colab": {
          "base_uri": "https://localhost:8080/"
        },
        "id": "99xYHDQycnol",
        "outputId": "a21e2f92-385a-4cea-910f-7e32bafd11e4"
      },
      "source": [
        "n = 10000000\n",
        "S_n = 0\n",
        "for i in range(1,n+1):  # range(n+1) goes form 1 to n\n",
        "  S_n = S_n + i \n",
        "print(S_n)"
      ],
      "execution_count": null,
      "outputs": [
        {
          "output_type": "stream",
          "text": [
            "50000005000000\n"
          ],
          "name": "stdout"
        }
      ]
    },
    {
      "cell_type": "code",
      "metadata": {
        "colab": {
          "base_uri": "https://localhost:8080/"
        },
        "id": "RGCSuDGHeFwH",
        "outputId": "e1d60652-ce77-4933-a4dc-fa178257f349"
      },
      "source": [
        "(1/2)*n*(n+1)"
      ],
      "execution_count": null,
      "outputs": [
        {
          "output_type": "execute_result",
          "data": {
            "text/plain": [
              "50000005000000.0"
            ]
          },
          "metadata": {
            "tags": []
          },
          "execution_count": 8
        }
      ]
    },
    {
      "cell_type": "markdown",
      "metadata": {
        "id": "bg8zxAhcecpk"
      },
      "source": [
        "The following code computes the $n=10000000$ term of the airthmetic series \n",
        "$$ S_n  = \\sum_{k=1}^n a_k$$\n",
        "\n",
        "<br /> \n",
        "for the airthmetic sequence $a_k = 10 + 3 (k-1) $ for $k=1,2,\\ldots$\n",
        "\n",
        "<br /> \n",
        "$$ 10,13,16,19,21,\\ldots$$\n"
      ]
    },
    {
      "cell_type": "markdown",
      "metadata": {
        "id": "hg3ixQ3bZiVh"
      },
      "source": [
        "Plot"
      ]
    },
    {
      "cell_type": "code",
      "metadata": {
        "colab": {
          "base_uri": "https://localhost:8080/"
        },
        "id": "w8FP1XqSgnie",
        "outputId": "4a81915d-b3b6-4089-cb05-5a46b03ba87f"
      },
      "source": [
        "n = 10000000\n",
        "a = 10\n",
        "d = 3\n",
        "S_n = 0\n",
        "for i in range(1,n+1):  # range(n+19 goes form 1 to n\n",
        "  a_n = a + d * (i-1) \n",
        "  S_n = S_n + a_n\n",
        "print(S_n)"
      ],
      "execution_count": null,
      "outputs": [
        {
          "output_type": "stream",
          "text": [
            "150000085000000\n"
          ],
          "name": "stdout"
        }
      ]
    },
    {
      "cell_type": "code",
      "metadata": {
        "colab": {
          "base_uri": "https://localhost:8080/"
        },
        "id": "g_38RfB_hgg2",
        "outputId": "088f349a-3f72-4e5d-b977-30b61ddcbb25"
      },
      "source": [
        "n*(2*a +d*(n-1))/2"
      ],
      "execution_count": null,
      "outputs": [
        {
          "output_type": "execute_result",
          "data": {
            "text/plain": [
              "150000085000000.0"
            ]
          },
          "metadata": {
            "tags": []
          },
          "execution_count": 25
        }
      ]
    },
    {
      "cell_type": "code",
      "metadata": {
        "colab": {
          "base_uri": "https://localhost:8080/"
        },
        "id": "zS3qb_xE1u58",
        "outputId": "3a90e3cb-788b-49cc-db02-6b53b4d092d9"
      },
      "source": [
        "n*(a +a_n)/2"
      ],
      "execution_count": null,
      "outputs": [
        {
          "output_type": "execute_result",
          "data": {
            "text/plain": [
              "150000085000000.0"
            ]
          },
          "metadata": {
            "tags": []
          },
          "execution_count": 26
        }
      ]
    },
    {
      "cell_type": "code",
      "metadata": {
        "colab": {
          "base_uri": "https://localhost:8080/",
          "height": 285
        },
        "id": "7qesKez70zub",
        "outputId": "cd0c0a7a-936e-417d-8653-5aa6c817d4c1"
      },
      "source": [
        "import matplotlib.pyplot as plt\n",
        "\n",
        "n = 20\n",
        "a = 10\n",
        "d = 3\n",
        "S_n = 0\n",
        "Serie_S_n=[]\n",
        "Sequence_a_n =[]\n",
        "for i in range(1,n+1):  # range(n+19 goes form 1 to n\n",
        "  a_n = a + d * (i-1) \n",
        "  S_n = S_n + a_n\n",
        "  Serie_S_n.append(S_n)\n",
        "  Sequence_a_n.append(a_n)\n",
        "\n",
        "plt.plot(Serie_S_n, color='black',label='Serie_S_n')\n",
        "plt.plot(Sequence_a_n, color='red',label='Sequence_a_n')\n",
        "plt.legend()"
      ],
      "execution_count": null,
      "outputs": [
        {
          "output_type": "execute_result",
          "data": {
            "text/plain": [
              "<matplotlib.legend.Legend at 0x7f4135d81d10>"
            ]
          },
          "metadata": {
            "tags": []
          },
          "execution_count": 22
        },
        {
          "output_type": "display_data",
          "data": {
            "image/png": "[encoded data removed]",
            "text/plain": [
              "<Figure size 432x288 with 1 Axes>"
            ]
          },
          "metadata": {
            "tags": [],
            "needs_background": "light"
          }
        }
      ]
    },
    {
      "cell_type": "markdown",
      "metadata": {
        "id": "r9qzONSlZq2q"
      },
      "source": [
        "## Your own example of arithmetic series "
      ]
    },
    {
      "cell_type": "code",
      "metadata": {
        "id": "SrJ_dPxS0pwP",
        "colab": {
          "base_uri": "https://localhost:8080/",
          "height": 283
        },
        "outputId": "65ff903a-e0cc-4839-ca63-d5373523238d"
      },
      "source": [
        "## Ejemplo 1 suma de los primeros 100 terminos de la sucesio {2,6,10,...}\n",
        "import matplotlib.pyplot as plt\n",
        "n = 100\n",
        "a = 2\n",
        "d = 4\n",
        "S_n = 0\n",
        "Serie_S_n=[]\n",
        "Sequence_a_n =[]\n",
        "for i in range(1,n+1): \n",
        "  a_n = a + d * (i-1) \n",
        "  S_n = S_n + a_n\n",
        "  Serie_S_n.append(S_n)\n",
        "  Sequence_a_n.append(a_n)\n",
        "\n",
        "plt.plot(Serie_S_n, color='black',label='Serie_S_n')\n",
        "plt.plot(Sequence_a_n, color='red',label='Sequence_a_n')\n",
        "plt.legend()"
      ],
      "execution_count": 2,
      "outputs": [
        {
          "output_type": "execute_result",
          "data": {
            "text/plain": [
              "<matplotlib.legend.Legend at 0x7fd0944cf810>"
            ]
          },
          "metadata": {
            "tags": []
          },
          "execution_count": 2
        },
        {
          "output_type": "display_data",
          "data": {
            "image/png": "[encoded data removed]",
            "text/plain": [
              "<Figure size 432x288 with 1 Axes>"
            ]
          },
          "metadata": {
            "tags": [],
            "needs_background": "light"
          }
        }
      ]
    },
    {
      "cell_type": "markdown",
      "metadata": {
        "id": "2k2a2i3q3EF8"
      },
      "source": [
        ""
      ]
    },
    {
      "cell_type": "code",
      "metadata": {
        "colab": {
          "base_uri": "https://localhost:8080/"
        },
        "id": "kCNGg7Dk2rK2",
        "outputId": "0f7a31f5-68e7-47e9-abde-ec9c56e61b91"
      },
      "source": [
        "##Forma con ciclo\n",
        "n = 100\n",
        "a = 2\n",
        "d = 4\n",
        "S_n = 0\n",
        "for i in range(1,n+1): \n",
        "  a_n = a + d * (i-1) \n",
        "  S_n = S_n + a_n\n",
        "print(S_n)\n",
        "##forma con formula\n",
        "formula = n*(2*a +d*(n-1))/2\n",
        "formula"
      ],
      "execution_count": 4,
      "outputs": [
        {
          "output_type": "stream",
          "text": [
            "20000\n"
          ],
          "name": "stdout"
        },
        {
          "output_type": "execute_result",
          "data": {
            "text/plain": [
              "20000.0"
            ]
          },
          "metadata": {
            "tags": []
          },
          "execution_count": 4
        }
      ]
    },
    {
      "cell_type": "code",
      "metadata": {
        "colab": {
          "base_uri": "https://localhost:8080/",
          "height": 293
        },
        "id": "1MMF56iK3xQK",
        "outputId": "659d5702-f696-4d37-d4d1-d0bd32f296ae"
      },
      "source": [
        "## Ejemplo 2 suma de los primeros 1000 terminos de la sucesio {0,-11,-22,...}\n",
        "import matplotlib.pyplot as plt\n",
        "n = 1000\n",
        "a = 0\n",
        "d = -11\n",
        "S_n = 0\n",
        "Serie_S_n=[]\n",
        "Sequence_a_n =[]\n",
        "for i in range(1,n+1):  # range(n+19 goes form 1 to n\n",
        "  a_n = a + d * (i-1) \n",
        "  S_n = S_n + a_n\n",
        "  Serie_S_n.append(S_n)\n",
        "  Sequence_a_n.append(a_n)\n",
        "\n",
        "plt.plot(Serie_S_n, color='black',label='Serie_S_n')\n",
        "plt.plot(Sequence_a_n, color='red',label='Sequence_a_n')\n",
        "plt.legend()"
      ],
      "execution_count": 5,
      "outputs": [
        {
          "output_type": "execute_result",
          "data": {
            "text/plain": [
              "<matplotlib.legend.Legend at 0x7fd093e48d10>"
            ]
          },
          "metadata": {
            "tags": []
          },
          "execution_count": 5
        },
        {
          "output_type": "display_data",
          "data": {
            "image/png": "[encoded data removed]",
            "text/plain": [
              "<Figure size 432x288 with 1 Axes>"
            ]
          },
          "metadata": {
            "tags": [],
            "needs_background": "light"
          }
        }
      ]
    },
    {
      "cell_type": "code",
      "metadata": {
        "colab": {
          "base_uri": "https://localhost:8080/"
        },
        "id": "VDCjKpiA4JuN",
        "outputId": "13cc34d2-db97-45fa-b2f3-e0ee2bab40ae"
      },
      "source": [
        "##Forma con ciclo\n",
        "n = 1000\n",
        "a = 0\n",
        "d = -11\n",
        "S_n = 0\n",
        "for i in range(1,n+1):  \n",
        "  a_n = a + d * (i-1) \n",
        "  S_n = S_n + a_n\n",
        "print(S_n)\n",
        "##forma con formula\n",
        "formula = n*(2*a +d*(n-1))/2\n",
        "formula"
      ],
      "execution_count": 6,
      "outputs": [
        {
          "output_type": "stream",
          "text": [
            "-5494500\n"
          ],
          "name": "stdout"
        },
        {
          "output_type": "execute_result",
          "data": {
            "text/plain": [
              "-5494500.0"
            ]
          },
          "metadata": {
            "tags": []
          },
          "execution_count": 6
        }
      ]
    },
    {
      "cell_type": "markdown",
      "metadata": {
        "id": "AKWJ1F7hac8T"
      },
      "source": [
        "# Geometric Series\n",
        "\n",
        "## Modified from Geometric Series -  [Wolfram MathWorld](https://mathworld.wolfram.com/GeometricSeries.html) - [wikipedia](https://en.wikipedia.org/wiki/Geometric_series)\n"
      ]
    },
    {
      "cell_type": "markdown",
      "metadata": {
        "id": "W5zx_-nR81GI"
      },
      "source": [
        "An geometric series is the sum of a sequence $\\{a_k\\}$ for $k=1, 2, ..., $ in which each term is computed from the previous one by adding (or subtracting) a constant $d$. \n",
        "\n",
        "\\begin{align*}\n",
        "a_0 &\\ \\ =\\ \\ r^0 \\ \\ =\\ \\ 1\\\\\n",
        "a_1 &\\ \\ =\\ \\ a_0 *  r \\ \\ =\\ \\  r\\\\\n",
        "a_2 &\\ \\ =\\ \\ a_1 * r\\ \\ =\\ \\ a_0 * r^2  \\ \\ =\\ \\ r^2 \\\\\n",
        "a_3 &\\ \\ =\\ \\ a_2 * r \\ \\ =\\ \\ a_0 * r^3 \\ \\ =\\ \\  r^3  \\\\\n",
        "a_4 &\\ \\ =\\ \\ a_3 * r\\ \\  =\\ \\ a_0 * r^4 \\ \\  =\\ \\ r^4  \\\\\n",
        "\\vdots\\\\\n",
        "a_k &\\ \\ =\\ \\ a_{(k-1)}* r \\ =\\   a_0 * r^k \\ \\  =\\ \\  r^k\n",
        "\\end{align*}\n",
        "\n",
        "The sum of the first $n$ terms  of  the geometric sequence (called an geometric serie)  is then given by\n",
        "$$\n",
        "\\begin{array}{ll}\n",
        "S_n &=  1 + r + r^2 + \\cdots + r^{n-1} +r^n \\\\\n",
        " &=  (1 + r + r^2 + \\cdots + r^{n-1} ) +r^n \\\\\n",
        " &= S_{n-1}  +r^n \n",
        "\\end{array}\n",
        "$$\n",
        "\n",
        "$$\n",
        "\\begin{array}{ll}\n",
        "S_n &=  1 + r + r^2 + \\cdots + r^{n-1} +r^n \\\\\n",
        " &=  1 + (r + r^2 + \\cdots + r^{n-1}  +r^n)  \\\\\n",
        " &=   1 + r (1 +  r  + r^2 + \\cdots + r^{n-1} )  \\\\\n",
        "  &=   1 + r   S_{n-1} \n",
        "\\end{array}\n",
        "$$\n",
        "\n",
        "Then\n",
        "$$\n",
        " S_{n-1}  +r^n =   1 + r   S_{n-1} \n",
        "$$\n",
        "\n",
        "Therefore\n",
        "$$\n",
        " S_{n-1} (1 -r)   +r^n =   1 - r^n \n",
        "$$\n",
        "\n",
        "$$\n",
        " S_{n-1}   =   \\frac{1 - r^n }{1 -r}\n",
        "$$\n",
        "\n",
        "$$\n",
        " S_{n}   =   \\frac{1 - r^{n+1} }{1 -r}  = \\frac{ r^{n+1} - 1}{r -1}\n",
        "$$\n"
      ]
    },
    {
      "cell_type": "markdown",
      "metadata": {
        "id": "CDUYfT8k8crr"
      },
      "source": [
        "## Nodes in Complete Binary Tree with $L=0,1,2,\\cdots , L-1$ levels \n",
        "\n",
        "![](https://raw.githubusercontent.com/gjhernandezp/algorithms/master/Lab7/ComBinTree.png)\n",
        "\n",
        "In a complete binary tree you have in ecah level $k =0,1,2,\\cdots $  $ 2^k $\n",
        "\n",
        "$$\n",
        "\\begin{array}{ll}\n",
        "\\text {Level } 0 \\rightarrow 2^0 = 1 \\text { node (root)} \\\\\n",
        "\\text {Level } 1 \\rightarrow 2^1 = 2 \\text { nodes} \\\\\n",
        "\\text {Level } 2 \\rightarrow 2^2 = 4 \\text { nodes} \\\\\n",
        "\\text {Level } 3 \\rightarrow 2^3 = 8 \\text { nodes} \\\\\n",
        "\\vdots\\\\\n",
        "\\text {Level } k \\rightarrow 2^k  \\text { nodes} \\\\\n",
        "\\end{array}\n",
        "$$\n",
        "\n",
        "nodes, with $l = 0,1,2, ... $ the level\n",
        "\n",
        "Total number of the complte tree with $L=0,1,2,\\cdots , L-1$ levels\n",
        "\n",
        "$$ \n",
        "2^0 + 2^1 + 2^2 + \\cdots +2^{L-1}  = 1 + 2 + 4 + \\cdots +2^{L-1} = \\sum_{k=0}^{L-1} 2^k = \\frac{ 2^{L} - 1}{2 -1} = 2^{L} - 1\n",
        "$$"
      ]
    },
    {
      "cell_type": "markdown",
      "metadata": {
        "id": "YiWlrhLZNMX9"
      },
      "source": [
        "### Code"
      ]
    },
    {
      "cell_type": "code",
      "metadata": {
        "id": "YvMkYU8UNOll",
        "colab": {
          "base_uri": "https://localhost:8080/",
          "height": 293
        },
        "outputId": "2a997aa8-3dc2-4c2d-a065-508145bba80a"
      },
      "source": [
        "## numero de nodos es un arbol binario completo de 100 niveles\n",
        "import matplotlib.pyplot as plt\n",
        "n = 100\n",
        "a = 1\n",
        "r = 2\n",
        "S_n = 0\n",
        "Serie_S_n=[]\n",
        "Sequence_a_n =[]\n",
        "for i in range(1,n+1):  \n",
        "  a_n = a *(r**(i-1)) \n",
        "  S_n = S_n + a_n\n",
        "  Serie_S_n.append(S_n)\n",
        "  Sequence_a_n.append(a_n)\n",
        "\n",
        "plt.plot(Serie_S_n, color='black',label='Serie_S_n')\n",
        "plt.plot(Sequence_a_n, color='red',label='Sequence_a_n')\n",
        "plt.legend()"
      ],
      "execution_count": 15,
      "outputs": [
        {
          "output_type": "execute_result",
          "data": {
            "text/plain": [
              "<matplotlib.legend.Legend at 0x7fd093ccbd50>"
            ]
          },
          "metadata": {
            "tags": []
          },
          "execution_count": 15
        },
        {
          "output_type": "display_data",
          "data": {
            "image/png": "[encoded data removed]",
            "text/plain": [
              "<Figure size 432x288 with 1 Axes>"
            ]
          },
          "metadata": {
            "tags": [],
            "needs_background": "light"
          }
        }
      ]
    },
    {
      "cell_type": "code",
      "metadata": {
        "colab": {
          "base_uri": "https://localhost:8080/"
        },
        "id": "SIA0Acma75LS",
        "outputId": "284dc9c2-3875-4956-ce91-30a0a8f3d5fe"
      },
      "source": [
        "##Forma con ciclo\n",
        "n = 100\n",
        "a = 1\n",
        "r = 2\n",
        "S_n = 0\n",
        "for i in range(1,n+1): \n",
        "  a_n = a *(r**(i-1))\n",
        "  S_n = S_n + a_n\n",
        "print(S_n)\n",
        "##forma con formula\n",
        "formula = (2**n)-1\n",
        "formula"
      ],
      "execution_count": 17,
      "outputs": [
        {
          "output_type": "stream",
          "text": [
            "1267650600228229401496703205375\n"
          ],
          "name": "stdout"
        },
        {
          "output_type": "execute_result",
          "data": {
            "text/plain": [
              "1267650600228229401496703205375"
            ]
          },
          "metadata": {
            "tags": []
          },
          "execution_count": 17
        }
      ]
    },
    {
      "cell_type": "markdown",
      "metadata": {
        "id": "Dd3RWDwJe2xD"
      },
      "source": [
        "## Zenon Arrow\n",
        "\n",
        "![](https://raw.githubusercontent.com/gjhernandezp/algorithms/master/Lab7/zeno-paradox-arrow.png)\n",
        "\n",
        "https://leseditionsdeschavonnes.com/2018/10/15/the-paradox-of-achilles-and-the-tortoise/\n",
        "\n",
        "\n",
        "\n",
        "$$ \n",
        "\\lim_{n\\rightarrow \\infty} \\left\\{\\left(\\frac{1}{2}\\right)^0 + \\left(\\frac{1}{2}\\right)^1 +\\left(\\frac{1}{2}\\right)^2 + \\cdots +\\left(\\frac{1}{2}\\right)^{n} \\right\\} = \\lim_{n\\rightarrow \\infty} \\left\\{ 1 +\\frac{1}{2} + \\frac{1}{4} + \\frac{1}{8} + \\cdots +\\frac{1}{2^{n}}\\right\\}  = \\lim_{n\\rightarrow \\infty} \\sum_{k=0}^{n} \\left(\\frac{1}{2}\\right)^k = \\lim_{n\\rightarrow \\infty} \\frac{ 1- \\left(\\frac{1}{2}\\right)^n  }{1 - \\left(\\frac{1}{2}\\right) } = \\frac{ 1}{1 - \\left(\\frac{1}{2}\\right)} = 2\n",
        "$$"
      ]
    },
    {
      "cell_type": "markdown",
      "metadata": {
        "id": "R-J4EekBNPkd"
      },
      "source": [
        "### Code"
      ]
    },
    {
      "cell_type": "code",
      "metadata": {
        "id": "8xdBovY3NEW_",
        "colab": {
          "base_uri": "https://localhost:8080/",
          "height": 283
        },
        "outputId": "51e0e61e-e516-44e8-ee4e-0c824d0cfe74"
      },
      "source": [
        "##ejemplo 1 suma de los primero 10 terminos de la sucesion {1,3,9,27,81,...}\n",
        "import matplotlib.pyplot as plt\n",
        "n = 10\n",
        "a = 1\n",
        "r = 3\n",
        "S_n = 0\n",
        "Serie_S_n=[]\n",
        "Sequence_a_n =[]\n",
        "for i in range(1,n+1):  \n",
        "  a_n = a *(r**(i-1)) \n",
        "  S_n = S_n + a_n\n",
        "  Serie_S_n.append(S_n)\n",
        "  Sequence_a_n.append(a_n)\n",
        "\n",
        "plt.plot(Serie_S_n, color='black',label='Serie_S_n')\n",
        "plt.plot(Sequence_a_n, color='red',label='Sequence_a_n')\n",
        "plt.legend()\n"
      ],
      "execution_count": 33,
      "outputs": [
        {
          "output_type": "execute_result",
          "data": {
            "text/plain": [
              "<matplotlib.legend.Legend at 0x7fd093ad4290>"
            ]
          },
          "metadata": {
            "tags": []
          },
          "execution_count": 33
        },
        {
          "output_type": "display_data",
          "data": {
            "image/png": "[encoded data removed]",
            "text/plain": [
              "<Figure size 432x288 with 1 Axes>"
            ]
          },
          "metadata": {
            "tags": [],
            "needs_background": "light"
          }
        }
      ]
    },
    {
      "cell_type": "code",
      "metadata": {
        "colab": {
          "base_uri": "https://localhost:8080/"
        },
        "id": "13mLXSdrAfFA",
        "outputId": "6dfa5ff4-442a-45ae-dbd7-8a2318dce892"
      },
      "source": [
        "##Forma con ciclo\n",
        "n = 10\n",
        "a = 1\n",
        "r = 3\n",
        "S_n = 0\n",
        "for i in range(0,n+1): \n",
        "  a_n = a *(r**(i))\n",
        "  S_n = S_n + a_n\n",
        "print(S_n)\n",
        "##forma con formula\n",
        "formula = a*((1 - r**(n+1))/(1-r))\n",
        "formula"
      ],
      "execution_count": 32,
      "outputs": [
        {
          "output_type": "stream",
          "text": [
            "88573\n"
          ],
          "name": "stdout"
        },
        {
          "output_type": "execute_result",
          "data": {
            "text/plain": [
              "88573.0"
            ]
          },
          "metadata": {
            "tags": []
          },
          "execution_count": 32
        }
      ]
    },
    {
      "cell_type": "code",
      "metadata": {
        "colab": {
          "base_uri": "https://localhost:8080/",
          "height": 283
        },
        "id": "m1Pv6KeaOJL8",
        "outputId": "559af8f5-22ff-4e6e-984d-16d01521605a"
      },
      "source": [
        "## ejemplo 2 suma de los primero 190 terminos en la sucesion {0.5,0.5**2,0.5**3,0.5**4,...}\n",
        "import matplotlib.pyplot as plt\n",
        "n = 25\n",
        "a = 1\n",
        "r = 0.5\n",
        "S_n = 0\n",
        "Serie_S_n=[]\n",
        "Sequence_a_n =[]\n",
        "for i in range(1,n+1):  \n",
        "  a_n = a *(r**(i-1)) \n",
        "  S_n = S_n + a_n\n",
        "  Serie_S_n.append(S_n)\n",
        "  Sequence_a_n.append(a_n)\n",
        "\n",
        "plt.plot(Serie_S_n, color='black',label='Serie_S_n')\n",
        "plt.plot(Sequence_a_n, color='red',label='Sequence_a_n')\n",
        "plt.legend()"
      ],
      "execution_count": 40,
      "outputs": [
        {
          "output_type": "execute_result",
          "data": {
            "text/plain": [
              "<matplotlib.legend.Legend at 0x7fd09396e290>"
            ]
          },
          "metadata": {
            "tags": []
          },
          "execution_count": 40
        },
        {
          "output_type": "display_data",
          "data": {
            "image/png": "[encoded data removed]",
            "text/plain": [
              "<Figure size 432x288 with 1 Axes>"
            ]
          },
          "metadata": {
            "tags": [],
            "needs_background": "light"
          }
        }
      ]
    },
    {
      "cell_type": "code",
      "metadata": {
        "colab": {
          "base_uri": "https://localhost:8080/"
        },
        "id": "ypEflOz2Pg2W",
        "outputId": "68d2a755-2a43-49cd-aa1d-c8e0178bacc1"
      },
      "source": [
        "##Forma con ciclo\n",
        "n = 190\n",
        "a = 1\n",
        "r = 0.5\n",
        "S_n = 0\n",
        "for i in range(1,n+1): \n",
        "  a_n = a *(r**(i))\n",
        "  S_n = S_n + a_n\n",
        "print(S_n)\n",
        "##forma con formula\n",
        "formula = r/(1-r)\n",
        "formula"
      ],
      "execution_count": 39,
      "outputs": [
        {
          "output_type": "stream",
          "text": [
            "1.0\n"
          ],
          "name": "stdout"
        },
        {
          "output_type": "execute_result",
          "data": {
            "text/plain": [
              "1.0"
            ]
          },
          "metadata": {
            "tags": []
          },
          "execution_count": 39
        }
      ]
    },
    {
      "cell_type": "markdown",
      "metadata": {
        "id": "dh2ntBeoNQlN"
      },
      "source": [
        "# Power Sums Power Sums - [Wolfram MathWorld](https://mathworld.wolfram.com/PowerSum.html) - [wikipedia](https://en.wikipedia.org/wiki/Sums_of_powers) - [reserachgate](https://www.researchgate.net/publication/331933608_The_Powers_Sums_Bernoulli_Numbers_Bernoulli_Polynomials_Rethinked)\n",
        "\n"
      ]
    },
    {
      "cell_type": "markdown",
      "metadata": {
        "id": "VmnQvjEfjX9K"
      },
      "source": [
        "![image.png](data:image/png;base64,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)"
      ]
    },
    {
      "cell_type": "code",
      "metadata": {
        "id": "2PyxzzOZVIdl",
        "colab": {
          "base_uri": "https://localhost:8080/",
          "height": 283
        },
        "outputId": "95d06d00-0665-4e7c-80cf-24b272887296"
      },
      "source": [
        "##ejemplo suma con 100 primeros terminos \n",
        "import matplotlib.pyplot as plt\n",
        "n = 100\n",
        "S_n = 0\n",
        "Serie_S_n=[]\n",
        "Sequence_a_n =[]\n",
        "for i in range(1,n+1):  \n",
        "  a_n = i**2 \n",
        "  S_n = S_n + a_n\n",
        "  Serie_S_n.append(S_n)\n",
        "  Sequence_a_n.append(a_n)\n",
        "\n",
        "plt.plot(Serie_S_n, color='black',label='Serie_S_n')\n",
        "plt.plot(Sequence_a_n, color='red',label='Sequence_a_n')\n",
        "plt.legend()"
      ],
      "execution_count": 49,
      "outputs": [
        {
          "output_type": "execute_result",
          "data": {
            "text/plain": [
              "<matplotlib.legend.Legend at 0x7fd0936b3b10>"
            ]
          },
          "metadata": {
            "tags": []
          },
          "execution_count": 49
        },
        {
          "output_type": "display_data",
          "data": {
            "image/png": "[encoded data removed]",
            "text/plain": [
              "<Figure size 432x288 with 1 Axes>"
            ]
          },
          "metadata": {
            "tags": [],
            "needs_background": "light"
          }
        }
      ]
    },
    {
      "cell_type": "code",
      "metadata": {
        "colab": {
          "base_uri": "https://localhost:8080/"
        },
        "id": "ZDC4PnU2gZZV",
        "outputId": "ea8c4876-d673-41b4-d153-b0a4df602a09"
      },
      "source": [
        "##Forma con ciclo\n",
        "n = 100\n",
        "S_n = 0\n",
        "for i in range(1,n+1): \n",
        "  a_n = i**2\n",
        "  S_n = S_n + a_n\n",
        "print(S_n)\n",
        "##forma con formula\n",
        "formula = 1/6*(2*n**3+3*n**2+n)\n",
        "formula"
      ],
      "execution_count": 50,
      "outputs": [
        {
          "output_type": "stream",
          "text": [
            "338350\n"
          ],
          "name": "stdout"
        },
        {
          "output_type": "execute_result",
          "data": {
            "text/plain": [
              "338350.0"
            ]
          },
          "metadata": {
            "tags": []
          },
          "execution_count": 50
        }
      ]
    },
    {
      "cell_type": "markdown",
      "metadata": {
        "id": "vPzvJABgj-8k"
      },
      "source": [
        "![image.png](data:image/png;base64,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)"
      ]
    },
    {
      "cell_type": "code",
      "metadata": {
        "colab": {
          "base_uri": "https://localhost:8080/",
          "height": 293
        },
        "id": "YkirF7Z7kAmy",
        "outputId": "fc3d2211-88c3-415d-d397-eb88415e51e8"
      },
      "source": [
        "##ejemplo suma con 25 primeros terminos \n",
        "import matplotlib.pyplot as plt\n",
        "n = 100\n",
        "S_n = 0\n",
        "Serie_S_n=[]\n",
        "Sequence_a_n =[]\n",
        "for i in range(1,n+1):  \n",
        "  a_n = i**5\n",
        "  S_n = S_n + a_n\n",
        "  Serie_S_n.append(S_n)\n",
        "  Sequence_a_n.append(a_n)\n",
        "\n",
        "plt.plot(Serie_S_n, color='black',label='Serie_S_n')\n",
        "plt.plot(Sequence_a_n, color='red',label='Sequence_a_n')\n",
        "plt.legend()"
      ],
      "execution_count": 51,
      "outputs": [
        {
          "output_type": "execute_result",
          "data": {
            "text/plain": [
              "<matplotlib.legend.Legend at 0x7fd09360df90>"
            ]
          },
          "metadata": {
            "tags": []
          },
          "execution_count": 51
        },
        {
          "output_type": "display_data",
          "data": {
            "image/png": "[encoded data removed]",
            "text/plain": [
              "<Figure size 432x288 with 1 Axes>"
            ]
          },
          "metadata": {
            "tags": [],
            "needs_background": "light"
          }
        }
      ]
    },
    {
      "cell_type": "code",
      "metadata": {
        "colab": {
          "base_uri": "https://localhost:8080/"
        },
        "id": "FfYNZohukIXZ",
        "outputId": "13517f88-a141-43d7-f55f-1b1831ced12a"
      },
      "source": [
        "##Forma con ciclo\n",
        "n = 100\n",
        "S_n = 0\n",
        "for i in range(1,n+1): \n",
        "  a_n = i**5\n",
        "  S_n = S_n + a_n\n",
        "print(S_n)\n",
        "##forma con formula\n",
        "formula = 1/12*(2*n**6+6*n**5+5*n**4-n**2)\n",
        "formula"
      ],
      "execution_count": 52,
      "outputs": [
        {
          "output_type": "stream",
          "text": [
            "171708332500\n"
          ],
          "name": "stdout"
        },
        {
          "output_type": "execute_result",
          "data": {
            "text/plain": [
              "171708332500.0"
            ]
          },
          "metadata": {
            "tags": []
          },
          "execution_count": 52
        }
      ]
    },
    {
      "cell_type": "code",
      "metadata": {
        "id": "wZakSkFakS22"
      },
      "source": [
        ""
      ],
      "execution_count": null,
      "outputs": []
    }
  ]
}