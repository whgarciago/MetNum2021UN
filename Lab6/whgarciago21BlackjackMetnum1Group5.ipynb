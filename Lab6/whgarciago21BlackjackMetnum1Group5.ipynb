{
  "nbformat": 4,
  "nbformat_minor": 0,
  "metadata": {
    "colab": {
      "name": "whgarciago21BlackjackMetnum1Group5.ipynb",
      "provenance": [],
      "collapsed_sections": []
    },
    "kernelspec": {
      "name": "python3",
      "display_name": "Python 3"
    }
  },
  "cells": [
    {
      "cell_type": "markdown",
      "metadata": {
        "id": "svQ6vQ7VwNqB"
      },
      "source": [
        "# Punto 1"
      ]
    },
    {
      "cell_type": "markdown",
      "metadata": {
        "id": "ydboABjKnfsv"
      },
      "source": [
        "Estimate the probability of getting a 21, the average number of cards required to complete 21 and plot the experimental distribution of the number of card required to complete 21 drawing cards sequentially from a shuffled Spanish 48-card deck with card values [1,2,3,4,5,6,7,10,11,12,1,2,3,4,5,6,7,8,9,10,11,12,1,2,3,4,5,6,7,8,9,10,11,12,1,2,3,4,5,6,7,8,9,10,11,12] and from a shuffled Poker 52-card with card values [1,2,3,4,5,6,7,8,9,10,11,12,13,1,2,3,4,5,6,7,8,9,10,11,12,13,1,2,3,4,5,6,7,8,9,10,11,12,13,1,2,3,4,5,6,7,8,9,10,11,12,13] using Montecarlo with 10 millions simulations.\n",
        "A n-card deck is shuffled if t all possible n! decks have equal probability 1/n! or equivalently if when choosing any card of the shuffled deck all n cards have the same probability 1/n of appearing.\n",
        "Hint: Instead of shuffling the card deck an drawing sequentially it is equivalent to have a sorted list representing the cards and draw cards randomly located from that list with random.choice(list).\n"
      ]
    },
    {
      "cell_type": "code",
      "metadata": {
        "id": "V44aczx9wISR"
      },
      "source": [
        "import random as r\n",
        "import matplotlib.pyplot as plt"
      ],
      "execution_count": null,
      "outputs": []
    },
    {
      "cell_type": "markdown",
      "metadata": {
        "id": "9kA_R5c-wjyx"
      },
      "source": [
        "# Spanish Deck"
      ]
    },
    {
      "cell_type": "code",
      "metadata": {
        "id": "3YuMqij-nwxL",
        "colab": {
          "base_uri": "https://localhost:8080/",
          "height": 313
        },
        "outputId": "733450f2-acac-465f-eebe-e81463d652ea"
      },
      "source": [
        "##########\n",
        "#### 10million simulations\n",
        "s = 10000000\n",
        "num21 = 0 ##cantidad de veces que la mano llega a 21\n",
        "numcards21 = 0 ##numero de cartas cuando se llega a 21\n",
        "listnumcards21 = []\n",
        "for i in range(s):\n",
        "  Deck = [1,2,3,4,5,6,7,10,11,12,1,2,3,4,5,6,7,8,9,10,11,12,1,2,3,4,5,6,7,8,9,10,11,12,1,2,3,4,5,6,7,8,9,10,11,12]\n",
        "  count = 0 ##valor de mano\n",
        "  cards = 0 ##numero de cartas sacadas\n",
        "  while count <21: ##repite mientras el valor de a mano no exceda 21\n",
        "    cards +=1\n",
        "    card = r.choice(Deck)\n",
        "    count += card\n",
        "    Deck.remove(card)\n",
        "  if count == 21:\n",
        "      num21 +=1\n",
        "      numcards21 += cards\n",
        "      listnumcards21.append(cards)\n",
        "\n",
        "plt.hist(listnumcards21,density=True,bins=max(listnumcards21)-min(listnumcards21))\n",
        "plt.xlabel('Número de cartas')\n",
        "plt.ylabel('Probabilidad')\n",
        "plt.show()\n",
        "\n",
        "print (\"Probabilidad de sacar 21\", num21/s)\n",
        "print (\"Número promedio de cartas para sacar 21\", numcards21/ num21)"
      ],
      "execution_count": null,
      "outputs": [
        {
          "output_type": "display_data",
          "data": {
            "image/png": "[encoded data removed]",
            "text/plain": [
              "<Figure size 432x288 with 1 Axes>"
            ]
          },
          "metadata": {
            "tags": [],
            "needs_background": "light"
          }
        },
        {
          "output_type": "stream",
          "text": [
            "Probabilidad de sacar 21 0.1585123\n",
            "Número promedio de cartas para sacar 21 3.4763674490875474\n"
          ],
          "name": "stdout"
        }
      ]
    },
    {
      "cell_type": "markdown",
      "metadata": {
        "id": "heZ4WqnT0xVR"
      },
      "source": [
        "# Poker Deck"
      ]
    },
    {
      "cell_type": "code",
      "metadata": {
        "colab": {
          "base_uri": "https://localhost:8080/",
          "height": 313
        },
        "id": "HFlkKlVAx2ge",
        "outputId": "62979fff-74cd-4963-d7d8-196c4680ae61"
      },
      "source": [
        "##########\n",
        "#### 10million simulations\n",
        "s = 10000000\n",
        "num21 = 0 ##cantidad de veces que la mano llega a 21\n",
        "numcards21 = 0 ##numero de cartas cuando se llega a 21\n",
        "listnumcards21 = []\n",
        "for i in range(s):\n",
        "  Deck = [1,2,3,4,5,6,7,10,11,12,13,1,2,3,4,5,6,7,8,9,10,11,12,13,1,2,3,4,5,6,7,8,9,10,11,12,13,1,2,3,4,5,6,7,8,9,10,11,12,13]\n",
        "  count = 0 ##valor de mano\n",
        "  cards = 0 ##numero de cartas sacadas\n",
        "  while count <21: ##repite mientras el valor de a mano no exceda 21\n",
        "    cards +=1\n",
        "    card = r.choice(Deck)\n",
        "    count += card\n",
        "    Deck.remove(card)\n",
        "  if count == 21:\n",
        "      num21 +=1\n",
        "      numcards21 += cards\n",
        "      listnumcards21.append(cards)\n",
        "\n",
        "plt.hist(listnumcards21,density=True,bins=max(listnumcards21)-min(listnumcards21))\n",
        "plt.xlabel('Número de cartas')\n",
        "plt.ylabel('Probabilidad')\n",
        "plt.show()\n",
        "\n",
        "print (\"Probabilidad de sacar 21\", num21/s)\n",
        "print (\"Número promedio de cartas para sacar 21\", numcards21/ num21)"
      ],
      "execution_count": null,
      "outputs": [
        {
          "output_type": "display_data",
          "data": {
            "image/png": "[encoded data removed]",
            "text/plain": [
              "<Figure size 432x288 with 1 Axes>"
            ]
          },
          "metadata": {
            "tags": [],
            "needs_background": "light"
          }
        },
        {
          "output_type": "stream",
          "text": [
            "Probabilidad de sacar 21 0.143078\n",
            "Número promedio de cartas para sacar 21 3.2806273501167196\n"
          ],
          "name": "stdout"
        }
      ]
    },
    {
      "cell_type": "markdown",
      "metadata": {
        "id": "cDUaZW0uzsjh"
      },
      "source": [
        "# Punto 2"
      ]
    },
    {
      "cell_type": "markdown",
      "metadata": {
        "id": "28lS6lTczu34"
      },
      "source": [
        "Estimate the probability of getting a 21, the average number of cards required to complete 21 and plot the experimental distribution of the number of card required to complete 21 drawing cards sequentially from a shuffled Spanish 48-card deck with card values [1,2,3,4,5,6,7,10,10,10,1,2,3,4,5,6,7,8,9,10,10,10,1,2,3,4,5,6,7,8,9,10,10,10,1,2,3,4,5,6,7,8,9,10,10,10] and from a shuffled Poker 52-card deck with card values [1,2,3,4,5,6,7,8,9,10,11,12,13,1,2,3,4,5,6,7,8,9,10,10,10,10,1,2,3,4,5,6,7,8,9,10,10,10,10,1,2,3,4,5,6,7,8,9,10,10,10,10] using Montecarlo with 10 millions simulations."
      ]
    },
    {
      "cell_type": "markdown",
      "metadata": {
        "id": "wkqCHDl8z_eh"
      },
      "source": [
        "# Spanish Deck"
      ]
    },
    {
      "cell_type": "code",
      "metadata": {
        "id": "WY0spNRKz0Fp",
        "colab": {
          "base_uri": "https://localhost:8080/",
          "height": 313
        },
        "outputId": "9cdf8986-cd7e-4896-b2e0-f75f5ac59db4"
      },
      "source": [
        "##########\n",
        "#### 10million simulations\n",
        "s = 10000000\n",
        "num21 = 0 ##cantidad de veces que la mano llega a 21\n",
        "numcards21 = 0 ##numero de cartas cuando se llega a 21\n",
        "listnumcards21 = []\n",
        "for i in range(s):\n",
        "  Deck = [1,2,3,4,5,6,7,8,9,10,10,10,1,2,3,4,5,6,7,8,9,10,10,10,1,2,3,4,5,6,7,8,9,10,10,10,1,2,3,4,5,6,7,8,9,10,10,10]\n",
        "  count = 0 ##valor de mano\n",
        "  cards = 0 ##numero de cartas sacadas\n",
        "  while count <21: ##repite mientras el valor de a mano no exceda 21\n",
        "    cards +=1\n",
        "    card = r.choice(Deck)\n",
        "    count += card\n",
        "    Deck.remove(card)\n",
        "  if count == 21:\n",
        "      num21 +=1\n",
        "      numcards21 += cards\n",
        "      listnumcards21.append(cards)\n",
        "\n",
        "plt.hist(listnumcards21,density=True,bins=max(listnumcards21)-min(listnumcards21))\n",
        "plt.xlabel('Número de cartas')\n",
        "plt.ylabel('Probabilidad')\n",
        "plt.show()\n",
        "\n",
        "print (\"Probabilidad de sacar 21\", num21/s)\n",
        "print (\"Número promedio de cartas para sacar 21\", numcards21/ num21)"
      ],
      "execution_count": null,
      "outputs": [
        {
          "output_type": "display_data",
          "data": {
            "image/png": "[encoded data removed]",
            "text/plain": [
              "<Figure size 432x288 with 1 Axes>"
            ]
          },
          "metadata": {
            "tags": [],
            "needs_background": "light"
          }
        },
        {
          "output_type": "stream",
          "text": [
            "Probabilidad de sacar 21 0.1496489\n",
            "Número promedio de cartas para sacar 21 3.6972520345956434\n"
          ],
          "name": "stdout"
        }
      ]
    },
    {
      "cell_type": "markdown",
      "metadata": {
        "id": "DvcAPPpi06Ao"
      },
      "source": [
        "# Poker Deck"
      ]
    },
    {
      "cell_type": "code",
      "metadata": {
        "id": "K2ZgpMnN061v",
        "colab": {
          "base_uri": "https://localhost:8080/",
          "height": 317
        },
        "outputId": "05eb3577-b8de-4404-ce9a-426a83a12324"
      },
      "source": [
        "##########\n",
        "#### 10million simulations\n",
        "s = 10000000\n",
        "num21 = 0 ##cantidad de veces que la mano llega a 21\n",
        "numcards21 = 0 ##numero de cartas cuando se llega a 21\n",
        "listnumcards21 = []\n",
        "for i in range(s):\n",
        "  Deck = [1,2,3,4,5,6,7,8,9,10,10,10,10,1,2,3,4,5,6,7,8,9,10,10,10,10,1,2,3,4,5,6,7,8,9,10,10,10,10,1,2,3,4,5,6,7,8,9,10,10,10,10]\n",
        "  count = 0 ##valor de mano\n",
        "  cards = 0 ##numero de cartas sacadas\n",
        "  while count <21: ##repite mientras el valor de a mano no exceda 21\n",
        "    cards +=1\n",
        "    card = r.choice(Deck)\n",
        "    count += card\n",
        "    Deck.remove(card)\n",
        "  if count == 21:\n",
        "      num21 +=1\n",
        "      numcards21 += cards\n",
        "      listnumcards21.append(cards)\n",
        "\n",
        "plt.hist(listnumcards21,density=True,bins=max(listnumcards21)-min(listnumcards21))\n",
        "plt.xlabel('Número de cartas')\n",
        "plt.ylabel('Probabilidad')\n",
        "plt.show()\n",
        "\n",
        "print (\"Probabilidad de sacar 21\", num21/s)\n",
        "print (\"Número promedio de cartas para sacar 21\", numcards21/ num21)"
      ],
      "execution_count": null,
      "outputs": [
        {
          "output_type": "display_data",
          "data": {
            "image/png": "[encoded data removed]",
            "text/plain": [
              "<Figure size 432x288 with 1 Axes>"
            ]
          },
          "metadata": {
            "tags": [],
            "needs_background": "light"
          }
        },
        {
          "output_type": "stream",
          "text": [
            "Probabilidad de sacar 21 0.1401644\n",
            "Número promedio de cartas para sacar 21 3.5784821252757477\n"
          ],
          "name": "stdout"
        }
      ]
    },
    {
      "cell_type": "markdown",
      "metadata": {
        "id": "ObjGdIT11Fem"
      },
      "source": [
        "# Punto 3"
      ]
    },
    {
      "cell_type": "markdown",
      "metadata": {
        "id": "paMjxb4s1Ooo"
      },
      "source": [
        "Estimate the probability of getting a 21, the average total number of cards required to complete 21 and lot the experimental distribution of the number of card required to complete 21; assuming that you have in your hand the cards [7,7,5] and the remaining deck has n/2 cards for the regular Spanish 48-card deck and the Poker 52-card decks. You can pick the n/2 cards in the remaining deck in whatever way you choose but with restriction that this has maximum two 7s and three 5, you have to keep the remaining deck fixed through the Montecarlo simulations, use 10 million simulations."
      ]
    },
    {
      "cell_type": "markdown",
      "metadata": {
        "id": "_UXM_s2m1Vfg"
      },
      "source": [
        "# Spanish Deck"
      ]
    },
    {
      "cell_type": "code",
      "metadata": {
        "id": "dQeW4Faq1X14",
        "colab": {
          "base_uri": "https://localhost:8080/",
          "height": 314
        },
        "outputId": "12881ba6-e253-43a5-fa2b-e43d9efc183f"
      },
      "source": [
        "##########\n",
        "#### 10million simulations\n",
        "s = 10000000\n",
        "num21 = 0 ##cantidad de veces que la mano llega a 21\n",
        "numcards21 = 0 ##numero de cartas cuando se llega a 21\n",
        "listnumcards21 = []\n",
        "for i in range(s):\n",
        "  Deck = [1,2,3,4,6,8,9,10,11,12,1,2,3,4,5,6,8,9,10,11,12,1,2,3,4,5,6,7,8,9,10,11,12,1,2,3,4,5,6,7,8,9,10,11,12]\n",
        "  count = 19 ##valor de mano\n",
        "  cards = 0 ##numero de cartas sacadas\n",
        "  while len(Deck) >24:\n",
        "    Deck.remove(r.choice(Deck))\n",
        "  while count <21: ##repite mientras el valor de a mano no exceda 21\n",
        "    cards +=1\n",
        "    card = r.choice(Deck)\n",
        "    count += card\n",
        "    Deck.remove(card)\n",
        "  if count == 21:\n",
        "      num21 +=1\n",
        "      numcards21 += cards\n",
        "      listnumcards21.append(cards)\n",
        "\n",
        "plt.hist(listnumcards21,density=True,bins = 2)\n",
        "plt.xlabel('Número de cartas')\n",
        "plt.ylabel('Probabilidad')\n",
        "plt.show()\n",
        "\n",
        "print (\"Probabilidad de sacar 21\", num21/s)\n",
        "print (\"Número promedio de cartas para sacar 21\", numcards21/ num21)"
      ],
      "execution_count": null,
      "outputs": [
        {
          "output_type": "display_data",
          "data": {
            "image/png": "[encoded data removed]",
            "text/plain": [
              "<Figure size 432x288 with 1 Axes>"
            ]
          },
          "metadata": {
            "tags": [],
            "needs_background": "light"
          }
        },
        {
          "output_type": "stream",
          "text": [
            "Probabilidad de sacar 21 0.0948552\n",
            "Número promedio de cartas para sacar 21 1.0638615489714849\n"
          ],
          "name": "stdout"
        }
      ]
    },
    {
      "cell_type": "markdown",
      "metadata": {
        "id": "JFvRCSzn1erw"
      },
      "source": [
        "# Poker Deck"
      ]
    },
    {
      "cell_type": "code",
      "metadata": {
        "id": "opuQueg51hs3",
        "colab": {
          "base_uri": "https://localhost:8080/",
          "height": 314
        },
        "outputId": "159d7615-eaf9-46d2-e787-6e05102d79c0"
      },
      "source": [
        "##########\n",
        "#### 10million simulations\n",
        "s = 10000000\n",
        "num21 = 0 ##cantidad de veces que la mano llega a 21\n",
        "numcards21 = 0 ##numero de cartas cuando se llega a 21\n",
        "listnumcards21 = []\n",
        "for i in range(s):\n",
        "  Deck = [1,2,3,4,6,8,9,10,10,10,10,1,2,3,4,5,6,8,9,10,10,10,10,1,2,3,4,5,6,7,8,9,10,10,10,10,1,2,3,4,5,6,7,8,9,10,10,10,10]\n",
        "  count = 19 ##valor de mano\n",
        "  cards = 0 ##numero de cartas sacadas\n",
        "  while len(Deck) >26:\n",
        "    Deck.remove(r.choice(Deck))\n",
        "  while count <21: ##repite mientras el valor de a mano no exceda 21\n",
        "    cards +=1\n",
        "    card = r.choice(Deck)\n",
        "    count += card\n",
        "    Deck.remove(card)\n",
        "  if count == 21:\n",
        "      num21 +=1\n",
        "      numcards21 += cards\n",
        "      listnumcards21.append(cards)\n",
        "\n",
        "plt.hist(listnumcards21,density=True,bins = 2)\n",
        "plt.xlabel('Número de cartas')\n",
        "plt.ylabel('Probabilidad')\n",
        "plt.show()\n",
        "\n",
        "print (\"Probabilidad de sacar 21\", num21/s)\n",
        "print (\"Número promedio de cartas para sacar 21\", numcards21/ num21)"
      ],
      "execution_count": null,
      "outputs": [
        {
          "output_type": "display_data",
          "data": {
            "image/png": "[encoded data removed]",
            "text/plain": [
              "<Figure size 432x288 with 1 Axes>"
            ]
          },
          "metadata": {
            "tags": [],
            "needs_background": "light"
          }
        },
        {
          "output_type": "stream",
          "text": [
            "Probabilidad de sacar 21 0.0867372\n",
            "Número promedio de cartas para sacar 21 1.0589389558344056\n"
          ],
          "name": "stdout"
        }
      ]
    },
    {
      "cell_type": "markdown",
      "metadata": {
        "id": "WM1sUpPA1kOn"
      },
      "source": [
        "# Punto 4"
      ]
    },
    {
      "cell_type": "markdown",
      "metadata": {
        "id": "yIOiIDNV3DvG"
      },
      "source": [
        "Estimate and calculate analytically the probability of getting a 21, the average total number of cards required to complete 21 and the experimental distribution of the number of card required to complete 21; assuming that you have in your hand the cards [7,7,5] and the remaining deck has two possible sets of 8 cards for the regular Spanish 48-card deck and the Poker 52-card decks. The two possible remaining decks are a (hot deck) that contains four 1 cards and four 2 cards a (cold deck) with no 1 or 2 cards, for the estimations use Montecarlo with 10 million simulations."
      ]
    },
    {
      "cell_type": "markdown",
      "metadata": {
        "id": "xQpjwTxZ1n04"
      },
      "source": [
        "# Spanish Deck (Hot Deck)"
      ]
    },
    {
      "cell_type": "code",
      "metadata": {
        "id": "rkadkA321pkP",
        "colab": {
          "base_uri": "https://localhost:8080/",
          "height": 313
        },
        "outputId": "a97892d2-2d5a-41da-e1ff-92cab1253d3a"
      },
      "source": [
        "##########\n",
        "#### 10million simulations\n",
        "s = 10000000\n",
        "num21 = 0 ##cantidad de veces que la mano llega a 21\n",
        "numcards21 = 0 ##numero de cartas cuando se llega a 21\n",
        "listnumcards21 = []\n",
        "for i in range(s):\n",
        "  Deck = [1,1,1,1,2,2,2,2]\n",
        "  count = 19 ##valor de mano [7,7,5]\n",
        "  cards = 0 ##numero de cartas sacadas\n",
        "  while count <21: ##repite mientras el valor de a mano no exceda 21\n",
        "    cards +=1\n",
        "    card = r.choice(Deck)\n",
        "    count += card\n",
        "    Deck.remove(card)\n",
        "  if count == 21:\n",
        "      num21 +=1\n",
        "      numcards21 += cards\n",
        "      listnumcards21.append(cards)\n",
        "\n",
        "plt.hist(listnumcards21,density=True,bins = 2)\n",
        "plt.xlabel('Número de cartas')\n",
        "plt.ylabel('Probabilidad')\n",
        "plt.show()\n",
        "\n",
        "print (\"Probabilidad de sacar 21\", num21/s)\n",
        "print (\"Número promedio de cartas para sacar 21\", numcards21/ num21)"
      ],
      "execution_count": null,
      "outputs": [
        {
          "output_type": "display_data",
          "data": {
            "image/png": "[encoded data removed]",
            "text/plain": [
              "<Figure size 432x288 with 1 Axes>"
            ]
          },
          "metadata": {
            "tags": [],
            "needs_background": "light"
          }
        },
        {
          "output_type": "stream",
          "text": [
            "Probabilidad de sacar 21 0.7142026\n",
            "Número promedio de cartas para sacar 21 1.3001926904214574\n"
          ],
          "name": "stdout"
        }
      ]
    },
    {
      "cell_type": "markdown",
      "metadata": {
        "id": "udgcejhp1TYx"
      },
      "source": [
        "# Spanish Deck (Cold Deck)"
      ]
    },
    {
      "cell_type": "code",
      "metadata": {
        "colab": {
          "base_uri": "https://localhost:8080/",
          "height": 347
        },
        "id": "wa-tyaOu1dRY",
        "outputId": "fc12d21b-42a6-47af-e48c-6d128caa0a40"
      },
      "source": [
        "##########\n",
        "#### 10million simulations\n",
        "s = 10000000\n",
        "num21 = 0 ##cantidad de veces que la mano llega a 21\n",
        "numcards21 = 0 ##numero de cartas cuando se llega a 21\n",
        "listnumcards21 = []\n",
        "for i in range(s):\n",
        "  Deck = [3,4,5,6,7,8,9,10,11,12,3,4,5,6,7,8,9,10,11,12,3,4,5,6,7,8,9,10,11,12,3,4,5,6,7,8,9,10,11,12]# not 1s or 2s in the deck\n",
        "  count = 19 ##valor de mano [7,7,5]\n",
        "  cards = 0 ##numero de cartas sacadas\n",
        "  while count <21: ##repite mientras el valor de a mano no exceda 21\n",
        "    cards +=1\n",
        "    card = r.choice(Deck)\n",
        "    count += card\n",
        "    Deck.remove(card)\n",
        "  if count == 21:\n",
        "      num21 +=1\n",
        "      numcards21 += cards\n",
        "      listnumcards21.append(cards)\n",
        "\n",
        "plt.hist(listnumcards21,density=True,bins = 2)\n",
        "plt.xlabel('Número de cartas')\n",
        "plt.ylabel('Probabilidad')\n",
        "plt.show()\n",
        "\n",
        "print (\"Probabilidad de sacar 21\", num21/s)\n",
        "print (\"Número promedio de cartas para sacar 21:\", 0)"
      ],
      "execution_count": null,
      "outputs": [
        {
          "output_type": "stream",
          "text": [
            "/usr/local/lib/python3.7/dist-packages/numpy/lib/histograms.py:905: RuntimeWarning: invalid value encountered in true_divide\n",
            "  return n/db/n.sum(), bin_edges\n"
          ],
          "name": "stderr"
        },
        {
          "output_type": "display_data",
          "data": {
            "image/png": "[encoded data removed]",
            "text/plain": [
              "<Figure size 432x288 with 1 Axes>"
            ]
          },
          "metadata": {
            "tags": [],
            "needs_background": "light"
          }
        },
        {
          "output_type": "stream",
          "text": [
            "Probabilidad de sacar 21 0.0\n",
            "Número promedio de cartas para sacar 21: 0\n"
          ],
          "name": "stdout"
        }
      ]
    },
    {
      "cell_type": "markdown",
      "metadata": {
        "id": "HGGirdG_1r54"
      },
      "source": [
        "# Poker Deck (Hot Deck)"
      ]
    },
    {
      "cell_type": "code",
      "metadata": {
        "id": "SAsOXYoP1snQ",
        "colab": {
          "base_uri": "https://localhost:8080/",
          "height": 313
        },
        "outputId": "932ae201-abfa-4afb-b31e-d6f92cf660ad"
      },
      "source": [
        "##########\n",
        "#### 10million simulations\n",
        "s = 10000000\n",
        "num21 = 0 ##cantidad de veces que la mano llega a 21\n",
        "numcards21 = 0 ##numero de cartas cuando se llega a 21\n",
        "listnumcards21 = []\n",
        "for i in range(s):\n",
        "  Deck = [1,1,1,1,2,2,2,2]\n",
        "  count = 19 ##valor de mano [7,7,5]\n",
        "  cards = 0 ##numero de cartas sacadas\n",
        "  while count <21: ##repite mientras el valor de a mano no exceda 21\n",
        "    cards +=1\n",
        "    card = r.choice(Deck)\n",
        "    count += card\n",
        "    Deck.remove(card)\n",
        "  if count == 21:\n",
        "      num21 +=1\n",
        "      numcards21 += cards\n",
        "      listnumcards21.append(cards)\n",
        "\n",
        "plt.hist(listnumcards21,density=True,bins = 2)\n",
        "plt.xlabel('Número de cartas')\n",
        "plt.ylabel('Probabilidad')\n",
        "plt.show()\n",
        "\n",
        "print (\"Probabilidad de sacar 21\", num21/s)\n",
        "print (\"Número promedio de cartas para sacar 21\", numcards21/ num21)"
      ],
      "execution_count": null,
      "outputs": [
        {
          "output_type": "display_data",
          "data": {
            "image/png": "[encoded data removed]",
            "text/plain": [
              "<Figure size 432x288 with 1 Axes>"
            ]
          },
          "metadata": {
            "tags": [],
            "needs_background": "light"
          }
        },
        {
          "output_type": "stream",
          "text": [
            "Probabilidad de sacar 21 0.7143624\n",
            "Número promedio de cartas para sacar 21 1.3001685139083468\n"
          ],
          "name": "stdout"
        }
      ]
    },
    {
      "cell_type": "markdown",
      "metadata": {
        "id": "FccVQjC91cmQ"
      },
      "source": [
        "# Poker Deck (Cold Deck)"
      ]
    },
    {
      "cell_type": "code",
      "metadata": {
        "colab": {
          "base_uri": "https://localhost:8080/",
          "height": 347
        },
        "id": "dffRrEhQ1drw",
        "outputId": "d930783f-4bdd-4304-ede9-8fca904f6a7f"
      },
      "source": [
        "##########\n",
        "#### 10million simulations\n",
        "s = 10000000\n",
        "num21 = 0 ##cantidad de veces que la mano llega a 21\n",
        "numcards21 = 0 ##numero de cartas cuando se llega a 21\n",
        "listnumcards21 = []\n",
        "for i in range(s):\n",
        "  Deck = [3,4,5,6,7,8,9,10,10,10,10,3,4,5,6,7,8,9,10,10,10,10,3,4,5,6,7,8,9,10,10,10,10,3,4,5,6,7,8,9,10,10,10,10]# not 1s or 2s in the deck\n",
        "  count = 19 ##valor de mano [7,7,5]\n",
        "  cards = 0 ##numero de cartas sacadas\n",
        "  while count <21: ##repite mientras el valor de a mano no exceda 21\n",
        "    cards +=1\n",
        "    card = r.choice(Deck)\n",
        "    count += card\n",
        "    Deck.remove(card)\n",
        "  if count == 21:\n",
        "      num21 +=1\n",
        "      numcards21 += cards\n",
        "      listnumcards21.append(cards)\n",
        "\n",
        "plt.hist(listnumcards21,density=True,bins = 2)\n",
        "plt.xlabel('Número de cartas')\n",
        "plt.ylabel('Probabilidad')\n",
        "plt.show()\n",
        "\n",
        "print (\"Probabilidad de sacar 21\", num21/s)\n",
        "print (\"Número promedio de cartas para sacar 21:\", 0)"
      ],
      "execution_count": null,
      "outputs": [
        {
          "output_type": "stream",
          "text": [
            "/usr/local/lib/python3.7/dist-packages/numpy/lib/histograms.py:905: RuntimeWarning: invalid value encountered in true_divide\n",
            "  return n/db/n.sum(), bin_edges\n"
          ],
          "name": "stderr"
        },
        {
          "output_type": "display_data",
          "data": {
            "image/png": "[encoded data removed]",
            "text/plain": [
              "<Figure size 432x288 with 1 Axes>"
            ]
          },
          "metadata": {
            "tags": [],
            "needs_background": "light"
          }
        },
        {
          "output_type": "stream",
          "text": [
            "Probabilidad de sacar 21 0.0\n",
            "Número promedio de cartas para sacar 21: 0\n"
          ],
          "name": "stdout"
        }
      ]
    },
    {
      "cell_type": "markdown",
      "metadata": {
        "id": "aUSE0UlQ1ud4"
      },
      "source": [
        "# Punto 5"
      ]
    },
    {
      "cell_type": "markdown",
      "metadata": {
        "id": "VxwLh-YZ3FkP"
      },
      "source": [
        "Estimate the average amount of money (expected value) that Ben wins or losses on a weekend if Ben goes to Vegas every weekend (Friday, Saturday and Sunday), plays every weekend day 10 hours, each game takes 3 mins. Assume that for each game he gets two possibilities, in one he gets in his hand the cards [7,7,5] and a remaining hot deck with 8 cards in which case he bets $1000 this happens with probability 1/10; in the other one he gets no cards in his hand a complete shuffled deck in which case he bets $10, this happens with the remaining probability 9/10. Use 10000 Montecarlo simulations to estimated the expected amount of money that Ben wins or losses on a weekend for the Spanish 48-card deck and for a Poker 52-card deck."
      ]
    },
    {
      "cell_type": "markdown",
      "metadata": {
        "id": "HfYeRoYw1ydJ"
      },
      "source": [
        "# Spanish Deck"
      ]
    },
    {
      "cell_type": "code",
      "metadata": {
        "colab": {
          "base_uri": "https://localhost:8080/"
        },
        "id": "tG8-ZLyA3V2r",
        "outputId": "e41e5747-ea6c-4888-de25-867628a5d735"
      },
      "source": [
        "averagewinnings=0\n",
        "for j in range(10000):\n",
        "  wekeend_days=3\n",
        "  hours_a_day=10\n",
        "  games_per_hour=20\n",
        "  total_tries=wekeend_days*hours_a_day*games_per_hour\n",
        "  n = total_tries\n",
        "  counth=0\n",
        "  counthtries=0\n",
        "  countc=0\n",
        "  countctries=0\n",
        "  avcnch=0\n",
        "  avcncc=0\n",
        "  mnc21h=[]\n",
        "  mnc21c=[]\n",
        "  for i in range (n):\n",
        "    aleatorio = r.random()\n",
        "    if (aleatorio < 0.1):\n",
        "      deck= [1,1,1,1,2,2,2,2] # \"Hot Deck\"\n",
        "      my_cards=[7,7,5]\n",
        "      nc=3\n",
        "      counthtries +=1\n",
        "      while (sum(my_cards)<21):\n",
        "        card = r.choice(deck)\n",
        "        my_cards.append(card)\n",
        "        deck.remove(card)\n",
        "        nc+= 1\n",
        "      if (sum(my_cards)==21):\n",
        "        counth +=1\n",
        "        avcnch = avcnch + nc\n",
        "        mnc21h.append(nc)\n",
        "    else:\n",
        "      deck= [1,2,3,4,5,6,7,8,9,10,11,12,1,2,3,4,5,6,7,8,9,10,11,12,1,2,3,4,5,6,7,8,9,10,11,12,1,2,3,4,5,6,7,8,9,10,11,12] # \"Cold Deck\"\n",
        "      my_cards=[]\n",
        "      nc=0\n",
        "      countctries +=1\n",
        "      while (sum(my_cards)<21):\n",
        "        card = r.choice(deck)\n",
        "        my_cards.append(card)\n",
        "        deck.remove(card)\n",
        "        nc+= 1\n",
        "      if (sum(my_cards)==21):\n",
        "        countc +=1\n",
        "        avcncc = avcncc + nc\n",
        "        mnc21c.append(nc)\n",
        "    \n",
        "print(\"Probabibilidad de tener 21 para Hot Deck es de :\",counth/counthtries,\"\\n\",\n",
        "      \"Cartas promedio por mano: \",avcnch/counth,\"\\n\", \n",
        "      \"Máximo número de cartas para tener 21: \",max(mnc21h),\"\\n\",\n",
        "      \"Número de intentos: \",counthtries,\"\\n\")\n",
        "      \n",
        "print(\"Probabibilidad de tener 21 para Cold Deck es de :\", countc/countctries,\"\\n\",\n",
        "      \"Cartas promedio por mano: \", avcncc/countc,\"\\n\",\n",
        "      \"Máximo número de cartas para tener 21: \",max(mnc21c),\"\\n\",\n",
        "      \"Número de intentos: \",countctries,\"\\n\")\n",
        "      \n",
        "averagewinnings=((1000*counth-1000*(counthtries-counth))+(10*countc-10*(countctries-countc)))\n",
        "\n",
        "print(\"Ben gana $\",averagewinnings)"
      ],
      "execution_count": null,
      "outputs": [
        {
          "output_type": "stream",
          "text": [
            "Probabibilidad de tener 21 para Hot Deck es de : 0.7719298245614035 \n",
            " Cartas promedio por mano:  4.2727272727272725 \n",
            " Máximo número de cartas para tener 21:  5 \n",
            " Número de intentos:  57 \n",
            "\n",
            "Probabibilidad de tener 21 para Cold Deck es de : 0.1270718232044199 \n",
            " Cartas promedio por mano:  3.5652173913043477 \n",
            " Máximo número de cartas para tener 21:  7 \n",
            " Número de intentos:  543 \n",
            "\n",
            "Ben gana $ 26950\n"
          ],
          "name": "stdout"
        }
      ]
    },
    {
      "cell_type": "markdown",
      "metadata": {
        "id": "lVcza0iP10ng"
      },
      "source": [
        "# Poker Deck"
      ]
    },
    {
      "cell_type": "code",
      "metadata": {
        "id": "4OReg0h112EA",
        "colab": {
          "base_uri": "https://localhost:8080/"
        },
        "outputId": "b1d0f818-a599-4565-d319-f1e6c3c6fa56"
      },
      "source": [
        "averagewinnings=0\n",
        "for j in range(10000):\n",
        "  wekeend_days=3\n",
        "  hours_a_day=10\n",
        "  games_per_hour=20\n",
        "  total_tries=wekeend_days*hours_a_day*games_per_hour\n",
        "  n = total_tries\n",
        "  counth=0\n",
        "  counthtries=0\n",
        "  countc=0\n",
        "  countctries=0\n",
        "  avcnch=0\n",
        "  avcncc=0\n",
        "  mnc21h=[]\n",
        "  mnc21c=[]\n",
        "  for i in range (n):\n",
        "    aleatorio = r.random()\n",
        "    if (aleatorio < 0.1):\n",
        "      deck= [1,1,1,1,2,2,2,2] # \"Hot Deck\"\n",
        "      my_cards=[7,7,5]\n",
        "      nc=3\n",
        "      counthtries +=1\n",
        "      while (sum(my_cards)<21):\n",
        "        card = r.choice(deck)\n",
        "        my_cards.append(card)\n",
        "        deck.remove(card)\n",
        "        nc+= 1\n",
        "      if (sum(my_cards)==21):\n",
        "        counth +=1\n",
        "        avcnch = avcnch + nc\n",
        "        mnc21h.append(nc)\n",
        "    else:\n",
        "      deck= [1,2,3,4,5,6,7,8,9,10,10,10,10,1,2,3,4,5,6,7,8,9,10,10,10,10,1,2,3,4,5,6,7,8,9,10,10,10,10,1,2,3,4,5,6,7,8,9,10,10,10,10] # \"Cold Deck\"\n",
        "      my_cards=[]\n",
        "      nc=0\n",
        "      countctries +=1\n",
        "      while (sum(my_cards)<21):\n",
        "        card = r.choice(deck)\n",
        "        my_cards.append(card)\n",
        "        deck.remove(card)\n",
        "        nc+= 1\n",
        "      if (sum(my_cards)==21):\n",
        "        countc +=1\n",
        "        avcncc = avcncc + nc\n",
        "        mnc21c.append(nc)\n",
        "    \n",
        "print(\"Probabibilidad de tener 21 para Hot Deck es de :\",counth/counthtries,\"\\n\",\n",
        "      \"Cartas promedio por mano: \",avcnch/counth,\"\\n\", \n",
        "      \"Máximo número de cartas para tener 21: \",max(mnc21h),\"\\n\",\n",
        "      \"Número de intentos: \",counthtries,\"\\n\")\n",
        "      \n",
        "print(\"Probabibilidad de tener 21 para Cold Deck es de :\", countc/countctries,\"\\n\",\n",
        "      \"Cartas promedio por mano: \", avcncc/countc,\"\\n\",\n",
        "      \"Máximo número de cartas para tener 21: \",max(mnc21c),\"\\n\",\n",
        "      \"Número de intentos: \",countctries,\"\\n\")\n",
        "      \n",
        "averagewinnings=((1000*counth-1000*(counthtries-counth))+(10*countc-10*(countctries-countc)))\n",
        "\n",
        "print(\"Ben gana $\",averagewinnings)"
      ],
      "execution_count": null,
      "outputs": [
        {
          "output_type": "stream",
          "text": [
            "Probabibilidad de tener 21 para Hot Deck es de : 0.6379310344827587 \n",
            " Cartas promedio por mano:  4.297297297297297 \n",
            " Máximo número de cartas para tener 21:  5 \n",
            " Número de intentos:  58 \n",
            "\n",
            "Probabibilidad de tener 21 para Cold Deck es de : 0.13837638376383765 \n",
            " Cartas promedio por mano:  3.6666666666666665 \n",
            " Máximo número de cartas para tener 21:  7 \n",
            " Número de intentos:  542 \n",
            "\n",
            "Ben gana $ 12080\n"
          ],
          "name": "stdout"
        }
      ]
    },
    {
      "cell_type": "markdown",
      "metadata": {
        "id": "nsRllgCz2W64"
      },
      "source": [
        "# Punto 6"
      ]
    },
    {
      "cell_type": "markdown",
      "metadata": {
        "id": "EN7wXUU83nJw"
      },
      "source": [
        "Extra credit (one class participation). Calculate analytically the average amount of money (expected values) that Ben wins or losses on a weekend for a Spanish 48-card deck with 3 10’s and for a Poker 52-card deck with 4 10’s."
      ]
    },
    {
      "cell_type": "markdown",
      "metadata": {
        "id": "XA1I2ivB2aah"
      },
      "source": [
        "# Spanish Deck"
      ]
    },
    {
      "cell_type": "code",
      "metadata": {
        "id": "8PWMdYTm2a9H",
        "colab": {
          "base_uri": "https://localhost:8080/"
        },
        "outputId": "85f9300d-6134-4a77-df04-f3133848da6d"
      },
      "source": [
        "averagewinnings=0\n",
        "for j in range(10000):\n",
        "  wekeend_days=3\n",
        "  hours_a_day=10\n",
        "  games_per_hour=20\n",
        "  total_tries=wekeend_days*hours_a_day*games_per_hour\n",
        "  n = total_tries\n",
        "  counth=0\n",
        "  counthtries=0\n",
        "  countc=0\n",
        "  countctries=0\n",
        "  avcnch=0\n",
        "  avcncc=0\n",
        "  mnc21h=[]\n",
        "  mnc21c=[]\n",
        "  for i in range (n):\n",
        "    aleatorio = r.random()\n",
        "    if (aleatorio < 0.1):\n",
        "      deck= [1,1,1,1,2,2,2,2] # \"Hot Deck\"\n",
        "      my_cards=[7,7,5]\n",
        "      nc=3\n",
        "      counthtries +=1\n",
        "      while (sum(my_cards)<21):\n",
        "        card = r.choice(deck)\n",
        "        my_cards.append(card)\n",
        "        deck.remove(card)\n",
        "        nc+= 1\n",
        "      if (sum(my_cards)==21):\n",
        "        counth +=1\n",
        "        avcnch = avcnch + nc\n",
        "        mnc21h.append(nc)\n",
        "    else:\n",
        "      deck= [1,2,3,4,5,6,7,8,9,10,10,10,1,2,3,4,5,6,7,8,9,10,10,10,1,2,3,4,5,6,7,8,9,10,10,10,1,2,3,4,5,6,7,8,9,10,10,10] # \"Cold Deck\"\n",
        "      my_cards=[]\n",
        "      nc=0\n",
        "      countctries +=1\n",
        "      while (sum(my_cards)<21):\n",
        "        card = r.choice(deck)\n",
        "        my_cards.append(card)\n",
        "        deck.remove(card)\n",
        "        nc+= 1\n",
        "      if (sum(my_cards)==21):\n",
        "        countc +=1\n",
        "        avcncc = avcncc + nc\n",
        "        mnc21c.append(nc)\n",
        "    \n",
        "print(\"Probabibilidad de tener 21 para Hot Deck es de :\",counth/counthtries,\"\\n\",\n",
        "      \"Cartas promedio por mano: \",avcnch/counth,\"\\n\", \n",
        "      \"Máximo número de cartas para tener 21: \",max(mnc21h),\"\\n\",\n",
        "      \"Número de intentos: \",counthtries,\"\\n\")\n",
        "      \n",
        "print(\"Probabibilidad de tener 21 para Cold Deck es de :\", countc/countctries,\"\\n\",\n",
        "      \"Cartas promedio por mano: \", avcncc/countc,\"\\n\",\n",
        "      \"Máximo número de cartas para tener 21: \",max(mnc21c),\"\\n\",\n",
        "      \"Número de intentos: \",countctries,\"\\n\")\n",
        "      \n",
        "averagewinnings=((1000*counth-1000*(counthtries-counth))+(10*countc-10*(countctries-countc)))\n",
        "\n",
        "print(\"Ben gana $\",averagewinnings)"
      ],
      "execution_count": null,
      "outputs": [
        {
          "output_type": "stream",
          "text": [
            "Probabibilidad de tener 21 para Hot Deck es de : 0.7407407407407407 \n",
            " Cartas promedio por mano:  4.425 \n",
            " Máximo número de cartas para tener 21:  5 \n",
            " Número de intentos:  54 \n",
            "\n",
            "Probabibilidad de tener 21 para Cold Deck es de : 0.16666666666666666 \n",
            " Cartas promedio por mano:  3.7472527472527473 \n",
            " Máximo número de cartas para tener 21:  6 \n",
            " Número de intentos:  546 \n",
            "\n",
            "Ben gana $ 22360\n"
          ],
          "name": "stdout"
        }
      ]
    },
    {
      "cell_type": "markdown",
      "metadata": {
        "id": "NzMM9phQ2eFQ"
      },
      "source": [
        "# Poker Deck"
      ]
    },
    {
      "cell_type": "code",
      "metadata": {
        "id": "qeKn4_ji2eo3",
        "colab": {
          "base_uri": "https://localhost:8080/"
        },
        "outputId": "c0370b88-4d90-438b-baf0-80c98aefa898"
      },
      "source": [
        "averagewinnings=0\n",
        "for j in range(10000):\n",
        "  wekeend_days=3\n",
        "  hours_a_day=10\n",
        "  games_per_hour=20\n",
        "  total_tries=wekeend_days*hours_a_day*games_per_hour\n",
        "  n = total_tries\n",
        "  counth=0\n",
        "  counthtries=0\n",
        "  countc=0\n",
        "  countctries=0\n",
        "  avcnch=0\n",
        "  avcncc=0\n",
        "  mnc21h=[]\n",
        "  mnc21c=[]\n",
        "  for i in range (n):\n",
        "    aleatorio = r.random()\n",
        "    if (aleatorio < 0.1):\n",
        "      deck= [1,1,1,1,2,2,2,2] # \"Hot Deck\"\n",
        "      my_cards=[7,7,5]\n",
        "      nc=3\n",
        "      counthtries +=1\n",
        "      while (sum(my_cards)<21):\n",
        "        card = r.choice(deck)\n",
        "        my_cards.append(card)\n",
        "        deck.remove(card)\n",
        "        nc+= 1\n",
        "      if (sum(my_cards)==21):\n",
        "        counth +=1\n",
        "        avcnch = avcnch + nc\n",
        "        mnc21h.append(nc)\n",
        "    else:\n",
        "      deck= [1,2,3,4,5,6,7,8,9,10,10,10,10,1,2,3,4,5,6,7,8,9,10,10,10,10,1,2,3,4,5,6,7,8,9,10,10,10,10,1,2,3,4,5,6,7,8,9,10,10,10,10] # \"Cold Deck\"\n",
        "      my_cards=[]\n",
        "      nc=0\n",
        "      countctries +=1\n",
        "      while (sum(my_cards)<21):\n",
        "        card = r.choice(deck)\n",
        "        my_cards.append(card)\n",
        "        deck.remove(card)\n",
        "        nc+= 1\n",
        "      if (sum(my_cards)==21):\n",
        "        countc +=1\n",
        "        avcncc = avcncc + nc\n",
        "        mnc21c.append(nc)\n",
        "    \n",
        "print(\"Probabibilidad de tener 21 para Hot Deck es de :\",counth/counthtries,\"\\n\",\n",
        "      \"Cartas promedio por mano: \",avcnch/counth,\"\\n\", \n",
        "      \"Máximo número de cartas para tener 21: \",max(mnc21h),\"\\n\",\n",
        "      \"Número de intentos: \",counthtries,\"\\n\")\n",
        "      \n",
        "print(\"Probabibilidad de tener 21 para Cold Deck es de :\", countc/countctries,\"\\n\",\n",
        "      \"Cartas promedio por mano: \", avcncc/countc,\"\\n\",\n",
        "      \"Máximo número de cartas para tener 21: \",max(mnc21c),\"\\n\",\n",
        "      \"Número de intentos: \",countctries,\"\\n\")\n",
        "      \n",
        "averagewinnings=((1000*counth-1000*(counthtries-counth))+(10*countc-10*(countctries-countc)))\n",
        "\n",
        "print(\"Ben gana $\",averagewinnings)"
      ],
      "execution_count": null,
      "outputs": [
        {
          "output_type": "stream",
          "text": [
            "Probabibilidad de tener 21 para Hot Deck es de : 0.7049180327868853 \n",
            " Cartas promedio por mano:  4.209302325581396 \n",
            " Máximo número de cartas para tener 21:  5 \n",
            " Número de intentos:  61 \n",
            "\n",
            "Probabibilidad de tener 21 para Cold Deck es de : 0.13358070500927643 \n",
            " Cartas promedio por mano:  3.625 \n",
            " Máximo número de cartas para tener 21:  6 \n",
            " Número de intentos:  539 \n",
            "\n",
            "Ben gana $ 21050\n"
          ],
          "name": "stdout"
        }
      ]
    },
    {
      "cell_type": "markdown",
      "metadata": {
        "id": "fTvMTB_V23Km"
      },
      "source": [
        "# Punto 7"
      ]
    },
    {
      "cell_type": "markdown",
      "metadata": {
        "id": "7saWLxMD3rTA"
      },
      "source": [
        "Extra credit (one class participation) . Calculate analytically the probabilities of having the cards [7,7,5] and a remaining hot deck with 12,10 and 8 cards, assume that you drawing 12+3,10+3 and 8+3 cards from these cards you draw the 3 cards of the hand and verify if you get a hand with [7,7,5] and the remaining deck is a hot deck."
      ]
    },
    {
      "cell_type": "markdown",
      "metadata": {
        "id": "iWCtWzLI26aI"
      },
      "source": [
        "# Spanish Deck"
      ]
    },
    {
      "cell_type": "code",
      "metadata": {
        "id": "q8EKPuOM26xo"
      },
      "source": [
        ""
      ],
      "execution_count": null,
      "outputs": []
    },
    {
      "cell_type": "markdown",
      "metadata": {
        "id": "0atGcYKw28lv"
      },
      "source": [
        "# Poker Deck"
      ]
    },
    {
      "cell_type": "code",
      "metadata": {
        "id": "LevA-0C829If"
      },
      "source": [
        ""
      ],
      "execution_count": null,
      "outputs": []
    }
  ]
}