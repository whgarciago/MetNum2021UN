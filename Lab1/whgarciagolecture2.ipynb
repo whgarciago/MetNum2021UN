{
  "nbformat": 4,
  "nbformat_minor": 0,
  "metadata": {
    "kernelspec": {
      "display_name": "Python 3.5",
      "language": "python",
      "name": "py35"
    },
    "language_info": {
      "codemirror_mode": {
        "name": "ipython",
        "version": 3
      },
      "file_extension": ".py",
      "mimetype": "text/x-python",
      "name": "python",
      "nbconvert_exporter": "python",
      "pygments_lexer": "ipython3",
      "version": "3.6.5"
    },
    "colab": {
      "name": "whgarciagolecture2.ipynb",
      "provenance": [],
      "toc_visible": true
    }
  },
  "cells": [
    {
      "cell_type": "markdown",
      "metadata": {
        "id": "Tu3y8orYiPZK"
      },
      "source": [
        "# Introduction to Python\n",
        "by Maxwell Margenot\n",
        "\n",
        "Part of the Quantopian Lecture Series:\n",
        "\n",
        "* [www.quantopian.com/lectures](https://www.quantopian.com/lectures)\n",
        "* [github.com/quantopian/research_public](https://github.com/quantopian/research_public)\n",
        "\n",
        "\n",
        "---\n",
        "\n",
        "All of the coding that you will do on the Quantopian platform will be in Python. It is also just a good, jack-of-all-trades language to know! Here we will provide you with the basics so that you can feel confident going through our other lectures and understanding what is happening."
      ]
    },
    {
      "cell_type": "markdown",
      "metadata": {
        "id": "G3LRG6SviPZS"
      },
      "source": [
        "## Code Comments\n",
        "\n",
        "A comment is a note made by a programmer in the source code of a program. Its purpose is to clarify the source code and make it easier for people to follow along with what is happening. Anything in a comment is generally ignored when the code is actually run, making comments useful for including explanations and reasoning as well as removing specific lines of code that you may be unsure about. Comments in Python are created by using the pound symbol (`# Insert Text Here`). Including a `#` in a line of code will comment out anything that follows it."
      ]
    },
    {
      "cell_type": "markdown",
      "metadata": {
        "id": "oQYlt48p1H1f"
      },
      "source": [
        "$$ \\sum \\limits _{i=1} ^{10} \\int \\limits _0 ^{\\infty} e^{\\nu _i x } dx  =\\left( \\begin{array}{cc} 1 & 2 \\\\ 3 & 4 \\end{array}\\right) \n",
        "\\left( \\begin{array}{c} 5 \\\\ 6 \\end{array} \\right) = \n",
        "\\mathbf{\\underline{V}}$$"
      ]
    },
    {
      "cell_type": "code",
      "metadata": {
        "id": "qPkK5WSIiPZT"
      },
      "source": [
        "# This is a comment\n",
        "# These lines of code will not change any values\n",
        "# Anything following the first # is not run as code"
      ],
      "execution_count": null,
      "outputs": []
    },
    {
      "cell_type": "code",
      "metadata": {
        "id": "4m8cxNhAjjUI"
      },
      "source": [
        "#comentario de ejemplo"
      ],
      "execution_count": null,
      "outputs": []
    },
    {
      "cell_type": "markdown",
      "metadata": {
        "id": "JglgzIQbiPZT"
      },
      "source": [
        "You may hear text enclosed in triple quotes (`\"\"\" Insert Text Here \"\"\"`) referred to as multi-line comments, but this is not entirely accurate. This is a special type of `string` (a data type we will cover), called a `docstring`, used to explain the purpose of a function."
      ]
    },
    {
      "cell_type": "code",
      "metadata": {
        "id": "6lU0AHiSiPZU",
        "colab": {
          "base_uri": "https://localhost:8080/",
          "height": 35
        },
        "outputId": "6eb4b8e2-f72e-422e-b795-aa271d6ddee1"
      },
      "source": [
        "\"\"\" This is a special string \"\"\""
      ],
      "execution_count": null,
      "outputs": [
        {
          "output_type": "execute_result",
          "data": {
            "application/vnd.google.colaboratory.intrinsic+json": {
              "type": "string"
            },
            "text/plain": [
              "' This is a special string '"
            ]
          },
          "metadata": {
            "tags": []
          },
          "execution_count": 4
        }
      ]
    },
    {
      "cell_type": "code",
      "metadata": {
        "colab": {
          "base_uri": "https://localhost:8080/",
          "height": 35
        },
        "id": "0wN3g3xPjp6H",
        "outputId": "bb7a1e9d-2224-467c-bedb-430fe85feb92"
      },
      "source": [
        "\"\"\"Esto\n",
        "\n",
        "es un doc string\"\"\""
      ],
      "execution_count": null,
      "outputs": [
        {
          "output_type": "execute_result",
          "data": {
            "application/vnd.google.colaboratory.intrinsic+json": {
              "type": "string"
            },
            "text/plain": [
              "'Esto\\n\\nes un doc string'"
            ]
          },
          "metadata": {
            "tags": []
          },
          "execution_count": 2
        }
      ]
    },
    {
      "cell_type": "code",
      "metadata": {
        "colab": {
          "base_uri": "https://localhost:8080/",
          "height": 35
        },
        "id": "gTKn-zJlbiE4",
        "outputId": "6d5ec6df-0b24-4f01-f17a-c7f211424564"
      },
      "source": [
        "###########\n",
        "\"\"\"String de \n",
        "multiples\n",
        "lineas\"\"\""
      ],
      "execution_count": null,
      "outputs": [
        {
          "output_type": "execute_result",
          "data": {
            "application/vnd.google.colaboratory.intrinsic+json": {
              "type": "string"
            },
            "text/plain": [
              "'String de \\nmultiples\\nlineas'"
            ]
          },
          "metadata": {
            "tags": []
          },
          "execution_count": 3
        }
      ]
    },
    {
      "cell_type": "markdown",
      "metadata": {
        "id": "1nOvbHljiPZU"
      },
      "source": [
        "Make sure you read the comments within each code cell (if they are there). They will provide more real-time explanations of what is going on as you look at each line of code."
      ]
    },
    {
      "cell_type": "markdown",
      "metadata": {
        "id": "jbSMyC5WiPZU"
      },
      "source": [
        "## Variables\n",
        "\n",
        "Variables provide names for values in programming. If you want to save a value for later or repeated use, you give the value a name, storing the contents in a variable. Variables in programming work in a fundamentally similar way to variables in algebra, but in Python they can take on various different data types.\n",
        "\n",
        "The basic variable types that we will cover in this section are `integers`, `floating point numbers`, `booleans`, and `strings`. \n",
        "\n",
        "An `integer` in programming is the same as in mathematics, a round number with no values after the decimal point. We use the built-in `print` function here to display the values of our variables as well as their types!"
      ]
    },
    {
      "cell_type": "code",
      "metadata": {
        "id": "onKHDakFiPZV",
        "colab": {
          "base_uri": "https://localhost:8080/"
        },
        "outputId": "9f6d501c-c74c-402b-a083-e4e3a7689726"
      },
      "source": [
        "my_integer = 50\n",
        "print (my_integer, type(my_integer))"
      ],
      "execution_count": null,
      "outputs": [
        {
          "output_type": "stream",
          "text": [
            "50 <class 'int'>\n"
          ],
          "name": "stdout"
        }
      ]
    },
    {
      "cell_type": "code",
      "metadata": {
        "colab": {
          "base_uri": "https://localhost:8080/"
        },
        "id": "xFEER487j4f8",
        "outputId": "c9ba308e-1b20-49fc-cafe-099962ea8c88"
      },
      "source": [
        "#########\n",
        "our_integer = 1337\n",
        "print (our_integer, type(our_integer))"
      ],
      "execution_count": null,
      "outputs": [
        {
          "output_type": "stream",
          "text": [
            "1337 <class 'int'>\n"
          ],
          "name": "stdout"
        }
      ]
    },
    {
      "cell_type": "markdown",
      "metadata": {
        "id": "P4c03ILZiPZV"
      },
      "source": [
        "Variables, regardless of type, are assigned by using a single equals sign (`=`). Variables are case-sensitive so any changes in variation in the capitals of a variable name will reference a different variable entirely."
      ]
    },
    {
      "cell_type": "code",
      "metadata": {
        "id": "FWetlm-yiPZV",
        "colab": {
          "base_uri": "https://localhost:8080/",
          "height": 131
        },
        "outputId": "619c6f2d-d549-424e-b553-3d54fd8c0a9a"
      },
      "source": [
        "one = 1\n",
        "print One"
      ],
      "execution_count": null,
      "outputs": [
        {
          "output_type": "error",
          "ename": "SyntaxError",
          "evalue": "ignored",
          "traceback": [
            "\u001b[0;36m  File \u001b[0;32m\"<ipython-input-5-aa58fe51664d>\"\u001b[0;36m, line \u001b[0;32m2\u001b[0m\n\u001b[0;31m    print One\u001b[0m\n\u001b[0m            ^\u001b[0m\n\u001b[0;31mSyntaxError\u001b[0m\u001b[0;31m:\u001b[0m Missing parentheses in call to 'print'. Did you mean print(One)?\n"
          ]
        }
      ]
    },
    {
      "cell_type": "code",
      "metadata": {
        "colab": {
          "base_uri": "https://localhost:8080/",
          "height": 201
        },
        "id": "V_2MHf-6b4Oy",
        "outputId": "caacb915-16d1-402b-84a4-679d11ddbb90"
      },
      "source": [
        "### Las varibles son case-sensitive\n",
        "dos = 2\n",
        "Dos\n",
        "###Por lo tanto no reconocera la variable \"Dos\""
      ],
      "execution_count": null,
      "outputs": [
        {
          "output_type": "error",
          "ename": "NameError",
          "evalue": "ignored",
          "traceback": [
            "\u001b[0;31m---------------------------------------------------------------------------\u001b[0m",
            "\u001b[0;31mNameError\u001b[0m                                 Traceback (most recent call last)",
            "\u001b[0;32m<ipython-input-6-495a697d8bab>\u001b[0m in \u001b[0;36m<module>\u001b[0;34m()\u001b[0m\n\u001b[1;32m      1\u001b[0m \u001b[0;31m### Las varibles son case-sensitive\u001b[0m\u001b[0;34m\u001b[0m\u001b[0;34m\u001b[0m\u001b[0;34m\u001b[0m\u001b[0m\n\u001b[1;32m      2\u001b[0m \u001b[0mdos\u001b[0m \u001b[0;34m=\u001b[0m \u001b[0;36m2\u001b[0m\u001b[0;34m\u001b[0m\u001b[0;34m\u001b[0m\u001b[0m\n\u001b[0;32m----> 3\u001b[0;31m \u001b[0mDos\u001b[0m\u001b[0;34m\u001b[0m\u001b[0;34m\u001b[0m\u001b[0m\n\u001b[0m",
            "\u001b[0;31mNameError\u001b[0m: name 'Dos' is not defined"
          ]
        }
      ]
    },
    {
      "cell_type": "markdown",
      "metadata": {
        "id": "0IODEVEWiPZW"
      },
      "source": [
        "A `floating point` number, or a `float` is a fancy name for a real number (again as in mathematics). To define a `float`, we need to either include a decimal point or specify that the value is a float."
      ]
    },
    {
      "cell_type": "code",
      "metadata": {
        "scrolled": true,
        "id": "Mmsru_pEiPZW",
        "colab": {
          "base_uri": "https://localhost:8080/"
        },
        "outputId": "4155b7ab-8cec-4fa5-a375-861afad0a16a"
      },
      "source": [
        "my_float = 1.0\n",
        "print (my_float, type(my_float))\n",
        "my_float = float(1)\n",
        "print (my_float, type(my_float))"
      ],
      "execution_count": null,
      "outputs": [
        {
          "output_type": "stream",
          "text": [
            "1.0 <class 'float'>\n",
            "1.0 <class 'float'>\n"
          ],
          "name": "stdout"
        }
      ]
    },
    {
      "cell_type": "code",
      "metadata": {
        "colab": {
          "base_uri": "https://localhost:8080/"
        },
        "id": "8ME5874PcFbz",
        "outputId": "e50c370c-b40b-493a-a021-35c5b7f10c8c"
      },
      "source": [
        "###Para definir una varibale como un float, se agrega un punto decimal o se especifica usando la funcion float()\n",
        "un_float = 4.0\n",
        "print(un_float, type(un_float))\n",
        "Un_float = float (5)\n",
        "print(Un_float, type(Un_float))"
      ],
      "execution_count": null,
      "outputs": [
        {
          "output_type": "stream",
          "text": [
            "4.0 <class 'float'>\n",
            "5.0 <class 'float'>\n"
          ],
          "name": "stdout"
        }
      ]
    },
    {
      "cell_type": "markdown",
      "metadata": {
        "id": "web_HpXiiPZW"
      },
      "source": [
        "A variable of type `float` will not round the number that you store in it, while a variable of type `integer` will. This makes `floats` more suitable for mathematical calculations where you want more than just integers.\n",
        "\n",
        "Note that as we used the `float()` function to force an number to be considered a `float`, we can use the `int()` function to force a number to be considered an `int`."
      ]
    },
    {
      "cell_type": "code",
      "metadata": {
        "id": "wjWBQs_5iPZW",
        "colab": {
          "base_uri": "https://localhost:8080/"
        },
        "outputId": "89deb577-e5e2-4076-fe71-4add77f11fe1"
      },
      "source": [
        "my_int = int(3.14159)\n",
        "print (my_int, type(my_int))"
      ],
      "execution_count": null,
      "outputs": [
        {
          "output_type": "stream",
          "text": [
            "3 <class 'int'>\n"
          ],
          "name": "stdout"
        }
      ]
    },
    {
      "cell_type": "code",
      "metadata": {
        "colab": {
          "base_uri": "https://localhost:8080/"
        },
        "id": "pgvCye3vcui6",
        "outputId": "d612b998-e186-464f-c72c-f9d8817ec635"
      },
      "source": [
        "######\n",
        "un_int = int(un_float)\n",
        "print(un_int, type(un_int))"
      ],
      "execution_count": null,
      "outputs": [
        {
          "output_type": "stream",
          "text": [
            "4 <class 'int'>\n"
          ],
          "name": "stdout"
        }
      ]
    },
    {
      "cell_type": "markdown",
      "metadata": {
        "id": "6CyKVWROiPZX"
      },
      "source": [
        "The `int()` function will also truncate any digits that a number may have after the decimal point!\n",
        "\n",
        "Strings allow you to include text as a variable to operate on. They are defined using either single quotes ('') or double quotes (\"\")."
      ]
    },
    {
      "cell_type": "code",
      "metadata": {
        "id": "WZI_VJrpiPZX"
      },
      "source": [
        "my_string = 'This is a string with single quotes'\n",
        "print my_string\n",
        "my_string = \"This is a string with double quotes\"\n",
        "print my_string"
      ],
      "execution_count": null,
      "outputs": []
    },
    {
      "cell_type": "code",
      "metadata": {
        "colab": {
          "base_uri": "https://localhost:8080/"
        },
        "id": "79NdLAsWc-EA",
        "outputId": "86a5efda-b24e-4e35-ed83-6b7ab48924ae"
      },
      "source": [
        "#############\n",
        "un_string = 'string con comillas sencillas'\n",
        "print(un_string)\n",
        "otro_string = \"string con comillas dobles\"\n",
        "print(otro_string )"
      ],
      "execution_count": null,
      "outputs": [
        {
          "output_type": "stream",
          "text": [
            "strinf con comillas sencillas\n",
            "string con comillas dobles\n"
          ],
          "name": "stdout"
        }
      ]
    },
    {
      "cell_type": "markdown",
      "metadata": {
        "id": "n2r6v9KDiPZX"
      },
      "source": [
        "Both are allowed so that we can include apostrophes or quotation marks in a string if we so choose."
      ]
    },
    {
      "cell_type": "code",
      "metadata": {
        "id": "ULFJ6VCqiPZX",
        "colab": {
          "base_uri": "https://localhost:8080/"
        },
        "outputId": "0b9c6361-2da2-45c1-e3b6-e6d400209787"
      },
      "source": [
        "my_string = '\"Jabberwocky\", by Lewis Carroll'\n",
        "print (my_string)\n",
        "my_string = \"'Twas brillig, and the slithy toves / Did gyre and gimble in the wabe;\"\n",
        "print (my_string)"
      ],
      "execution_count": null,
      "outputs": [
        {
          "output_type": "stream",
          "text": [
            "\"Jabberwocky\", by Lewis Carroll\n",
            "'Twas brillig, and the slithy toves / Did gyre and gimble in the wabe;\n"
          ],
          "name": "stdout"
        }
      ]
    },
    {
      "cell_type": "code",
      "metadata": {
        "colab": {
          "base_uri": "https://localhost:8080/"
        },
        "id": "IUxkBV55dXd6",
        "outputId": "b3cc935d-378f-4c1f-f27e-f898fd8ff596"
      },
      "source": [
        "###### Comillas dentro de un string\n",
        "primer = \" 'hola' \"\n",
        "print (primer)\n",
        "\n"
      ],
      "execution_count": null,
      "outputs": [
        {
          "output_type": "stream",
          "text": [
            " 'hola' \n"
          ],
          "name": "stdout"
        }
      ]
    },
    {
      "cell_type": "markdown",
      "metadata": {
        "id": "9h2s0QsPiPZY"
      },
      "source": [
        "Booleans, or `bools` are binary variable types. A `bool` can only take on one of two values, these being `True` or `False`. There is much more to this idea of truth values when it comes to programming, which we cover later in the [Logical Operators](#id-section5) of this notebook."
      ]
    },
    {
      "cell_type": "code",
      "metadata": {
        "id": "lAiOtRsjiPZY",
        "colab": {
          "base_uri": "https://localhost:8080/"
        },
        "outputId": "e621ca59-8f35-4367-ce36-d08dd1810500"
      },
      "source": [
        "my_bool = True\n",
        "print (my_bool, type(my_bool))"
      ],
      "execution_count": null,
      "outputs": [
        {
          "output_type": "stream",
          "text": [
            "True <class 'bool'>\n"
          ],
          "name": "stdout"
        }
      ]
    },
    {
      "cell_type": "code",
      "metadata": {
        "colab": {
          "base_uri": "https://localhost:8080/"
        },
        "id": "tvkC1aHkd4J2",
        "outputId": "6c62ebc6-9aad-4a59-c42e-565abe0b9dd0"
      },
      "source": [
        "#########\n",
        "mi_bool = False\n",
        "print (mi_bool, type(mi_bool))"
      ],
      "execution_count": null,
      "outputs": [
        {
          "output_type": "stream",
          "text": [
            "False <class 'bool'>\n"
          ],
          "name": "stdout"
        }
      ]
    },
    {
      "cell_type": "markdown",
      "metadata": {
        "id": "IRk9Oa-xiPZY"
      },
      "source": [
        "There are many more data types that you can assign as variables in Python, but these are the basic ones! We will cover a few more later as we move through this tutorial."
      ]
    },
    {
      "cell_type": "markdown",
      "metadata": {
        "id": "02RwyZBhiPZY"
      },
      "source": [
        "## Basic Math\n",
        "\n",
        "Python has a number of built-in math functions. These can be extended even further by importing the **math** package or by including any number of other calculation-based packages.\n",
        "\n",
        "All of the basic arithmetic operations are supported: `+`, `-`, `/`, and `*`. You can create exponents by using `**` and modular arithmetic is introduced with the mod operator, `%`."
      ]
    },
    {
      "cell_type": "code",
      "metadata": {
        "id": "e2ZwbwvciPZZ",
        "colab": {
          "base_uri": "https://localhost:8080/"
        },
        "outputId": "d9c0bcf3-c95c-409a-9a0a-d704bec909d4"
      },
      "source": [
        "print ('Addition: ', 2 + 2)\n",
        "print ('Subtraction: ', 7 - 4)\n",
        "print ('Multiplication: ', 2 * 5)\n",
        "print ('Division: ', 10 / 2)\n",
        "print ('Exponentiation: ', 3**2)"
      ],
      "execution_count": null,
      "outputs": [
        {
          "output_type": "stream",
          "text": [
            "Addition:  4\n",
            "Subtraction:  3\n",
            "Multiplication:  10\n",
            "Division:  5.0\n",
            "Exponentiation:  9\n"
          ],
          "name": "stdout"
        }
      ]
    },
    {
      "cell_type": "code",
      "metadata": {
        "colab": {
          "base_uri": "https://localhost:8080/"
        },
        "id": "e0sk8koCuAhS",
        "outputId": "56ab5093-59c1-4a6f-84ad-394f899b59c6"
      },
      "source": [
        "######\n",
        "print ('Suma: ', 10 + 69)\n",
        "print ('Resta: ', 247 - 265)\n",
        "print ('Multiplicación: ', 27 * 5)\n",
        "print ('División: ', 58 / 2)\n",
        "print ('Exponenciacion: ', 9**9)"
      ],
      "execution_count": null,
      "outputs": [
        {
          "output_type": "stream",
          "text": [
            "Suma:  79\n",
            "Resta:  -18\n",
            "Multiplicación:  135\n",
            "División:  29.0\n",
            "Exponenciacion:  387420489\n"
          ],
          "name": "stdout"
        }
      ]
    },
    {
      "cell_type": "markdown",
      "metadata": {
        "id": "5pnu2pqfiPZZ"
      },
      "source": [
        "If you are not familiar with the the mod operator, it operates like a remainder function. If we type $15 \\ \\% \\ 4$, it will return the remainder after dividing $15$ by $4$."
      ]
    },
    {
      "cell_type": "code",
      "metadata": {
        "id": "fSQMLXoGiPZZ",
        "colab": {
          "base_uri": "https://localhost:8080/"
        },
        "outputId": "da7bf3e7-b094-4b23-be94-39782aed9089"
      },
      "source": [
        "print ('Modulo: ', 15 % 4)"
      ],
      "execution_count": null,
      "outputs": [
        {
          "output_type": "stream",
          "text": [
            "Modulo:  3\n"
          ],
          "name": "stdout"
        }
      ]
    },
    {
      "cell_type": "code",
      "metadata": {
        "colab": {
          "base_uri": "https://localhost:8080/"
        },
        "id": "MJcpXO1-upsP",
        "outputId": "e7180a1b-f508-4c35-9ae4-2f30e2152ef1"
      },
      "source": [
        "#####\n",
        "print('Modulo: ', 90 % 7)"
      ],
      "execution_count": null,
      "outputs": [
        {
          "output_type": "stream",
          "text": [
            "Modulo:  6\n"
          ],
          "name": "stdout"
        }
      ]
    },
    {
      "cell_type": "markdown",
      "metadata": {
        "id": "3tOxhkg_iPZZ"
      },
      "source": [
        "Mathematical functions also work on variables!"
      ]
    },
    {
      "cell_type": "code",
      "metadata": {
        "scrolled": true,
        "id": "EoS6LXc6iPZZ"
      },
      "source": [
        "first_integer = 4\n",
        "second_integer = 5\n",
        "print first_integer * second_integer"
      ],
      "execution_count": null,
      "outputs": []
    },
    {
      "cell_type": "code",
      "metadata": {
        "colab": {
          "base_uri": "https://localhost:8080/"
        },
        "id": "vnbvgqO5u33b",
        "outputId": "e49e74a7-6e23-498a-db65-19d64516ae97"
      },
      "source": [
        "##############\n",
        "primer_int = 5\n",
        "segundo_int = 55\n",
        "primer_int*segundo_int"
      ],
      "execution_count": null,
      "outputs": [
        {
          "output_type": "execute_result",
          "data": {
            "text/plain": [
              "275"
            ]
          },
          "metadata": {
            "tags": []
          },
          "execution_count": 4
        }
      ]
    },
    {
      "cell_type": "markdown",
      "metadata": {
        "id": "_1_H8nHmiPZa"
      },
      "source": [
        "Make sure that your variables are floats if you want to have decimal points in your answer. If you perform math exclusively with integers, you get an integer. Including any float in the calculation will make the result a float."
      ]
    },
    {
      "cell_type": "code",
      "metadata": {
        "id": "Iy1G7N5XiPZa",
        "colab": {
          "base_uri": "https://localhost:8080/"
        },
        "outputId": "68c56b1d-2bd8-432b-d1c3-5a93a00b4f07"
      },
      "source": [
        "first_integer = 11\n",
        "second_integer = 3\n",
        "first_integer / second_integer"
      ],
      "execution_count": null,
      "outputs": [
        {
          "output_type": "execute_result",
          "data": {
            "text/plain": [
              "3.6666666666666665"
            ]
          },
          "metadata": {
            "tags": []
          },
          "execution_count": 7
        }
      ]
    },
    {
      "cell_type": "code",
      "metadata": {
        "colab": {
          "base_uri": "https://localhost:8080/"
        },
        "id": "iD92FOMXvEjm",
        "outputId": "bb347884-2139-48ec-961f-c06b7bbe139a"
      },
      "source": [
        "########### Parece que en pyton 3.5 no es necesario \n",
        "primer_int = 5\n",
        "segundo_int = 54\n",
        "segundo_int/primer_int"
      ],
      "execution_count": null,
      "outputs": [
        {
          "output_type": "execute_result",
          "data": {
            "text/plain": [
              "10.8"
            ]
          },
          "metadata": {
            "tags": []
          },
          "execution_count": 5
        }
      ]
    },
    {
      "cell_type": "code",
      "metadata": {
        "id": "bz_KKdsaiPZb"
      },
      "source": [
        "first_number = 11.0\n",
        "second_number = 3.0\n",
        "print first_number / second_number"
      ],
      "execution_count": null,
      "outputs": []
    },
    {
      "cell_type": "code",
      "metadata": {
        "colab": {
          "base_uri": "https://localhost:8080/"
        },
        "id": "ga_DA53HvXrC",
        "outputId": "1332514c-14ea-4d3c-e855-1925da8cdd55"
      },
      "source": [
        "###########\n",
        "primer_int = 5.0\n",
        "segundo_int = 54.0\n",
        "segundo_int/primer_int"
      ],
      "execution_count": null,
      "outputs": [
        {
          "output_type": "execute_result",
          "data": {
            "text/plain": [
              "10.8"
            ]
          },
          "metadata": {
            "tags": []
          },
          "execution_count": 8
        }
      ]
    },
    {
      "cell_type": "markdown",
      "metadata": {
        "id": "YgixezKWiPZb"
      },
      "source": [
        "Python has a few built-in math functions. The most notable of these are:\n",
        "\n",
        "* `abs()`\n",
        "* `round()`\n",
        "* `max()`\n",
        "* `min()`\n",
        "* `sum()`\n",
        "\n",
        "These functions all act as you would expect, given their names. Calling `abs()` on a number will return its absolute value. The `round()` function will round a number to a specified number of the decimal points (the default is $0$). Calling `max()` or `min()` on a collection of numbers will return, respectively, the maximum or minimum value in the collection. Calling `sum()` on a collection of numbers will add them all up. If you're not familiar with how collections of values in Python work, don't worry! We will cover collections in-depth in the next section. \n",
        "\n",
        "Additional math functionality can be added in with the `math` package."
      ]
    },
    {
      "cell_type": "code",
      "metadata": {
        "id": "eoOyxkdliPZb"
      },
      "source": [
        "import math"
      ],
      "execution_count": null,
      "outputs": []
    },
    {
      "cell_type": "markdown",
      "metadata": {
        "id": "VNw-E9u4iPZb"
      },
      "source": [
        "The math library adds a long list of new mathematical functions to Python. Feel free to check out the [documentation](https://docs.python.org/2/library/math.html) for the full list and details. It concludes some mathematical constants"
      ]
    },
    {
      "cell_type": "code",
      "metadata": {
        "id": "BbvnC4tiiPZc",
        "colab": {
          "base_uri": "https://localhost:8080/"
        },
        "outputId": "d3c2f745-642e-46a6-8e79-7b542a485456"
      },
      "source": [
        "print ('Pi: ', math.pi)\n",
        "print (\"Euler's Constant: \", math.e)"
      ],
      "execution_count": null,
      "outputs": [
        {
          "output_type": "stream",
          "text": [
            "Pi:  3.141592653589793\n",
            "Euler's Constant:  2.718281828459045\n"
          ],
          "name": "stdout"
        }
      ]
    },
    {
      "cell_type": "code",
      "metadata": {
        "colab": {
          "base_uri": "https://localhost:8080/"
        },
        "id": "D-WuQzd6vpmL",
        "outputId": "47de68a0-d64f-461f-88fc-c810c1e67ccb"
      },
      "source": [
        "##################\n",
        "print ('Infinito: ', math.inf)"
      ],
      "execution_count": null,
      "outputs": [
        {
          "output_type": "stream",
          "text": [
            "Infinito:  inf\n",
            "Euler's Constant:  2.718281828459045\n"
          ],
          "name": "stdout"
        }
      ]
    },
    {
      "cell_type": "markdown",
      "metadata": {
        "id": "Ej6CzE3NiPZc"
      },
      "source": [
        "As well as some commonly used math functions"
      ]
    },
    {
      "cell_type": "code",
      "metadata": {
        "id": "z0RpwwXkiPZc",
        "colab": {
          "base_uri": "https://localhost:8080/"
        },
        "outputId": "8a8604a4-ed26-4767-e34f-fa8bbc16c8fd"
      },
      "source": [
        "print ('Cosine of pi: ', math.cos(math.pi))"
      ],
      "execution_count": null,
      "outputs": [
        {
          "output_type": "stream",
          "text": [
            "Cosine of pi:  -1.0\n"
          ],
          "name": "stdout"
        }
      ]
    },
    {
      "cell_type": "code",
      "metadata": {
        "colab": {
          "base_uri": "https://localhost:8080/"
        },
        "id": "o0zjVY3Pv4fS",
        "outputId": "34290688-fced-4d86-fd45-6bf5fc94fcba"
      },
      "source": [
        "##############}\n",
        "print ('Seno de pi: ', math.sin(math.pi))"
      ],
      "execution_count": null,
      "outputs": [
        {
          "output_type": "stream",
          "text": [
            "Seno de pi:  1.2246467991473532e-16\n"
          ],
          "name": "stdout"
        }
      ]
    },
    {
      "cell_type": "markdown",
      "metadata": {
        "id": "0AIEzsrgiPZc"
      },
      "source": [
        "## Collections\n",
        "### Lists\n",
        "\n",
        "A `list` in Python is an ordered collection of objects that can contain any data type. We define a `list` using brackets (`[]`)."
      ]
    },
    {
      "cell_type": "code",
      "metadata": {
        "id": "oFBdmZ2kiPZc",
        "colab": {
          "base_uri": "https://localhost:8080/"
        },
        "outputId": "e12ac527-87de-4447-fc58-bb0d2e6a8253"
      },
      "source": [
        "my_list = [1, 2, 3]\n",
        "print (my_list)"
      ],
      "execution_count": 6,
      "outputs": [
        {
          "output_type": "stream",
          "text": [
            "[1, 2, 3]\n"
          ],
          "name": "stdout"
        }
      ]
    },
    {
      "cell_type": "code",
      "metadata": {
        "colab": {
          "base_uri": "https://localhost:8080/"
        },
        "id": "IXt8c4X9tmwH",
        "outputId": "095eb375-a867-4e31-9dc4-4f394d5bfb42"
      },
      "source": [
        "########## \n",
        "mi_lista = [2,5,6]\n",
        "mi_lista"
      ],
      "execution_count": 1,
      "outputs": [
        {
          "output_type": "execute_result",
          "data": {
            "text/plain": [
              "[2, 5, 6]"
            ]
          },
          "metadata": {
            "tags": []
          },
          "execution_count": 1
        }
      ]
    },
    {
      "cell_type": "markdown",
      "metadata": {
        "id": "8z_s7Hn3iPZd"
      },
      "source": [
        "We can access and index the list by using brackets as well. In order to select an individual element, simply type the list name followed by the index of the item you are looking for in braces."
      ]
    },
    {
      "cell_type": "code",
      "metadata": {
        "id": "ppaPhsUniPZd"
      },
      "source": [
        "print my_list[0]\n",
        "print my_list[2]"
      ],
      "execution_count": null,
      "outputs": []
    },
    {
      "cell_type": "code",
      "metadata": {
        "colab": {
          "base_uri": "https://localhost:8080/"
        },
        "id": "RiuAy2cftwGE",
        "outputId": "37c3aea8-f4a3-4b48-d558-f1d8eb650581"
      },
      "source": [
        "#############\n",
        "mi_lista[2]"
      ],
      "execution_count": 2,
      "outputs": [
        {
          "output_type": "execute_result",
          "data": {
            "text/plain": [
              "6"
            ]
          },
          "metadata": {
            "tags": []
          },
          "execution_count": 2
        }
      ]
    },
    {
      "cell_type": "markdown",
      "metadata": {
        "id": "ddDGvQ5uiPZd"
      },
      "source": [
        "Indexing in Python starts from $0$. If you have a list of length $n$, the first element of the list is at index $0$, the second element is at index $1$, and so on and so forth. The final element of the list will be at index $n-1$. Be careful! Trying to access a non-existent index will cause an error."
      ]
    },
    {
      "cell_type": "code",
      "metadata": {
        "id": "_2nTvFe9iPZd",
        "colab": {
          "base_uri": "https://localhost:8080/",
          "height": 201
        },
        "outputId": "f0a50433-794b-4dab-e6f4-d537ab0089be"
      },
      "source": [
        "print ('The first, second, and third list elements: ', my_list[0], my_list[1], my_list[2])\n",
        "print ('Accessing outside the list bounds causes an error: ', my_list[3])"
      ],
      "execution_count": 7,
      "outputs": [
        {
          "output_type": "stream",
          "text": [
            "The first, second, and third list elements:  1 2 3\n"
          ],
          "name": "stdout"
        },
        {
          "output_type": "error",
          "ename": "IndexError",
          "evalue": "ignored",
          "traceback": [
            "\u001b[0;31m---------------------------------------------------------------------------\u001b[0m",
            "\u001b[0;31mIndexError\u001b[0m                                Traceback (most recent call last)",
            "\u001b[0;32m<ipython-input-7-71889cb02960>\u001b[0m in \u001b[0;36m<module>\u001b[0;34m()\u001b[0m\n\u001b[1;32m      1\u001b[0m \u001b[0mprint\u001b[0m \u001b[0;34m(\u001b[0m\u001b[0;34m'The first, second, and third list elements: '\u001b[0m\u001b[0;34m,\u001b[0m \u001b[0mmy_list\u001b[0m\u001b[0;34m[\u001b[0m\u001b[0;36m0\u001b[0m\u001b[0;34m]\u001b[0m\u001b[0;34m,\u001b[0m \u001b[0mmy_list\u001b[0m\u001b[0;34m[\u001b[0m\u001b[0;36m1\u001b[0m\u001b[0;34m]\u001b[0m\u001b[0;34m,\u001b[0m \u001b[0mmy_list\u001b[0m\u001b[0;34m[\u001b[0m\u001b[0;36m2\u001b[0m\u001b[0;34m]\u001b[0m\u001b[0;34m)\u001b[0m\u001b[0;34m\u001b[0m\u001b[0;34m\u001b[0m\u001b[0m\n\u001b[0;32m----> 2\u001b[0;31m \u001b[0mprint\u001b[0m \u001b[0;34m(\u001b[0m\u001b[0;34m'Accessing outside the list bounds causes an error: '\u001b[0m\u001b[0;34m,\u001b[0m \u001b[0mmy_list\u001b[0m\u001b[0;34m[\u001b[0m\u001b[0;36m3\u001b[0m\u001b[0;34m]\u001b[0m\u001b[0;34m)\u001b[0m\u001b[0;34m\u001b[0m\u001b[0;34m\u001b[0m\u001b[0m\n\u001b[0m",
            "\u001b[0;31mIndexError\u001b[0m: list index out of range"
          ]
        }
      ]
    },
    {
      "cell_type": "code",
      "metadata": {
        "colab": {
          "base_uri": "https://localhost:8080/",
          "height": 218
        },
        "id": "OI4n9GF4uJCz",
        "outputId": "bdab2cb3-f0e4-4503-ec62-062ca2cb3b3b"
      },
      "source": [
        "########\n",
        "print (\"primer y ultimo elemto de mis lista\", mi_lista[0], mi_lista[2])\n",
        "######## Intentar acceder a un indice fuera de la lista, causa un error\n",
        "mi_lista[3]"
      ],
      "execution_count": 9,
      "outputs": [
        {
          "output_type": "stream",
          "text": [
            "primer y ultimo elemto de mis lista 2 6\n"
          ],
          "name": "stdout"
        },
        {
          "output_type": "error",
          "ename": "IndexError",
          "evalue": "ignored",
          "traceback": [
            "\u001b[0;31m---------------------------------------------------------------------------\u001b[0m",
            "\u001b[0;31mIndexError\u001b[0m                                Traceback (most recent call last)",
            "\u001b[0;32m<ipython-input-9-f19b75ee0153>\u001b[0m in \u001b[0;36m<module>\u001b[0;34m()\u001b[0m\n\u001b[1;32m      2\u001b[0m \u001b[0mprint\u001b[0m \u001b[0;34m(\u001b[0m\u001b[0;34m\"primer y ultimo elemto de mis lista\"\u001b[0m\u001b[0;34m,\u001b[0m \u001b[0mmi_lista\u001b[0m\u001b[0;34m[\u001b[0m\u001b[0;36m0\u001b[0m\u001b[0;34m]\u001b[0m\u001b[0;34m,\u001b[0m \u001b[0mmi_lista\u001b[0m\u001b[0;34m[\u001b[0m\u001b[0;36m2\u001b[0m\u001b[0;34m]\u001b[0m\u001b[0;34m)\u001b[0m\u001b[0;34m\u001b[0m\u001b[0;34m\u001b[0m\u001b[0m\n\u001b[1;32m      3\u001b[0m \u001b[0;31m######## Intentar acceder a un indice fuera de la lista, causa un error\u001b[0m\u001b[0;34m\u001b[0m\u001b[0;34m\u001b[0m\u001b[0;34m\u001b[0m\u001b[0m\n\u001b[0;32m----> 4\u001b[0;31m \u001b[0mmi_lista\u001b[0m\u001b[0;34m[\u001b[0m\u001b[0;36m3\u001b[0m\u001b[0;34m]\u001b[0m\u001b[0;34m\u001b[0m\u001b[0;34m\u001b[0m\u001b[0m\n\u001b[0m",
            "\u001b[0;31mIndexError\u001b[0m: list index out of range"
          ]
        }
      ]
    },
    {
      "cell_type": "markdown",
      "metadata": {
        "id": "HZY3MvzMiPZd"
      },
      "source": [
        "We can see the number of elements in a list by calling the `len()` function."
      ]
    },
    {
      "cell_type": "code",
      "metadata": {
        "id": "OlJXtwfpiPZe"
      },
      "source": [
        "print len(my_list)"
      ],
      "execution_count": null,
      "outputs": []
    },
    {
      "cell_type": "code",
      "metadata": {
        "colab": {
          "base_uri": "https://localhost:8080/"
        },
        "id": "QAd76R6euuoP",
        "outputId": "9c4383e5-de0a-4e04-ee13-b632c1b4de64"
      },
      "source": [
        "##############\n",
        "len(mi_lista)"
      ],
      "execution_count": 10,
      "outputs": [
        {
          "output_type": "execute_result",
          "data": {
            "text/plain": [
              "3"
            ]
          },
          "metadata": {
            "tags": []
          },
          "execution_count": 10
        }
      ]
    },
    {
      "cell_type": "markdown",
      "metadata": {
        "id": "5kpJ9DOhiPZe"
      },
      "source": [
        "We can update and change a list by accessing an index and assigning new value."
      ]
    },
    {
      "cell_type": "code",
      "metadata": {
        "id": "x3_cy-6MiPZe"
      },
      "source": [
        "print my_list\n",
        "my_list[0] = 42\n",
        "print my_list"
      ],
      "execution_count": null,
      "outputs": []
    },
    {
      "cell_type": "code",
      "metadata": {
        "colab": {
          "base_uri": "https://localhost:8080/"
        },
        "id": "KMnYwSi5uy45",
        "outputId": "69b0aec0-7e3d-4578-f7bd-60b21b7590f8"
      },
      "source": [
        "###########\n",
        "print(\"Antes de cambio,\",mi_lista)\n",
        "mi_lista[1]= 1000000000\n",
        "print(\"Cambio,\",mi_lista)"
      ],
      "execution_count": 11,
      "outputs": [
        {
          "output_type": "stream",
          "text": [
            "Antes de cambio, [2, 5, 6]\n",
            "Cambio, [2, 1000000000, 6]\n"
          ],
          "name": "stdout"
        }
      ]
    },
    {
      "cell_type": "markdown",
      "metadata": {
        "id": "o-4d8mUViPZe"
      },
      "source": [
        "This is fundamentally different from how strings are handled. A `list` is mutable, meaning that you can change a `list`'s elements without changing the list itself. Some data types, like `strings`, are immutable, meaning you cannot change them at all. Once a `string` or other immutable data type has been created, it cannot be directly modified without creating an entirely new object."
      ]
    },
    {
      "cell_type": "code",
      "metadata": {
        "id": "T1FzqcIoiPZe",
        "colab": {
          "base_uri": "https://localhost:8080/",
          "height": 183
        },
        "outputId": "153a9847-c09f-424c-ce19-bc4fc16073c4"
      },
      "source": [
        "my_string = \"Strings never change\"\n",
        "my_string[0] = 'Z'"
      ],
      "execution_count": 13,
      "outputs": [
        {
          "output_type": "error",
          "ename": "TypeError",
          "evalue": "ignored",
          "traceback": [
            "\u001b[0;31m---------------------------------------------------------------------------\u001b[0m",
            "\u001b[0;31mTypeError\u001b[0m                                 Traceback (most recent call last)",
            "\u001b[0;32m<ipython-input-13-85065ecd61ab>\u001b[0m in \u001b[0;36m<module>\u001b[0;34m()\u001b[0m\n\u001b[1;32m      1\u001b[0m \u001b[0mmy_string\u001b[0m \u001b[0;34m=\u001b[0m \u001b[0;34m\"Strings never change\"\u001b[0m\u001b[0;34m\u001b[0m\u001b[0;34m\u001b[0m\u001b[0m\n\u001b[0;32m----> 2\u001b[0;31m \u001b[0mmy_string\u001b[0m\u001b[0;34m[\u001b[0m\u001b[0;36m0\u001b[0m\u001b[0;34m]\u001b[0m \u001b[0;34m=\u001b[0m \u001b[0;34m'Z'\u001b[0m\u001b[0;34m\u001b[0m\u001b[0;34m\u001b[0m\u001b[0m\n\u001b[0m",
            "\u001b[0;31mTypeError\u001b[0m: 'str' object does not support item assignment"
          ]
        }
      ]
    },
    {
      "cell_type": "code",
      "metadata": {
        "colab": {
          "base_uri": "https://localhost:8080/",
          "height": 201
        },
        "id": "5jn6V9GhvDfC",
        "outputId": "c9eab73e-ece4-4989-8084-7543e34a0046"
      },
      "source": [
        "#################\n",
        "mi_string = \"Algunos tipos de datos no cambian\"\n",
        "mi_string[0] = \"z\""
      ],
      "execution_count": 12,
      "outputs": [
        {
          "output_type": "error",
          "ename": "TypeError",
          "evalue": "ignored",
          "traceback": [
            "\u001b[0;31m---------------------------------------------------------------------------\u001b[0m",
            "\u001b[0;31mTypeError\u001b[0m                                 Traceback (most recent call last)",
            "\u001b[0;32m<ipython-input-12-69ec55d6f748>\u001b[0m in \u001b[0;36m<module>\u001b[0;34m()\u001b[0m\n\u001b[1;32m      1\u001b[0m \u001b[0;31m#################\u001b[0m\u001b[0;34m\u001b[0m\u001b[0;34m\u001b[0m\u001b[0;34m\u001b[0m\u001b[0m\n\u001b[1;32m      2\u001b[0m \u001b[0mmi_string\u001b[0m \u001b[0;34m=\u001b[0m \u001b[0;34m\"Algunos tipos de datos no cambian\"\u001b[0m\u001b[0;34m\u001b[0m\u001b[0;34m\u001b[0m\u001b[0m\n\u001b[0;32m----> 3\u001b[0;31m \u001b[0mmi_string\u001b[0m\u001b[0;34m[\u001b[0m\u001b[0;36m0\u001b[0m\u001b[0;34m]\u001b[0m \u001b[0;34m=\u001b[0m \u001b[0;34m\"z\"\u001b[0m\u001b[0;34m\u001b[0m\u001b[0;34m\u001b[0m\u001b[0m\n\u001b[0m",
            "\u001b[0;31mTypeError\u001b[0m: 'str' object does not support item assignment"
          ]
        }
      ]
    },
    {
      "cell_type": "markdown",
      "metadata": {
        "id": "WiSJ1CqNiPZf"
      },
      "source": [
        "As we stated before, a list can contain any data type. Thus, lists can also contain strings."
      ]
    },
    {
      "cell_type": "code",
      "metadata": {
        "id": "0H_Mfp9GiPZf"
      },
      "source": [
        "my_list_2 = ['one', 'two', 'three']\n",
        "print my_list_2"
      ],
      "execution_count": null,
      "outputs": []
    },
    {
      "cell_type": "code",
      "metadata": {
        "colab": {
          "base_uri": "https://localhost:8080/"
        },
        "id": "Fyf0gdCNvQoK",
        "outputId": "78eb0b39-546d-4d00-cde2-1438b25a28b1"
      },
      "source": [
        "##############\n",
        "mi_lista = [\"hola\", \"chao\"]\n",
        "mi_lista"
      ],
      "execution_count": 14,
      "outputs": [
        {
          "output_type": "execute_result",
          "data": {
            "text/plain": [
              "['hola', 'chao']"
            ]
          },
          "metadata": {
            "tags": []
          },
          "execution_count": 14
        }
      ]
    },
    {
      "cell_type": "markdown",
      "metadata": {
        "id": "aYIkEIoMiPZf"
      },
      "source": [
        "Lists can also contain multiple different data types at once!"
      ]
    },
    {
      "cell_type": "code",
      "metadata": {
        "id": "GvRIonQ3iPZf"
      },
      "source": [
        "my_list_3 = [True, 'False', 42]"
      ],
      "execution_count": null,
      "outputs": []
    },
    {
      "cell_type": "code",
      "metadata": {
        "colab": {
          "base_uri": "https://localhost:8080/"
        },
        "id": "qJ9huw4ovXlU",
        "outputId": "1cc893e0-c5d1-4252-aee8-177a3d16ed27"
      },
      "source": [
        "mi_lista3 = [\"hola\", 1000, True]\n",
        "mi_lista3"
      ],
      "execution_count": 16,
      "outputs": [
        {
          "output_type": "execute_result",
          "data": {
            "text/plain": [
              "['hola', 1000, True]"
            ]
          },
          "metadata": {
            "tags": []
          },
          "execution_count": 16
        }
      ]
    },
    {
      "cell_type": "markdown",
      "metadata": {
        "id": "ST4d7z-uiPZg"
      },
      "source": [
        "If you want to put two lists together, they can be combined with a `+` symbol."
      ]
    },
    {
      "cell_type": "code",
      "metadata": {
        "id": "R1N0mHeriPZg"
      },
      "source": [
        "my_list_4 = my_list + my_list_2 + my_list_3\n",
        "print my_list_4"
      ],
      "execution_count": null,
      "outputs": []
    },
    {
      "cell_type": "code",
      "metadata": {
        "colab": {
          "base_uri": "https://localhost:8080/"
        },
        "id": "P2d8raulvgcz",
        "outputId": "e090fcac-5fbf-4527-a2f0-6c5f3ae2e32a"
      },
      "source": [
        "##########Listas pueden ser concatenadas\n",
        "mi_lista4 = mi_lista + mi_lista3\n",
        "mi_lista4"
      ],
      "execution_count": 17,
      "outputs": [
        {
          "output_type": "execute_result",
          "data": {
            "text/plain": [
              "['hola', 'chao', 'hola', 1000, True]"
            ]
          },
          "metadata": {
            "tags": []
          },
          "execution_count": 17
        }
      ]
    },
    {
      "cell_type": "markdown",
      "metadata": {
        "id": "KyPase4BiPZg"
      },
      "source": [
        "In addition to accessing individual elements of a list, we can access groups of elements through slicing."
      ]
    },
    {
      "cell_type": "code",
      "metadata": {
        "id": "DPTFcFtEiPZg"
      },
      "source": [
        "my_list = ['friends', 'romans', 'countrymen', 'lend', 'me', 'your', 'ears']"
      ],
      "execution_count": 19,
      "outputs": []
    },
    {
      "cell_type": "code",
      "metadata": {
        "id": "VDlMFzzdvu42"
      },
      "source": [
        "########\n",
        "mi_lista = [\"amigos\", \"hunos\", \"prestar\", \"tu\", \"yo\"]"
      ],
      "execution_count": 20,
      "outputs": []
    },
    {
      "cell_type": "markdown",
      "metadata": {
        "id": "WrDZceusiPZg"
      },
      "source": [
        "#### Slicing\n",
        "\n",
        "We use the colon (`:`) to slice lists. "
      ]
    },
    {
      "cell_type": "code",
      "metadata": {
        "scrolled": true,
        "id": "pmsKPOJ8iPZh"
      },
      "source": [
        "print my_list[2:4]"
      ],
      "execution_count": null,
      "outputs": []
    },
    {
      "cell_type": "code",
      "metadata": {
        "colab": {
          "base_uri": "https://localhost:8080/"
        },
        "id": "ukflPycBv8fd",
        "outputId": "4f38c212-fcc8-48cd-dfd1-8306ed21b86f"
      },
      "source": [
        "#####\n",
        "mi_lista[2:4]"
      ],
      "execution_count": 21,
      "outputs": [
        {
          "output_type": "execute_result",
          "data": {
            "text/plain": [
              "['prestar', 'tu']"
            ]
          },
          "metadata": {
            "tags": []
          },
          "execution_count": 21
        }
      ]
    },
    {
      "cell_type": "markdown",
      "metadata": {
        "id": "Sq1xL_E1iPZh"
      },
      "source": [
        "Using `:` we can select a group of elements in the list starting from the first element indicated and going up to  (but not including) the last element indicated.\n",
        "\n",
        "We can also select everything after a certain point"
      ]
    },
    {
      "cell_type": "code",
      "metadata": {
        "scrolled": true,
        "id": "S982Z5V8iPZh"
      },
      "source": [
        "print my_list[1:]"
      ],
      "execution_count": null,
      "outputs": []
    },
    {
      "cell_type": "code",
      "metadata": {
        "colab": {
          "base_uri": "https://localhost:8080/"
        },
        "id": "mYIr3UEywGNi",
        "outputId": "fb9670b1-8e8d-4f37-c9f3-5c3492bb55cc"
      },
      "source": [
        "##########\n",
        "mi_lista[2:]"
      ],
      "execution_count": 22,
      "outputs": [
        {
          "output_type": "execute_result",
          "data": {
            "text/plain": [
              "['prestar', 'tu', 'yo']"
            ]
          },
          "metadata": {
            "tags": []
          },
          "execution_count": 22
        }
      ]
    },
    {
      "cell_type": "markdown",
      "metadata": {
        "id": "AVZ0x6eQiPZh"
      },
      "source": [
        "And everything before a certain point"
      ]
    },
    {
      "cell_type": "code",
      "metadata": {
        "scrolled": true,
        "id": "8yer3P2aiPZh"
      },
      "source": [
        "print my_list[:4]"
      ],
      "execution_count": null,
      "outputs": []
    },
    {
      "cell_type": "code",
      "metadata": {
        "colab": {
          "base_uri": "https://localhost:8080/"
        },
        "id": "3v3_NSZEwJPn",
        "outputId": "d41c6283-e499-4271-c09a-0ea768365228"
      },
      "source": [
        "#############\n",
        "mi_lista[:3]"
      ],
      "execution_count": 23,
      "outputs": [
        {
          "output_type": "execute_result",
          "data": {
            "text/plain": [
              "['amigos', 'hunos', 'prestar']"
            ]
          },
          "metadata": {
            "tags": []
          },
          "execution_count": 23
        }
      ]
    },
    {
      "cell_type": "markdown",
      "metadata": {
        "id": "nZ85DjbeiPZi"
      },
      "source": [
        "Using negative numbers will count from the end of the indices instead of from the beginning. For example, an index of `-1` indicates the last element of the list."
      ]
    },
    {
      "cell_type": "code",
      "metadata": {
        "id": "LZ3ooakiiPZi"
      },
      "source": [
        "print my_list[-1]"
      ],
      "execution_count": null,
      "outputs": []
    },
    {
      "cell_type": "code",
      "metadata": {
        "colab": {
          "base_uri": "https://localhost:8080/",
          "height": 35
        },
        "id": "HrvOVArNwVQv",
        "outputId": "8fede243-1638-4d94-9212-4466dfd4774d"
      },
      "source": [
        "###############\n",
        "mi_lista[-5]"
      ],
      "execution_count": 25,
      "outputs": [
        {
          "output_type": "execute_result",
          "data": {
            "application/vnd.google.colaboratory.intrinsic+json": {
              "type": "string"
            },
            "text/plain": [
              "'amigos'"
            ]
          },
          "metadata": {
            "tags": []
          },
          "execution_count": 25
        }
      ]
    },
    {
      "cell_type": "markdown",
      "metadata": {
        "id": "g_nOJ6ydiPZi"
      },
      "source": [
        "You can also add a third component to slicing. Instead of simply indicating the first and final parts of your slice, you can specify the step size that you want to take. So instead of taking every single element, you can take every other element."
      ]
    },
    {
      "cell_type": "code",
      "metadata": {
        "id": "sje3-v7ziPZi"
      },
      "source": [
        "print my_list[0:7:2]"
      ],
      "execution_count": null,
      "outputs": []
    },
    {
      "cell_type": "code",
      "metadata": {
        "colab": {
          "base_uri": "https://localhost:8080/"
        },
        "id": "f9T0JVJzxFWW",
        "outputId": "d3c537ab-56b6-42ad-f289-6363edbdadc0"
      },
      "source": [
        "#########\n",
        "mi_lista[0:4:2]"
      ],
      "execution_count": 26,
      "outputs": [
        {
          "output_type": "execute_result",
          "data": {
            "text/plain": [
              "['amigos', 'prestar']"
            ]
          },
          "metadata": {
            "tags": []
          },
          "execution_count": 26
        }
      ]
    },
    {
      "cell_type": "markdown",
      "metadata": {
        "id": "OLEMWa6OiPZi"
      },
      "source": [
        "Here we have selected the entire list (because `0:7` will yield elements `0` through `6`) and we have selected a step size of `2`. So this will spit out element `0` , element `2`, element `4`, and so on through the list element selected. We can skip indicated the beginning and end of our slice, only indicating the step, if we like."
      ]
    },
    {
      "cell_type": "code",
      "metadata": {
        "id": "Du1wuCCliPZi"
      },
      "source": [
        "print my_list[::2]"
      ],
      "execution_count": null,
      "outputs": []
    },
    {
      "cell_type": "code",
      "metadata": {
        "colab": {
          "base_uri": "https://localhost:8080/"
        },
        "id": "un63HfafxecH",
        "outputId": "e9248343-1c32-4969-c42a-a95f4605ca8a"
      },
      "source": [
        "##################\n",
        "mi_lista[::3]"
      ],
      "execution_count": 27,
      "outputs": [
        {
          "output_type": "execute_result",
          "data": {
            "text/plain": [
              "['amigos', 'tu']"
            ]
          },
          "metadata": {
            "tags": []
          },
          "execution_count": 27
        }
      ]
    },
    {
      "cell_type": "markdown",
      "metadata": {
        "id": "BzcdOHQViPZj"
      },
      "source": [
        "Lists implictly select the beginning and end of the list when not otherwise specified."
      ]
    },
    {
      "cell_type": "code",
      "metadata": {
        "id": "C3imjxz-iPZj"
      },
      "source": [
        "print my_list[:]"
      ],
      "execution_count": null,
      "outputs": []
    },
    {
      "cell_type": "code",
      "metadata": {
        "colab": {
          "base_uri": "https://localhost:8080/"
        },
        "id": "JCZAItc6xj7L",
        "outputId": "4dd359df-e11e-4783-d144-1b0c503b7d2e"
      },
      "source": [
        "##############\n",
        "print (mi_lista)\n",
        "mi_lista[:]"
      ],
      "execution_count": 29,
      "outputs": [
        {
          "output_type": "stream",
          "text": [
            "['amigos', 'hunos', 'prestar', 'tu', 'yo']\n"
          ],
          "name": "stdout"
        },
        {
          "output_type": "execute_result",
          "data": {
            "text/plain": [
              "['amigos', 'hunos', 'prestar', 'tu', 'yo']"
            ]
          },
          "metadata": {
            "tags": []
          },
          "execution_count": 29
        }
      ]
    },
    {
      "cell_type": "markdown",
      "metadata": {
        "id": "noCDN2Q7iPZj"
      },
      "source": [
        "With a negative step size we can even reverse the list!"
      ]
    },
    {
      "cell_type": "code",
      "metadata": {
        "id": "jgZNnOXSiPZj"
      },
      "source": [
        "print my_list[::-1]"
      ],
      "execution_count": null,
      "outputs": []
    },
    {
      "cell_type": "code",
      "metadata": {
        "colab": {
          "base_uri": "https://localhost:8080/"
        },
        "id": "U_C52wUCxtDY",
        "outputId": "a30a88f8-e393-4d39-cbea-2cc31683f320"
      },
      "source": [
        "############\n",
        "mi_lista[::-1]"
      ],
      "execution_count": 30,
      "outputs": [
        {
          "output_type": "execute_result",
          "data": {
            "text/plain": [
              "['yo', 'tu', 'prestar', 'hunos', 'amigos']"
            ]
          },
          "metadata": {
            "tags": []
          },
          "execution_count": 30
        }
      ]
    },
    {
      "cell_type": "markdown",
      "metadata": {
        "id": "0Kk9-fyBiPZj"
      },
      "source": [
        "Python does not have native matrices, but with lists we can produce a working fascimile. Other packages, such as `numpy`, add matrices as a separate data type, but in base Python the best way to create a matrix is to use a list of lists."
      ]
    },
    {
      "cell_type": "markdown",
      "metadata": {
        "id": "o8mzbk6BiPZj"
      },
      "source": [
        "We can also use built-in functions to generate lists. In particular we will look at `range()` (because we will be using it later!). Range can take several different inputs and will return a list."
      ]
    },
    {
      "cell_type": "code",
      "metadata": {
        "id": "eUkXSHGYiPZk",
        "colab": {
          "base_uri": "https://localhost:8080/"
        },
        "outputId": "5837175c-d649-4452-a1ab-8394a50c5c10"
      },
      "source": [
        "b = 10\n",
        "my_list = range(b)\n",
        "my_list"
      ],
      "execution_count": 35,
      "outputs": [
        {
          "output_type": "execute_result",
          "data": {
            "text/plain": [
              "range(0, 10)"
            ]
          },
          "metadata": {
            "tags": []
          },
          "execution_count": 35
        }
      ]
    },
    {
      "cell_type": "code",
      "metadata": {
        "colab": {
          "base_uri": "https://localhost:8080/"
        },
        "id": "2OQB0gcRx9uj",
        "outputId": "6448a6dd-2c29-4f8e-e241-59bad0d2a9d7"
      },
      "source": [
        "################\n",
        "z = 20\n",
        "mi_lista5 = range(z)\n",
        "mi_lista5[2:10]\n"
      ],
      "execution_count": 32,
      "outputs": [
        {
          "output_type": "execute_result",
          "data": {
            "text/plain": [
              "range(2, 10)"
            ]
          },
          "metadata": {
            "tags": []
          },
          "execution_count": 32
        }
      ]
    },
    {
      "cell_type": "markdown",
      "metadata": {
        "id": "mO2qs-JPiPZk"
      },
      "source": [
        "Similar to our list-slicing methods from before, we can define both a start and an end for our range. This will return a list that is includes the start and excludes the end, just like a slice."
      ]
    },
    {
      "cell_type": "code",
      "metadata": {
        "id": "Sry2jJDMiPZk",
        "colab": {
          "base_uri": "https://localhost:8080/"
        },
        "outputId": "15951879-ba18-405b-fc2d-f711227c3816"
      },
      "source": [
        "a = 0\n",
        "b = 10\n",
        "my_list = range(a, b)\n",
        "my_list"
      ],
      "execution_count": 36,
      "outputs": [
        {
          "output_type": "execute_result",
          "data": {
            "text/plain": [
              "range(0, 10)"
            ]
          },
          "metadata": {
            "tags": []
          },
          "execution_count": 36
        }
      ]
    },
    {
      "cell_type": "code",
      "metadata": {
        "colab": {
          "base_uri": "https://localhost:8080/"
        },
        "id": "_crMunlCyi28",
        "outputId": "1961ee0b-dd96-4b89-baf7-6ee09747b04d"
      },
      "source": [
        "###########\n",
        "c = 0 \n",
        "d =11\n",
        "mi_lista5 = range(c,d)\n",
        "mi_lista5"
      ],
      "execution_count": 37,
      "outputs": [
        {
          "output_type": "execute_result",
          "data": {
            "text/plain": [
              "range(0, 11)"
            ]
          },
          "metadata": {
            "tags": []
          },
          "execution_count": 37
        }
      ]
    },
    {
      "cell_type": "markdown",
      "metadata": {
        "id": "RkUQwcvNiPZk"
      },
      "source": [
        "We can also specify a step size. This again has the same behavior as a slice."
      ]
    },
    {
      "cell_type": "code",
      "metadata": {
        "scrolled": true,
        "id": "-nwfKfGtiPZk"
      },
      "source": [
        "a = 0\n",
        "b = 10\n",
        "step = 2\n",
        "my_list = range(a, b, step)\n",
        "print my_list"
      ],
      "execution_count": null,
      "outputs": []
    },
    {
      "cell_type": "code",
      "metadata": {
        "colab": {
          "base_uri": "https://localhost:8080/"
        },
        "id": "7zXlf2Jty0uU",
        "outputId": "d3011429-7c0b-4669-c4bc-1cce576cbcfc"
      },
      "source": [
        "#########\n",
        "paso = 3\n",
        "mi_lista5 = range(c,d,paso)\n",
        "mi_lista5"
      ],
      "execution_count": 38,
      "outputs": [
        {
          "output_type": "execute_result",
          "data": {
            "text/plain": [
              "range(0, 11, 3)"
            ]
          },
          "metadata": {
            "tags": []
          },
          "execution_count": 38
        }
      ]
    },
    {
      "cell_type": "markdown",
      "metadata": {
        "id": "Z7T_YJzeiPZk"
      },
      "source": [
        "### Tuples\n",
        "\n",
        "A `tuple` is a data type similar to a list in that it can hold different kinds of data types. The key difference here is that a `tuple` is immutable. We define a `tuple` by separating the elements we want to include by commas. It is conventional to surround a `tuple` with parentheses."
      ]
    },
    {
      "cell_type": "code",
      "metadata": {
        "id": "UuoryCwriPZl"
      },
      "source": [
        "my_tuple = ('I', 'have', 30, 'cats')"
      ],
      "execution_count": 46,
      "outputs": []
    },
    {
      "cell_type": "code",
      "metadata": {
        "colab": {
          "base_uri": "https://localhost:8080/"
        },
        "id": "ruAuGfFszPzu",
        "outputId": "2a90d801-b0cd-4424-d6a9-c90beead3390"
      },
      "source": [
        "#########\n",
        "mi_tupla = (\"yo\", 40, \"adiuvha\")\n",
        "mi_tupla"
      ],
      "execution_count": 40,
      "outputs": [
        {
          "output_type": "execute_result",
          "data": {
            "text/plain": [
              "('yo', 40, 'adiuvha')"
            ]
          },
          "metadata": {
            "tags": []
          },
          "execution_count": 40
        }
      ]
    },
    {
      "cell_type": "markdown",
      "metadata": {
        "id": "pfjFzZA8iPZl"
      },
      "source": [
        "As mentioned before, tuples are immutable. You can't change any part of them without defining a new tuple."
      ]
    },
    {
      "cell_type": "code",
      "metadata": {
        "id": "vvpq_2-siPZl",
        "colab": {
          "base_uri": "https://localhost:8080/",
          "height": 166
        },
        "outputId": "c6493b58-5353-47c2-da72-b8bbcc0c7d72"
      },
      "source": [
        "my_tuple[3] = 'dogs' # Attempts to change the 'cats' value stored in the the tuple to 'dogs'"
      ],
      "execution_count": 41,
      "outputs": [
        {
          "output_type": "error",
          "ename": "NameError",
          "evalue": "ignored",
          "traceback": [
            "\u001b[0;31m---------------------------------------------------------------------------\u001b[0m",
            "\u001b[0;31mNameError\u001b[0m                                 Traceback (most recent call last)",
            "\u001b[0;32m<ipython-input-41-c821a6bdb1a6>\u001b[0m in \u001b[0;36m<module>\u001b[0;34m()\u001b[0m\n\u001b[0;32m----> 1\u001b[0;31m \u001b[0mmy_tuple\u001b[0m\u001b[0;34m[\u001b[0m\u001b[0;36m3\u001b[0m\u001b[0;34m]\u001b[0m \u001b[0;34m=\u001b[0m \u001b[0;34m'dogs'\u001b[0m \u001b[0;31m# Attempts to change the 'cats' value stored in the the tuple to 'dogs'\u001b[0m\u001b[0;34m\u001b[0m\u001b[0;34m\u001b[0m\u001b[0m\n\u001b[0m",
            "\u001b[0;31mNameError\u001b[0m: name 'my_tuple' is not defined"
          ]
        }
      ]
    },
    {
      "cell_type": "code",
      "metadata": {
        "colab": {
          "base_uri": "https://localhost:8080/",
          "height": 183
        },
        "id": "tqbyoXmszcpX",
        "outputId": "6856566d-5285-44e6-c1be-d2d1435c5bd3"
      },
      "source": [
        "############# Las tuplas con inmutables\n",
        "mi_tupla[2] = \"hi\""
      ],
      "execution_count": 42,
      "outputs": [
        {
          "output_type": "error",
          "ename": "TypeError",
          "evalue": "ignored",
          "traceback": [
            "\u001b[0;31m---------------------------------------------------------------------------\u001b[0m",
            "\u001b[0;31mTypeError\u001b[0m                                 Traceback (most recent call last)",
            "\u001b[0;32m<ipython-input-42-6140ff58f442>\u001b[0m in \u001b[0;36m<module>\u001b[0;34m()\u001b[0m\n\u001b[1;32m      1\u001b[0m \u001b[0;31m############# Las tuplas con inmutables\u001b[0m\u001b[0;34m\u001b[0m\u001b[0;34m\u001b[0m\u001b[0;34m\u001b[0m\u001b[0m\n\u001b[0;32m----> 2\u001b[0;31m \u001b[0mmi_tupla\u001b[0m\u001b[0;34m[\u001b[0m\u001b[0;36m2\u001b[0m\u001b[0;34m]\u001b[0m \u001b[0;34m=\u001b[0m \u001b[0;34m\"hi\"\u001b[0m\u001b[0;34m\u001b[0m\u001b[0;34m\u001b[0m\u001b[0m\n\u001b[0m",
            "\u001b[0;31mTypeError\u001b[0m: 'tuple' object does not support item assignment"
          ]
        }
      ]
    },
    {
      "cell_type": "markdown",
      "metadata": {
        "id": "ypy546nXiPZl"
      },
      "source": [
        "You can slice tuples the same way that you slice lists!"
      ]
    },
    {
      "cell_type": "code",
      "metadata": {
        "id": "qtCv1j1jiPZl"
      },
      "source": [
        "print my_tuple[1:3]"
      ],
      "execution_count": null,
      "outputs": []
    },
    {
      "cell_type": "code",
      "metadata": {
        "colab": {
          "base_uri": "https://localhost:8080/"
        },
        "id": "9x146ohbzkLJ",
        "outputId": "8c00ac3e-8ad7-4913-ca81-d1c5c4aa7d5c"
      },
      "source": [
        "######## Se puede hacer splicing ocn las tuplas tambien\n",
        "mi_tupla[0:2]"
      ],
      "execution_count": 43,
      "outputs": [
        {
          "output_type": "execute_result",
          "data": {
            "text/plain": [
              "('yo', 40)"
            ]
          },
          "metadata": {
            "tags": []
          },
          "execution_count": 43
        }
      ]
    },
    {
      "cell_type": "markdown",
      "metadata": {
        "id": "InTaCuK-iPZm"
      },
      "source": [
        "And concatenate them the way that you would with strings!"
      ]
    },
    {
      "cell_type": "code",
      "metadata": {
        "id": "wcS0gBkliPZm",
        "colab": {
          "base_uri": "https://localhost:8080/"
        },
        "outputId": "fe49354b-94f5-4ebd-ffe0-f02cd8cc77ce"
      },
      "source": [
        "my_other_tuple = ('make', 'that', 50)\n",
        "print (my_tuple + my_other_tuple)"
      ],
      "execution_count": 48,
      "outputs": [
        {
          "output_type": "stream",
          "text": [
            "('I', 'have', 30, 'cats', 'make', 'that', 50)\n"
          ],
          "name": "stdout"
        }
      ]
    },
    {
      "cell_type": "code",
      "metadata": {
        "colab": {
          "base_uri": "https://localhost:8080/"
        },
        "id": "p1aUagWJztiT",
        "outputId": "e6dc3021-04d8-4c8c-e04d-140b62cb526f"
      },
      "source": [
        "######## Tambien se pueden concatenar\n",
        "mi_otratupla = (\"ejemploooo\", 10101010)\n",
        "print (mi_tupla + mi_otratupla)"
      ],
      "execution_count": 44,
      "outputs": [
        {
          "output_type": "stream",
          "text": [
            "('yo', 40, 'adiuvha', 'ejemploooo', 10101010)\n"
          ],
          "name": "stdout"
        }
      ]
    },
    {
      "cell_type": "markdown",
      "metadata": {
        "id": "i259o4M_iPZm"
      },
      "source": [
        "We can 'pack' values together, creating a tuple (as above), or we can 'unpack' values from a tuple, taking them out."
      ]
    },
    {
      "cell_type": "code",
      "metadata": {
        "id": "QpiGPstyiPZm",
        "colab": {
          "base_uri": "https://localhost:8080/"
        },
        "outputId": "dc67823a-d625-48e6-9441-c5f9c4ce0cf9"
      },
      "source": [
        "str_1, str_2, int_1 = my_other_tuple\n",
        "print (str_1, str_2, int_1)"
      ],
      "execution_count": 49,
      "outputs": [
        {
          "output_type": "stream",
          "text": [
            "make that 50\n"
          ],
          "name": "stdout"
        }
      ]
    },
    {
      "cell_type": "code",
      "metadata": {
        "colab": {
          "base_uri": "https://localhost:8080/"
        },
        "id": "jK6e61xN0UeT",
        "outputId": "9527f6dc-98d9-4ead-af15-00fbd4ac3bdd"
      },
      "source": [
        "######## Los elementos de una tupla pueden ser \"Extraidos\"\n",
        "struno , strdos = mi_otratupla\n",
        "print(struno, strdos) "
      ],
      "execution_count": 50,
      "outputs": [
        {
          "output_type": "stream",
          "text": [
            "ejemploooo 10101010\n"
          ],
          "name": "stdout"
        }
      ]
    },
    {
      "cell_type": "markdown",
      "metadata": {
        "id": "M6La63MziPZm"
      },
      "source": [
        "Unpacking assigns each value of the tuple in order to each variable on the left hand side of the equals sign. Some functions, including user-defined functions, may return tuples, so we can use this to directly unpack them and access the values that we want."
      ]
    },
    {
      "cell_type": "markdown",
      "metadata": {
        "id": "jTMSyTiciPZm"
      },
      "source": [
        "### Sets\n",
        "\n",
        "A `set` is a collection of unordered, unique elements. It works almost exactly as you would expect a normal set of things in mathematics to work and is defined using braces (`{}`)."
      ]
    },
    {
      "cell_type": "code",
      "metadata": {
        "id": "t9nyShaHiPZn",
        "colab": {
          "base_uri": "https://localhost:8080/"
        },
        "outputId": "f9e577cc-7e64-4262-b9f6-31e3cafa30ff"
      },
      "source": [
        "things_i_like = {'dogs', 7, 'the number 4', 4, 4, 4, 42, 'lizards', 'man I just LOVE the number 4'}\n",
        "print (things_i_like, type(things_i_like))"
      ],
      "execution_count": 51,
      "outputs": [
        {
          "output_type": "stream",
          "text": [
            "{4, 'dogs', 7, 42, 'man I just LOVE the number 4', 'lizards', 'the number 4'} <class 'set'>\n"
          ],
          "name": "stdout"
        }
      ]
    },
    {
      "cell_type": "code",
      "metadata": {
        "colab": {
          "base_uri": "https://localhost:8080/"
        },
        "id": "dKqu-oOv1KQv",
        "outputId": "cfb2e47e-7928-451c-91d1-90d13976ee0d"
      },
      "source": [
        "############\n",
        "cosas = {\"helado\", \"thegame\", 5}\n",
        "cosas"
      ],
      "execution_count": 52,
      "outputs": [
        {
          "output_type": "execute_result",
          "data": {
            "text/plain": [
              "{5, 'helado', 'thegame'}"
            ]
          },
          "metadata": {
            "tags": []
          },
          "execution_count": 52
        }
      ]
    },
    {
      "cell_type": "markdown",
      "metadata": {
        "id": "MJZkf6gbiPZn"
      },
      "source": [
        "Note how any extra instances of the same item are removed in the final set. We can also create a `set` from a list, using the `set()` function."
      ]
    },
    {
      "cell_type": "code",
      "metadata": {
        "colab": {
          "base_uri": "https://localhost:8080/"
        },
        "id": "tKsdPHEV1ZxF",
        "outputId": "445c8d53-a524-4108-cf6e-b6238fa18c06"
      },
      "source": [
        "#########\n",
        "cosas2 = set(mi_lista)\n",
        "cosas2"
      ],
      "execution_count": 54,
      "outputs": [
        {
          "output_type": "execute_result",
          "data": {
            "text/plain": [
              "{'amigos', 'hunos', 'prestar', 'tu', 'yo'}"
            ]
          },
          "metadata": {
            "tags": []
          },
          "execution_count": 54
        }
      ]
    },
    {
      "cell_type": "code",
      "metadata": {
        "id": "861FWjtOiPZn",
        "colab": {
          "base_uri": "https://localhost:8080/"
        },
        "outputId": "41078fe4-0e54-4085-e7e3-9e7d94379306"
      },
      "source": [
        "animal_list = ['cats', 'dogs', 'dogs', 'dogs', 'lizards', 'sponges', 'cows', 'bats', 'sponges']\n",
        "animal_set = set(animal_list)\n",
        "print (animal_set) # Removes all extra instances from the list"
      ],
      "execution_count": 55,
      "outputs": [
        {
          "output_type": "stream",
          "text": [
            "{'dogs', 'bats', 'lizards', 'sponges', 'cats', 'cows'}\n"
          ],
          "name": "stdout"
        }
      ]
    },
    {
      "cell_type": "code",
      "metadata": {
        "colab": {
          "base_uri": "https://localhost:8080/"
        },
        "id": "1Pw3d_nR1tAu",
        "outputId": "9c9f93b9-6c38-4f11-f870-74653c2486af"
      },
      "source": [
        "##########\n",
        "lista_repetida = [5,5,5,5,5,5]\n",
        "setsinrepeticiones = set(lista_repetida)\n",
        "setsinrepeticiones"
      ],
      "execution_count": 58,
      "outputs": [
        {
          "output_type": "execute_result",
          "data": {
            "text/plain": [
              "{5}"
            ]
          },
          "metadata": {
            "tags": []
          },
          "execution_count": 58
        }
      ]
    },
    {
      "cell_type": "markdown",
      "metadata": {
        "id": "dGrb3MQCiPZn"
      },
      "source": [
        "Calling `len()` on a set will tell you how many elements are in it."
      ]
    },
    {
      "cell_type": "code",
      "metadata": {
        "id": "g-FizZGGiPZn",
        "colab": {
          "base_uri": "https://localhost:8080/"
        },
        "outputId": "e9fff11f-90d3-4669-e9cd-916a51420ab5"
      },
      "source": [
        "print (len(animal_set))"
      ],
      "execution_count": 60,
      "outputs": [
        {
          "output_type": "stream",
          "text": [
            "6\n"
          ],
          "name": "stdout"
        }
      ]
    },
    {
      "cell_type": "code",
      "metadata": {
        "colab": {
          "base_uri": "https://localhost:8080/"
        },
        "id": "7ccof8gU2DV6",
        "outputId": "09ac2a9b-6824-4f3f-88c1-30eb7920cf7c"
      },
      "source": [
        "len(setsinrepeticiones)"
      ],
      "execution_count": 61,
      "outputs": [
        {
          "output_type": "execute_result",
          "data": {
            "text/plain": [
              "1"
            ]
          },
          "metadata": {
            "tags": []
          },
          "execution_count": 61
        }
      ]
    },
    {
      "cell_type": "markdown",
      "metadata": {
        "id": "MCLC0wCciPZn"
      },
      "source": [
        "Because a `set` is unordered, we can't access individual elements using an index. We can, however, easily check for membership (to see if something is contained in a set) and take the unions and intersections of sets by using the built-in set functions."
      ]
    },
    {
      "cell_type": "code",
      "metadata": {
        "id": "JWLlm0o6iPZo",
        "colab": {
          "base_uri": "https://localhost:8080/"
        },
        "outputId": "7bd3ca41-5aed-4994-a17a-71870c332652"
      },
      "source": [
        "'cats' in animal_set # Here we check for membership using the `in` keyword."
      ],
      "execution_count": 62,
      "outputs": [
        {
          "output_type": "execute_result",
          "data": {
            "text/plain": [
              "True"
            ]
          },
          "metadata": {
            "tags": []
          },
          "execution_count": 62
        }
      ]
    },
    {
      "cell_type": "code",
      "metadata": {
        "colab": {
          "base_uri": "https://localhost:8080/"
        },
        "id": "P1gIz2Cq2Kre",
        "outputId": "f9bfec30-b433-4bb8-c76c-89c21511e6f3"
      },
      "source": [
        "###########\n",
        "\"helado\" in cosas"
      ],
      "execution_count": 64,
      "outputs": [
        {
          "output_type": "execute_result",
          "data": {
            "text/plain": [
              "True"
            ]
          },
          "metadata": {
            "tags": []
          },
          "execution_count": 64
        }
      ]
    },
    {
      "cell_type": "markdown",
      "metadata": {
        "id": "7oQ6rkhmiPZo"
      },
      "source": [
        "Here we checked to see whether the string 'cats' was contained within our `animal_set` and it returned `True`, telling us that it is indeed in our set.\n",
        "\n",
        "We can connect sets by using typical mathematical set operators, namely `|`, for union, and `&`, for intersection. Using `|` or `&` will return exactly what you would expect if you are familiar with sets in mathematics."
      ]
    },
    {
      "cell_type": "code",
      "metadata": {
        "id": "68YiT4iliPZo"
      },
      "source": [
        "print animal_set | things_i_like # You can also write things_i_like | animal_set with no difference"
      ],
      "execution_count": null,
      "outputs": []
    },
    {
      "cell_type": "code",
      "metadata": {
        "colab": {
          "base_uri": "https://localhost:8080/"
        },
        "id": "Pc7VjjHj2Y9O",
        "outputId": "469b87a3-c984-45e3-e4ab-23304afee1e0"
      },
      "source": [
        "########### Union de sets\n",
        "cosas | cosas2"
      ],
      "execution_count": 65,
      "outputs": [
        {
          "output_type": "execute_result",
          "data": {
            "text/plain": [
              "{5, 'amigos', 'helado', 'hunos', 'prestar', 'thegame', 'tu', 'yo'}"
            ]
          },
          "metadata": {
            "tags": []
          },
          "execution_count": 65
        }
      ]
    },
    {
      "cell_type": "markdown",
      "metadata": {
        "id": "ilnOvTqgiPZo"
      },
      "source": [
        "Pairing two sets together with `|` combines the sets, removing any repetitions to make every set element unique."
      ]
    },
    {
      "cell_type": "code",
      "metadata": {
        "id": "-B-st3QviPZo"
      },
      "source": [
        "print animal_set & things_i_like # You can also write things_i_like & animal_set with no difference"
      ],
      "execution_count": null,
      "outputs": []
    },
    {
      "cell_type": "code",
      "metadata": {
        "colab": {
          "base_uri": "https://localhost:8080/"
        },
        "id": "X-N1ziDx2icQ",
        "outputId": "6c2b00ee-b7b1-43c9-b16a-9dca7cd6c2db"
      },
      "source": [
        "########### interseccion\n",
        "cosas & cosas2"
      ],
      "execution_count": 66,
      "outputs": [
        {
          "output_type": "execute_result",
          "data": {
            "text/plain": [
              "set()"
            ]
          },
          "metadata": {
            "tags": []
          },
          "execution_count": 66
        }
      ]
    },
    {
      "cell_type": "markdown",
      "metadata": {
        "id": "oH3Ro-LCiPZo"
      },
      "source": [
        "Pairing two sets together with `&` will calculate the intersection of both sets, returning a set that only contains what they have in common.\n",
        "\n",
        "If you are interested in learning more about the built-in functions for sets, feel free to check out the [documentation](https://docs.python.org/2/library/sets.html)."
      ]
    },
    {
      "cell_type": "markdown",
      "metadata": {
        "id": "PuDBlDHPiPZp"
      },
      "source": [
        "### Dictionaries\n",
        "\n",
        "Another essential data structure in Python is the dictionary. Dictionaries are defined with a combination of curly braces (`{}`) and colons (`:`). The braces define the beginning and end of a dictionary and the colons indicate key-value pairs. A dictionary is essentially a set of key-value pairs. The key of any entry must be an immutable data type. This makes both strings and tuples candidates. Keys can be both added and deleted.\n",
        "\n",
        "In the following example, we have a dictionary composed of key-value pairs where the key is a genre of fiction (`string`) and the value is a list of books (`list`) within that genre. Since a collection is still considered a single entity, we can use one to collect multiple variables or values into one key-value pair."
      ]
    },
    {
      "cell_type": "code",
      "metadata": {
        "id": "qxllq_pbiPZp"
      },
      "source": [
        "my_dict = {\"High Fantasy\": [\"Wheel of Time\", \"Lord of the Rings\"], \n",
        "           \"Sci-fi\": [\"Book of the New Sun\", \"Neuromancer\", \"Snow Crash\"],\n",
        "           \"Weird Fiction\": [\"At the Mountains of Madness\", \"The House on the Borderland\"]}"
      ],
      "execution_count": 73,
      "outputs": []
    },
    {
      "cell_type": "code",
      "metadata": {
        "id": "iRKt5H-g3b-k"
      },
      "source": [
        "########## \n",
        "diccionario = {\"1\" : [\"uno\"],\n",
        "               \"2\" : [\"dos\"],\n",
        "               \"3\" : [\"tres\"]}"
      ],
      "execution_count": 69,
      "outputs": []
    },
    {
      "cell_type": "markdown",
      "metadata": {
        "id": "jpqvHthGiPZp"
      },
      "source": [
        "After defining a dictionary, we can access any individual value by indicating its key in brackets."
      ]
    },
    {
      "cell_type": "code",
      "metadata": {
        "id": "zVcZEr4biPZp"
      },
      "source": [
        "print my_dict[\"Sci-fi\"]"
      ],
      "execution_count": null,
      "outputs": []
    },
    {
      "cell_type": "code",
      "metadata": {
        "colab": {
          "base_uri": "https://localhost:8080/"
        },
        "id": "KQ-q9R8L3zCI",
        "outputId": "3faca81f-f378-453e-fd92-7cbdd68c66a2"
      },
      "source": [
        "#############\n",
        "diccionario[\"1\"]"
      ],
      "execution_count": 70,
      "outputs": [
        {
          "output_type": "execute_result",
          "data": {
            "text/plain": [
              "['uno']"
            ]
          },
          "metadata": {
            "tags": []
          },
          "execution_count": 70
        }
      ]
    },
    {
      "cell_type": "markdown",
      "metadata": {
        "id": "vn-i1djPiPZp"
      },
      "source": [
        "We can also change the value associated with a given key"
      ]
    },
    {
      "cell_type": "code",
      "metadata": {
        "id": "FW5nV4rDiPZq"
      },
      "source": [
        "my_dict[\"Sci-fi\"] = \"I can't read\"\n",
        "print my_dict[\"Sci-fi\"]"
      ],
      "execution_count": null,
      "outputs": []
    },
    {
      "cell_type": "code",
      "metadata": {
        "colab": {
          "base_uri": "https://localhost:8080/",
          "height": 35
        },
        "id": "GDLZeDsY35El",
        "outputId": "18194bee-0f8b-4949-d00e-38ad582668c7"
      },
      "source": [
        "#########\n",
        "diccionario[\"1\"] = \"unon't\"\n",
        "diccionario[\"1\"]"
      ],
      "execution_count": 71,
      "outputs": [
        {
          "output_type": "execute_result",
          "data": {
            "application/vnd.google.colaboratory.intrinsic+json": {
              "type": "string"
            },
            "text/plain": [
              "\"unon't\""
            ]
          },
          "metadata": {
            "tags": []
          },
          "execution_count": 71
        }
      ]
    },
    {
      "cell_type": "markdown",
      "metadata": {
        "id": "qYCpIM_SiPZq"
      },
      "source": [
        "Adding a new key-value pair is as simple as defining it."
      ]
    },
    {
      "cell_type": "code",
      "metadata": {
        "id": "vYQHDDoyiPZq",
        "colab": {
          "base_uri": "https://localhost:8080/"
        },
        "outputId": "012faa61-6496-4731-c5d4-df5c4393f8f5"
      },
      "source": [
        "my_dict[\"Historical Fiction\"] = [\"Pillars of the Earth\"]\n",
        "my_dict[\"Historical Fiction\"]"
      ],
      "execution_count": 75,
      "outputs": [
        {
          "output_type": "execute_result",
          "data": {
            "text/plain": [
              "['Pillars of the Earth']"
            ]
          },
          "metadata": {
            "tags": []
          },
          "execution_count": 75
        }
      ]
    },
    {
      "cell_type": "code",
      "metadata": {
        "id": "mA3ZGpZ14V2-"
      },
      "source": [
        "################\n",
        "diccionario[\"adicionado\"] = \"hola de nuevo, p\""
      ],
      "execution_count": 78,
      "outputs": []
    },
    {
      "cell_type": "code",
      "metadata": {
        "id": "y2UWwpZoiPZq",
        "colab": {
          "base_uri": "https://localhost:8080/"
        },
        "outputId": "55c9c91a-63bf-4e74-aefc-f2538ccb196b"
      },
      "source": [
        "my_dict"
      ],
      "execution_count": 77,
      "outputs": [
        {
          "output_type": "execute_result",
          "data": {
            "text/plain": [
              "{'High Fantasy': ['Wheel of Time', 'Lord of the Rings'],\n",
              " 'Historical Fiction': ['Pillars of the Earth'],\n",
              " 'Sci-fi': ['Book of the New Sun', 'Neuromancer', 'Snow Crash'],\n",
              " 'Weird Fiction': ['At the Mountains of Madness',\n",
              "  'The House on the Borderland']}"
            ]
          },
          "metadata": {
            "tags": []
          },
          "execution_count": 77
        }
      ]
    },
    {
      "cell_type": "code",
      "metadata": {
        "colab": {
          "base_uri": "https://localhost:8080/"
        },
        "id": "Ku32n3h-4dtR",
        "outputId": "fca7da9c-55d2-44ba-f1b6-0a8084a368b1"
      },
      "source": [
        "diccionario"
      ],
      "execution_count": 79,
      "outputs": [
        {
          "output_type": "execute_result",
          "data": {
            "text/plain": [
              "{'1': \"unon't\", '2': ['dos'], '3': ['tres'], 'adicionado': 'hola de nuevo, p'}"
            ]
          },
          "metadata": {
            "tags": []
          },
          "execution_count": 79
        }
      ]
    },
    {
      "cell_type": "markdown",
      "metadata": {
        "id": "Hj5UivTKiPZq"
      },
      "source": [
        "## String Shenanigans\n",
        "\n",
        "We already know that strings are generally used for text. We can used built-in operations to combine, split, and format strings easily, depending on our needs.\n",
        "\n",
        "The `+` symbol indicates concatenation in string language. It will combine two strings into a longer string."
      ]
    },
    {
      "cell_type": "code",
      "metadata": {
        "id": "CRiWSKtOiPZq",
        "colab": {
          "base_uri": "https://localhost:8080/",
          "height": 53
        },
        "outputId": "c09099bb-e3da-4f9d-c3d3-4197f7c2e350"
      },
      "source": [
        "first_string = '\"Beware the Jabberwock, my son! /The jaws that bite, the claws that catch! /'\n",
        "second_string = 'Beware the Jubjub bird, and shun /The frumious Bandersnatch!\"/'\n",
        "third_string = first_string + second_string\n",
        "third_string"
      ],
      "execution_count": 80,
      "outputs": [
        {
          "output_type": "execute_result",
          "data": {
            "application/vnd.google.colaboratory.intrinsic+json": {
              "type": "string"
            },
            "text/plain": [
              "'\"Beware the Jabberwock, my son! /The jaws that bite, the claws that catch! /Beware the Jubjub bird, and shun /The frumious Bandersnatch!\"/'"
            ]
          },
          "metadata": {
            "tags": []
          },
          "execution_count": 80
        }
      ]
    },
    {
      "cell_type": "code",
      "metadata": {
        "colab": {
          "base_uri": "https://localhost:8080/",
          "height": 35
        },
        "id": "DbbbKK5f4nM0",
        "outputId": "f5ae6f2b-b4ca-41c3-f899-257ee992d305"
      },
      "source": [
        "###############\n",
        "primer_string = \"You must\"\n",
        "segundo_string = \"Program, \"\n",
        "tercer_string = segundo_string + primer_string\n",
        "tercer_string"
      ],
      "execution_count": 84,
      "outputs": [
        {
          "output_type": "execute_result",
          "data": {
            "application/vnd.google.colaboratory.intrinsic+json": {
              "type": "string"
            },
            "text/plain": [
              "'Program, You must'"
            ]
          },
          "metadata": {
            "tags": []
          },
          "execution_count": 84
        }
      ]
    },
    {
      "cell_type": "markdown",
      "metadata": {
        "id": "eou-J0j2iPZr"
      },
      "source": [
        "Strings are also indexed much in the same way that lists are."
      ]
    },
    {
      "cell_type": "code",
      "metadata": {
        "id": "T-PNMzOjiPZr",
        "colab": {
          "base_uri": "https://localhost:8080/"
        },
        "outputId": "ac3af3b8-ef39-44e3-d6cc-289cfa1d091c"
      },
      "source": [
        "my_string = 'Supercalifragilisticexpialidocious'\n",
        "print ('The first letter is: ', my_string[0]) # Uppercase S\n",
        "print ('The last letter is: ', my_string[-1]) # lowercase s\n",
        "print ('The second to last letter is: ', my_string[-2]) # lowercase u\n",
        "print ('The first five characters are: ', my_string[0:5]) # Remember: slicing doesn't include the final element!\n",
        "print ('Reverse it!: ', my_string[::-1])"
      ],
      "execution_count": 86,
      "outputs": [
        {
          "output_type": "stream",
          "text": [
            "The first letter is:  S\n",
            "The last letter is:  s\n",
            "The second to last letter is:  u\n",
            "The first five characters are:  Super\n",
            "Reverse it!:  suoicodilaipxecitsiligarfilacrepuS\n"
          ],
          "name": "stdout"
        }
      ]
    },
    {
      "cell_type": "code",
      "metadata": {
        "colab": {
          "base_uri": "https://localhost:8080/"
        },
        "id": "z8zVGjc85TEc",
        "outputId": "cfd64461-c798-4f26-dd18-19939161e124"
      },
      "source": [
        "##########\n",
        "mi_string = \"Ya estoy cansado\"\n",
        "print ('La primera letra es: ', mi_string[0]) # Uppercase S\n",
        "print ('La ultima letra es: ', mi_string[-1]) # lowercase s\n",
        "print ('La penultima letra es: ', mi_string[-2]) # lowercase u\n",
        "print ('Las primeras cinco letras son: ', mi_string[0:5]) # Remember: slicing doesn't include the final element!\n",
        "print ('Al revez: ', mi_string[::-1])"
      ],
      "execution_count": 87,
      "outputs": [
        {
          "output_type": "stream",
          "text": [
            "La primera letra es:  Y\n",
            "La ultima letra es:  o\n",
            "La penultima letra es:  d\n",
            "Las primeras cinco letras son:  Ya es\n",
            "Al revez:  odasnac yotse aY\n"
          ],
          "name": "stdout"
        }
      ]
    },
    {
      "cell_type": "markdown",
      "metadata": {
        "id": "BIHn1yZiiPZr"
      },
      "source": [
        "Built-in objects and classes often have special functions associated with them that are called methods. We access these methods by using a period ('.'). We will cover objects and their associated methods more in another lecture!\n",
        "\n",
        "Using string methods we can count instances of a character or group of characters."
      ]
    },
    {
      "cell_type": "code",
      "metadata": {
        "scrolled": true,
        "id": "RW8l3PidiPZr"
      },
      "source": [
        "print 'Count of the letter i in Supercalifragilisticexpialidocious: ', my_string.count('i')\n",
        "print 'Count of \"li\" in the same word: ', my_string.count('li')"
      ],
      "execution_count": null,
      "outputs": []
    },
    {
      "cell_type": "code",
      "metadata": {
        "colab": {
          "base_uri": "https://localhost:8080/"
        },
        "id": "bkf5g1mt6RH8",
        "outputId": "faf4af1d-7dbf-400a-a006-36b630ea2a0a"
      },
      "source": [
        "##################\n",
        "print (\"\"\"el numero de veces que esta la letra e en \"Ya estoy cansado es\": \"\"\", mi_string.count('e'))"
      ],
      "execution_count": 89,
      "outputs": [
        {
          "output_type": "stream",
          "text": [
            "el numero de veces que esta la letra e en \"Ya estoy cansado es\":  1\n"
          ],
          "name": "stdout"
        }
      ]
    },
    {
      "cell_type": "markdown",
      "metadata": {
        "id": "GFKvosRqiPZr"
      },
      "source": [
        "We can also find the first instance of a character or group of characters in a string."
      ]
    },
    {
      "cell_type": "code",
      "metadata": {
        "id": "9yXNmozaiPZr"
      },
      "source": [
        "print 'The first time i appears is at index: ', my_string.find('i')"
      ],
      "execution_count": null,
      "outputs": []
    },
    {
      "cell_type": "code",
      "metadata": {
        "colab": {
          "base_uri": "https://localhost:8080/"
        },
        "id": "FHjzkXDC66pm",
        "outputId": "58da199b-da9f-4c12-afe6-65fe58400243"
      },
      "source": [
        "##############\n",
        "print (\"La primera vez que aparece la letra a es en el indice: \", mi_string.find('a'))"
      ],
      "execution_count": 90,
      "outputs": [
        {
          "output_type": "stream",
          "text": [
            "La primera vez que aparece la letra a es en el indice:  1\n"
          ],
          "name": "stdout"
        }
      ]
    },
    {
      "cell_type": "markdown",
      "metadata": {
        "id": "97NazNd_iPZs"
      },
      "source": [
        "As well as replace characters in a string."
      ]
    },
    {
      "cell_type": "code",
      "metadata": {
        "id": "2O-fh4f-iPZs"
      },
      "source": [
        "print \"All i's are now a's: \", my_string.replace('i', 'a')"
      ],
      "execution_count": null,
      "outputs": []
    },
    {
      "cell_type": "code",
      "metadata": {
        "colab": {
          "base_uri": "https://localhost:8080/"
        },
        "id": "u88PbB6X7GYw",
        "outputId": "48a7f669-bbb6-4da7-9a4c-efe3b2d8587d"
      },
      "source": [
        "#################\n",
        "print (\"todas las as son reemplazadas con ies :\", mi_string.replace('a','i'))"
      ],
      "execution_count": 92,
      "outputs": [
        {
          "output_type": "stream",
          "text": [
            "todas las as son reemplazadas con ies : Yi estoy cinsido\n"
          ],
          "name": "stdout"
        }
      ]
    },
    {
      "cell_type": "code",
      "metadata": {
        "id": "xo_mKrIaiPZs"
      },
      "source": [
        "print \"It's raining cats and dogs\".replace('dogs', 'more cats')"
      ],
      "execution_count": null,
      "outputs": []
    },
    {
      "cell_type": "code",
      "metadata": {
        "colab": {
          "base_uri": "https://localhost:8080/"
        },
        "id": "SANS8TJQ7dFs",
        "outputId": "065bd75e-e741-4a05-86f7-59706fac8518"
      },
      "source": [
        "##############\n",
        "print (\"No se deje coger la tarde\".replace('a', 'i'))"
      ],
      "execution_count": 94,
      "outputs": [
        {
          "output_type": "stream",
          "text": [
            "No se deje coger li tirde\n"
          ],
          "name": "stdout"
        }
      ]
    },
    {
      "cell_type": "markdown",
      "metadata": {
        "id": "vJMqg3cEiPZs"
      },
      "source": [
        "There are also some methods that are unique to strings. The function `upper()` will convert all characters in a string to uppercase, while `lower()` will convert all characters in a string to lowercase!"
      ]
    },
    {
      "cell_type": "code",
      "metadata": {
        "id": "sHdPhG_9iPZs"
      },
      "source": [
        "my_string = \"I can't hear you\"\n",
        "print my_string.upper()\n",
        "my_string = \"I said HELLO\"\n",
        "print my_string.lower()"
      ],
      "execution_count": null,
      "outputs": []
    },
    {
      "cell_type": "code",
      "metadata": {
        "colab": {
          "base_uri": "https://localhost:8080/"
        },
        "id": "h5msnF0H74au",
        "outputId": "5a37d7f3-7bee-4cd0-ecb8-6b749dd27a18"
      },
      "source": [
        "################\n",
        "print (mi_string.upper())\n",
        "print (mi_string.lower())"
      ],
      "execution_count": 95,
      "outputs": [
        {
          "output_type": "stream",
          "text": [
            "YA ESTOY CANSADO\n",
            "ya estoy cansado\n"
          ],
          "name": "stdout"
        }
      ]
    },
    {
      "cell_type": "markdown",
      "metadata": {
        "id": "7IiDRj0aiPZs"
      },
      "source": [
        "### String Formatting\n",
        "\n",
        "Using the `format()` method we can add in variable values and generally format our strings."
      ]
    },
    {
      "cell_type": "code",
      "metadata": {
        "id": "M-1Hjb1NiPZt",
        "colab": {
          "base_uri": "https://localhost:8080/",
          "height": 35
        },
        "outputId": "6c7be549-4408-4333-8a61-29f8bbae457a"
      },
      "source": [
        "my_string = \"{0} {1}\".format('Marco', 'Polo')\n",
        "my_string"
      ],
      "execution_count": 96,
      "outputs": [
        {
          "output_type": "execute_result",
          "data": {
            "application/vnd.google.colaboratory.intrinsic+json": {
              "type": "string"
            },
            "text/plain": [
              "'Marco Polo'"
            ]
          },
          "metadata": {
            "tags": []
          },
          "execution_count": 96
        }
      ]
    },
    {
      "cell_type": "code",
      "metadata": {
        "colab": {
          "base_uri": "https://localhost:8080/",
          "height": 35
        },
        "id": "2neYFcLI9SF7",
        "outputId": "401562b8-411c-415e-e384-3baf266a6787"
      },
      "source": [
        "##################\n",
        "mi_string = \"{3} {1} {2} {0}\". format ('4','2','3','1')\n",
        "mi_string"
      ],
      "execution_count": 100,
      "outputs": [
        {
          "output_type": "execute_result",
          "data": {
            "application/vnd.google.colaboratory.intrinsic+json": {
              "type": "string"
            },
            "text/plain": [
              "'1 2 3 4'"
            ]
          },
          "metadata": {
            "tags": []
          },
          "execution_count": 100
        }
      ]
    },
    {
      "cell_type": "markdown",
      "metadata": {
        "id": "b17prT5CiPZt"
      },
      "source": [
        "We use braces (`{}`) to indicate parts of the string that will be filled in later and we use the arguments of the `format()` function to provide the values to substitute. The numbers within the braces indicate the index of the value in the `format()` arguments."
      ]
    },
    {
      "cell_type": "markdown",
      "metadata": {
        "id": "AbHJP2bhiPZt"
      },
      "source": [
        "See the `format()` [documentation](https://docs.python.org/2/library/string.html#format-examples) for additional examples."
      ]
    },
    {
      "cell_type": "markdown",
      "metadata": {
        "id": "cRVCLsd4iPZt"
      },
      "source": [
        "If you need some quick and dirty formatting, you can instead use the `%` symbol, called the string formatting operator. "
      ]
    },
    {
      "cell_type": "code",
      "metadata": {
        "id": "Hus2LkQuiPZt",
        "colab": {
          "base_uri": "https://localhost:8080/",
          "height": 35
        },
        "outputId": "2746bcab-d143-44e5-d870-ca70bf33598a"
      },
      "source": [
        "'insert %s here' % 'value'"
      ],
      "execution_count": 98,
      "outputs": [
        {
          "output_type": "execute_result",
          "data": {
            "application/vnd.google.colaboratory.intrinsic+json": {
              "type": "string"
            },
            "text/plain": [
              "'insert value here'"
            ]
          },
          "metadata": {
            "tags": []
          },
          "execution_count": 98
        }
      ]
    },
    {
      "cell_type": "code",
      "metadata": {
        "colab": {
          "base_uri": "https://localhost:8080/",
          "height": 35
        },
        "id": "SAkD6Y_L-Amb",
        "outputId": "493107aa-4981-4f33-adb0-f36198a288e2"
      },
      "source": [
        "######################\n",
        "\"insere %s aca\" % 'nombre'"
      ],
      "execution_count": 101,
      "outputs": [
        {
          "output_type": "execute_result",
          "data": {
            "application/vnd.google.colaboratory.intrinsic+json": {
              "type": "string"
            },
            "text/plain": [
              "'insere nombre aca'"
            ]
          },
          "metadata": {
            "tags": []
          },
          "execution_count": 101
        }
      ]
    },
    {
      "cell_type": "markdown",
      "metadata": {
        "id": "wBZCykc0iPZu"
      },
      "source": [
        "The `%` symbol basically cues Python to create a placeholder. Whatever character follows the `%` (in the string) indicates what sort of type the value put into the placeholder will have. This character is called a *conversion type*. Once the string has been closed, we need another `%` that will be followed by the values to insert. In the case of one value, you can just put it there. If you are inserting more than one value, they must be enclosed in a tuple."
      ]
    },
    {
      "cell_type": "code",
      "metadata": {
        "id": "pq_vi1_PiPZu",
        "colab": {
          "base_uri": "https://localhost:8080/",
          "height": 35
        },
        "outputId": "d1bc46bb-14a0-4c07-9b66-c6ed08051b21"
      },
      "source": [
        "'There are %s cats in my %s' % (13, 'apartment')"
      ],
      "execution_count": 99,
      "outputs": [
        {
          "output_type": "execute_result",
          "data": {
            "application/vnd.google.colaboratory.intrinsic+json": {
              "type": "string"
            },
            "text/plain": [
              "'There are 13 cats in my apartment'"
            ]
          },
          "metadata": {
            "tags": []
          },
          "execution_count": 99
        }
      ]
    },
    {
      "cell_type": "code",
      "metadata": {
        "colab": {
          "base_uri": "https://localhost:8080/",
          "height": 35
        },
        "id": "qtEO5bTh-NKe",
        "outputId": "b50734a8-a98d-47fd-d76f-3d0ad5bb0363"
      },
      "source": [
        "##############\n",
        "'Hay %s en mi %s' % (2, 'gatas')"
      ],
      "execution_count": 102,
      "outputs": [
        {
          "output_type": "execute_result",
          "data": {
            "application/vnd.google.colaboratory.intrinsic+json": {
              "type": "string"
            },
            "text/plain": [
              "'Hay 2 en mi gatas'"
            ]
          },
          "metadata": {
            "tags": []
          },
          "execution_count": 102
        }
      ]
    },
    {
      "cell_type": "markdown",
      "metadata": {
        "id": "ksXSqUnziPZu"
      },
      "source": [
        "In these examples, the `%s` indicates that Python should convert the values into strings. There are multiple conversion types that you can use to get more specific with the the formatting. See the string formatting [documentation](https://docs.python.org/2/library/stdtypes.html#string-formatting) for additional examples and more complete details on use."
      ]
    },
    {
      "cell_type": "markdown",
      "metadata": {
        "id": "4M5b8_iBiPZu"
      },
      "source": [
        "## Logical Operators\n",
        "### Basic Logic\n",
        "\n",
        "Logical operators deal with `boolean` values, as we briefly covered before. If you recall, a `bool` takes on one of two values, `True` or `False` (or $1$ or $0$). The basic logical statements that we can make are defined using the built-in comparators. These are `==` (equal), `!=` (not equal), `<` (less than), `>` (greater than), `<=` (less than or equal to), and `>=` (greater than or equal to)."
      ]
    },
    {
      "cell_type": "code",
      "metadata": {
        "id": "IwixOJn7iPZu"
      },
      "source": [
        "5 == 5"
      ],
      "execution_count": null,
      "outputs": []
    },
    {
      "cell_type": "code",
      "metadata": {
        "colab": {
          "base_uri": "https://localhost:8080/"
        },
        "id": "l-_c05et-cFi",
        "outputId": "eb002668-c3d1-42e1-bc33-82404cacb0d8"
      },
      "source": [
        "###########\n",
        "10 == 10"
      ],
      "execution_count": 103,
      "outputs": [
        {
          "output_type": "execute_result",
          "data": {
            "text/plain": [
              "True"
            ]
          },
          "metadata": {
            "tags": []
          },
          "execution_count": 103
        }
      ]
    },
    {
      "cell_type": "code",
      "metadata": {
        "id": "902OG9tdiPZu"
      },
      "source": [
        "5 > 5"
      ],
      "execution_count": null,
      "outputs": []
    },
    {
      "cell_type": "code",
      "metadata": {
        "colab": {
          "base_uri": "https://localhost:8080/"
        },
        "id": "PVQhv0MG-eWC",
        "outputId": "7000ba47-c10d-48ae-c394-814d36f70c8d"
      },
      "source": [
        "#############\n",
        "10<10"
      ],
      "execution_count": 104,
      "outputs": [
        {
          "output_type": "execute_result",
          "data": {
            "text/plain": [
              "False"
            ]
          },
          "metadata": {
            "tags": []
          },
          "execution_count": 104
        }
      ]
    },
    {
      "cell_type": "markdown",
      "metadata": {
        "id": "cfXKlEC3iPZv"
      },
      "source": [
        "These comparators also work in conjunction with variables."
      ]
    },
    {
      "cell_type": "code",
      "metadata": {
        "id": "_IYkK1N1iPZv"
      },
      "source": [
        "m = 2\n",
        "n = 23\n",
        "print m < n"
      ],
      "execution_count": null,
      "outputs": []
    },
    {
      "cell_type": "code",
      "metadata": {
        "colab": {
          "base_uri": "https://localhost:8080/"
        },
        "id": "q8vWnZnV-hxG",
        "outputId": "d016d493-8b2d-4edf-f8df-9900944ab7ff"
      },
      "source": [
        "###############\n",
        "a = 1 \n",
        "b = 1.5\n",
        "a <b"
      ],
      "execution_count": 105,
      "outputs": [
        {
          "output_type": "execute_result",
          "data": {
            "text/plain": [
              "True"
            ]
          },
          "metadata": {
            "tags": []
          },
          "execution_count": 105
        }
      ]
    },
    {
      "cell_type": "markdown",
      "metadata": {
        "id": "ko8TPE_9iPZv"
      },
      "source": [
        "We can string these comparators together to make more complex logical statements using the logical operators `or`, `and`, and `not`. "
      ]
    },
    {
      "cell_type": "code",
      "metadata": {
        "id": "-Bg3AkvDiPZv"
      },
      "source": [
        "statement_1 = 10 > 2\n",
        "statement_2 = 4 <= 6\n",
        "print \"Statement 1 truth value: {0}\".format(statement_1)\n",
        "print \"Statement 2 truth value: {0}\".format(statement_2)\n",
        "print \"Statement 1 and Statement 2: {0}\".format(statement_1 and statement_2)"
      ],
      "execution_count": null,
      "outputs": []
    },
    {
      "cell_type": "code",
      "metadata": {
        "colab": {
          "base_uri": "https://localhost:8080/"
        },
        "id": "iuQrCLtH-rfK",
        "outputId": "3a5fba23-d44b-4d86-ead4-301960f7313e"
      },
      "source": [
        "###########\n",
        "predicado1 = 10<1\n",
        "predicado2 = 2<10\n",
        "print ('valor del predicado 1: {0}'.format(predicado1))\n",
        "print ('valor del predicado 2: {0}'.format(predicado2))\n",
        "print ('valos del predicado 1 y 2 {0}'.format(predicado1 and predicado2))"
      ],
      "execution_count": 106,
      "outputs": [
        {
          "output_type": "stream",
          "text": [
            "valor del predicado 1: False\n",
            "valor del predicado 2: True\n",
            "valos del predicado 1 y 2 False\n"
          ],
          "name": "stdout"
        }
      ]
    },
    {
      "cell_type": "markdown",
      "metadata": {
        "id": "RY7HuKkwiPZv"
      },
      "source": [
        "The `or` operator performs a logical `or` calculation. This is an inclusive `or`, so if either component paired together by `or` is `True`, the whole statement will be `True`. The `and` statement only outputs `True` if all components that are `and`ed together are True. Otherwise it will output `False`. The `not` statement simply inverts the truth value of whichever statement follows it. So a `True` statement will be evaluated as `False` when a `not` is placed in front of it. Similarly, a `False` statement will become `True` when a `not` is in front of it.\n",
        "\n",
        "Say that we have two logical statements, or assertions, $P$ and $Q$. The truth table for the basic logical operators is as follows:\n",
        "\n",
        "|  P  |  Q  | `not` P| P `and` Q | P `or` Q|\n",
        "|:-----:|:-----:|:---:|:---:|:---:|\n",
        "| `True` | `True` | `False` | `True` | `True` |\n",
        "| `False` | `True` | `True` | `False` | `True` |\n",
        "| `True` | `False` | `False` | `False` | `True` |\n",
        "| `False` | `False` | `True` | `False` | `False` |\n",
        "\n",
        "We can string multiple logical statements together using the logical operators."
      ]
    },
    {
      "cell_type": "code",
      "metadata": {
        "id": "P0i69HDviPZv"
      },
      "source": [
        "print ((2 < 3) and (3 > 0)) or ((5 > 6) and not (4 < 2))"
      ],
      "execution_count": null,
      "outputs": []
    },
    {
      "cell_type": "code",
      "metadata": {
        "colab": {
          "base_uri": "https://localhost:8080/"
        },
        "id": "tAW9tXzn_W0M",
        "outputId": "704d05a5-eaba-4791-e0ed-59051782661c"
      },
      "source": [
        "#########################\n",
        "2<3 and 2<9 and 3>4 or 1>0"
      ],
      "execution_count": 107,
      "outputs": [
        {
          "output_type": "execute_result",
          "data": {
            "text/plain": [
              "True"
            ]
          },
          "metadata": {
            "tags": []
          },
          "execution_count": 107
        }
      ]
    },
    {
      "cell_type": "markdown",
      "metadata": {
        "id": "Bwhl1Le1iPZw"
      },
      "source": [
        "Logical statements can be as simple or complex as we like, depending on what we need to express. Evaluating the above logical statement step by step we see that we are evaluating (`True and True`) `or` (`False and not False`). This becomes `True or (False and True`), subsequently becoming `True or False`, ultimately being evaluated as `True`."
      ]
    },
    {
      "cell_type": "markdown",
      "metadata": {
        "id": "KnPMg_euiPZw"
      },
      "source": [
        "#### Truthiness\n",
        "\n",
        "Data types in Python have a fun characteristic called truthiness. What this means is that most built-in types will evaluate as either `True` or `False` when a boolean value is needed (such as with an if-statement). As a general rule, containers like strings, tuples, dictionaries, lists, and sets, will return `True` if they contain anything at all and `False` if they contain nothing."
      ]
    },
    {
      "cell_type": "code",
      "metadata": {
        "id": "DxwtijvMiPZw",
        "colab": {
          "base_uri": "https://localhost:8080/"
        },
        "outputId": "946abea8-9362-49bf-fc07-6494e4a5bfc4"
      },
      "source": [
        "# Similar to how float() and int() work, bool() forces a value to be considered a boolean!\n",
        "bool('')"
      ],
      "execution_count": 108,
      "outputs": [
        {
          "output_type": "execute_result",
          "data": {
            "text/plain": [
              "False"
            ]
          },
          "metadata": {
            "tags": []
          },
          "execution_count": 108
        }
      ]
    },
    {
      "cell_type": "code",
      "metadata": {
        "colab": {
          "base_uri": "https://localhost:8080/"
        },
        "id": "U23gR0jB_vbi",
        "outputId": "411df68b-3363-4497-c87e-9584bb77c6c3"
      },
      "source": [
        "############\n",
        "bool('')"
      ],
      "execution_count": 112,
      "outputs": [
        {
          "output_type": "execute_result",
          "data": {
            "text/plain": [
              "False"
            ]
          },
          "metadata": {
            "tags": []
          },
          "execution_count": 112
        }
      ]
    },
    {
      "cell_type": "code",
      "metadata": {
        "id": "PCKn_LURiPZw",
        "colab": {
          "base_uri": "https://localhost:8080/"
        },
        "outputId": "0b8ce7bb-85d0-4794-ad85-f7eef435286c"
      },
      "source": [
        "bool('I have character!')"
      ],
      "execution_count": 109,
      "outputs": [
        {
          "output_type": "execute_result",
          "data": {
            "text/plain": [
              "True"
            ]
          },
          "metadata": {
            "tags": []
          },
          "execution_count": 109
        }
      ]
    },
    {
      "cell_type": "code",
      "metadata": {
        "colab": {
          "base_uri": "https://localhost:8080/"
        },
        "id": "36YI8AfN_344",
        "outputId": "ab1f0976-a7a8-42d4-ae4d-afcfa5d1b1f2"
      },
      "source": [
        "###############\n",
        "bool(\"no vacio\")"
      ],
      "execution_count": 113,
      "outputs": [
        {
          "output_type": "execute_result",
          "data": {
            "text/plain": [
              "True"
            ]
          },
          "metadata": {
            "tags": []
          },
          "execution_count": 113
        }
      ]
    },
    {
      "cell_type": "code",
      "metadata": {
        "id": "JRhTdXm-iPZw",
        "colab": {
          "base_uri": "https://localhost:8080/"
        },
        "outputId": "8f10b761-f573-4108-a618-a75499de2e82"
      },
      "source": [
        "bool([])"
      ],
      "execution_count": 110,
      "outputs": [
        {
          "output_type": "execute_result",
          "data": {
            "text/plain": [
              "False"
            ]
          },
          "metadata": {
            "tags": []
          },
          "execution_count": 110
        }
      ]
    },
    {
      "cell_type": "code",
      "metadata": {
        "colab": {
          "base_uri": "https://localhost:8080/"
        },
        "id": "DRymGJMT_7Yz",
        "outputId": "ded78e9e-c249-4116-94fc-5bc01ecadb57"
      },
      "source": [
        "############# lista vacia\n",
        "bool([])"
      ],
      "execution_count": 114,
      "outputs": [
        {
          "output_type": "execute_result",
          "data": {
            "text/plain": [
              "False"
            ]
          },
          "metadata": {
            "tags": []
          },
          "execution_count": 114
        }
      ]
    },
    {
      "cell_type": "code",
      "metadata": {
        "id": "X9Rz7OSAiPZx",
        "colab": {
          "base_uri": "https://localhost:8080/"
        },
        "outputId": "3a9d190c-ea5c-463b-df1c-082081c07dea"
      },
      "source": [
        "bool([1, 2, 3])"
      ],
      "execution_count": 111,
      "outputs": [
        {
          "output_type": "execute_result",
          "data": {
            "text/plain": [
              "True"
            ]
          },
          "metadata": {
            "tags": []
          },
          "execution_count": 111
        }
      ]
    },
    {
      "cell_type": "code",
      "metadata": {
        "colab": {
          "base_uri": "https://localhost:8080/"
        },
        "id": "91XP9qkrADbf",
        "outputId": "3c049f06-c093-449a-e43e-f5c083e9f9a3"
      },
      "source": [
        "################ Lista no vacia\n",
        "bool([1])"
      ],
      "execution_count": 115,
      "outputs": [
        {
          "output_type": "execute_result",
          "data": {
            "text/plain": [
              "True"
            ]
          },
          "metadata": {
            "tags": []
          },
          "execution_count": 115
        }
      ]
    },
    {
      "cell_type": "markdown",
      "metadata": {
        "id": "W08ayGgLiPZx"
      },
      "source": [
        "And so on, for the other collections and containers. `None` also evaluates as `False`. The number `1` is equivalent to `True` and the number `0` is equivalent to `False` as well, in a boolean context."
      ]
    },
    {
      "cell_type": "markdown",
      "metadata": {
        "id": "KdR832kliPZx"
      },
      "source": [
        "### If-statements\n",
        "\n",
        "We can create segments of code that only execute if a set of conditions is met. We use if-statements in conjunction with logical statements in order to create branches in our code. \n",
        "\n",
        "An `if` block gets entered when the condition is considered to be `True`. If condition is evaluated as `False`, the `if` block will simply be skipped unless there is an `else` block to accompany it. Conditions are made using either logical operators or by using the truthiness of values in Python. An if-statement is defined with a colon and a block of indented text."
      ]
    },
    {
      "cell_type": "code",
      "metadata": {
        "id": "MkNbjq9uiPZx",
        "colab": {
          "base_uri": "https://localhost:8080/"
        },
        "outputId": "cdd62ba4-a457-462b-af4a-0da5bd38482e"
      },
      "source": [
        "# This is the basic format of an if statement. This is a vacuous example. \n",
        "# The string \"Condition\" will always evaluated as True because it is a\n",
        "# non-empty string. he purpose of this code is to show the formatting of\n",
        "# an if-statement.\n",
        "if \"Condition\": \n",
        "    # This block of code will execute because the string is non-empty\n",
        "    # Everything on these indented lines\n",
        "    print (True)\n",
        "else:\n",
        "    # So if the condition that we examined with if is in fact False\n",
        "    # This block of code will execute INSTEAD of the first block of code\n",
        "    # Everything on these indented lines\n",
        "    print (False)\n",
        "# The else block here will never execute because \"Condition\" is a non-empty string."
      ],
      "execution_count": 118,
      "outputs": [
        {
          "output_type": "stream",
          "text": [
            "True\n"
          ],
          "name": "stdout"
        }
      ]
    },
    {
      "cell_type": "code",
      "metadata": {
        "id": "2nc7VGEAiPZx",
        "colab": {
          "base_uri": "https://localhost:8080/"
        },
        "outputId": "3b6c9f51-d834-466f-c2b2-36ead025ea8a"
      },
      "source": [
        "############\n",
        "if \"\":\n",
        "  print (True)\n",
        "else:\n",
        "    print(False)"
      ],
      "execution_count": 121,
      "outputs": [
        {
          "output_type": "stream",
          "text": [
            "False\n"
          ],
          "name": "stdout"
        }
      ]
    },
    {
      "cell_type": "markdown",
      "metadata": {
        "id": "93FZKinhiPZy"
      },
      "source": [
        "Because in this example `i = 4` and the if-statement is only looking for whether `i` is equal to `5`, the print statement will never be executed. We can add in an `else` statement to create a contingency block of code in case the condition in the if-statement is not evaluated as `True`."
      ]
    },
    {
      "cell_type": "code",
      "metadata": {
        "id": "MlwQqBFviPZy"
      },
      "source": [
        "i = 4\n",
        "if i == 5:\n",
        "    print \"All lines in this indented block are part of this block\"\n",
        "    print 'The variable i has a value of 5'\n",
        "else:\n",
        "    print \"All lines in this indented block are part of this block\"\n",
        "    print 'The variable i is not equal to 5'"
      ],
      "execution_count": null,
      "outputs": []
    },
    {
      "cell_type": "code",
      "metadata": {
        "colab": {
          "base_uri": "https://localhost:8080/"
        },
        "id": "9_wNoGx-AyYE",
        "outputId": "c11b98e0-a080-4f76-8a17-1648d39f2eac"
      },
      "source": [
        "#############\n",
        "i = 10\n",
        "if 1 ==10:\n",
        "  print('i es 10')\n",
        "else:\n",
        "  print ('i no es 10')"
      ],
      "execution_count": 123,
      "outputs": [
        {
          "output_type": "stream",
          "text": [
            "i no es 10\n"
          ],
          "name": "stdout"
        }
      ]
    },
    {
      "cell_type": "markdown",
      "metadata": {
        "id": "ISPWuhwEiPZy"
      },
      "source": [
        "We can implement other branches off of the same if-statement by using `elif`, an abbreviation of \"else if\". We can include as many `elifs` as we like until we have exhausted all the logical branches of a condition."
      ]
    },
    {
      "cell_type": "code",
      "metadata": {
        "id": "YaBwiIwniPZy"
      },
      "source": [
        "i = 1\n",
        "if i == 1:\n",
        "    print 'The variable i has a value of 1'\n",
        "elif i == 2:\n",
        "    print 'The variable i has a value of 2'\n",
        "elif i == 3:\n",
        "    print 'The variable i has a value of 3'\n",
        "else:\n",
        "    print \"I don't care what i is\""
      ],
      "execution_count": null,
      "outputs": []
    },
    {
      "cell_type": "code",
      "metadata": {
        "colab": {
          "base_uri": "https://localhost:8080/"
        },
        "id": "vWOwFSaHBEK6",
        "outputId": "17f90d70-bc9e-4b3c-ccac-791c5876e89f"
      },
      "source": [
        "##############\n",
        "i = 15\n",
        "if i< 15:\n",
        "  print ('i es menor a 10')\n",
        "elif i>15:\n",
        "  print ('i es mayor a 15')\n",
        "else:\n",
        "  print('i es 15') "
      ],
      "execution_count": 126,
      "outputs": [
        {
          "output_type": "stream",
          "text": [
            "i es 15\n"
          ],
          "name": "stdout"
        }
      ]
    },
    {
      "cell_type": "markdown",
      "metadata": {
        "id": "NkfgQUOMiPZz"
      },
      "source": [
        "You can also nest if-statements within if-statements to check for further conditions."
      ]
    },
    {
      "cell_type": "code",
      "metadata": {
        "id": "y5MfJr04iPZz"
      },
      "source": [
        "i = 10\n",
        "if i % 2 == 0:\n",
        "    if i % 3 == 0:\n",
        "        print 'i is divisible by both 2 and 3! Wow!'\n",
        "    elif i % 5 == 0:\n",
        "        print 'i is divisible by both 2 and 5! Wow!'\n",
        "    else:\n",
        "        print 'i is divisible by 2, but not 3 or 5. Meh.'\n",
        "else:\n",
        "    print 'I guess that i is an odd number. Boring.'"
      ],
      "execution_count": null,
      "outputs": []
    },
    {
      "cell_type": "code",
      "metadata": {
        "colab": {
          "base_uri": "https://localhost:8080/"
        },
        "id": "CHmU84QTBvk5",
        "outputId": "0833b6ee-7fcf-4de3-862a-d7dfcb7f82d0"
      },
      "source": [
        "##################\n",
        "i = 13\n",
        "if 1 < 14:\n",
        "  if i % 2 ==0 :\n",
        "      print ('i es menor a 14 y divisible por 2')\n",
        "  elif i % 3==0:\n",
        "      print ('i es menor a 14 y divisible por 3')\n",
        "  elif i % 5 ==0:\n",
        "      print ('i es menor a 14 y divisible por 5')\n",
        "  elif i % 7 ==0:\n",
        "      print ('i es menor a 14 y divisible por 7')\n",
        "  elif i % 11 ==0:\n",
        "      print ('i es menor a 14 y divisible por 11')\n",
        "  else: \n",
        "      print('i es menor a 14 y primo')\n",
        "else: \n",
        "    print ('i es mayor a 14')"
      ],
      "execution_count": 130,
      "outputs": [
        {
          "output_type": "stream",
          "text": [
            "i es menor a 14 y primo\n"
          ],
          "name": "stdout"
        }
      ]
    },
    {
      "cell_type": "markdown",
      "metadata": {
        "id": "BLBfi587iPZz"
      },
      "source": [
        "Remember that we can group multiple conditions together by using the logical operators!"
      ]
    },
    {
      "cell_type": "code",
      "metadata": {
        "id": "KnI1xQnoiPZz"
      },
      "source": [
        "i = 5\n",
        "j = 12\n",
        "if i < 10 and j > 11:\n",
        "    print '{0} is less than 10 and {1} is greater than 11! How novel and interesting!'.format(i, j)"
      ],
      "execution_count": null,
      "outputs": []
    },
    {
      "cell_type": "code",
      "metadata": {
        "colab": {
          "base_uri": "https://localhost:8080/"
        },
        "id": "Jy--HsZ0DNWn",
        "outputId": "56eadad2-4a97-44e8-8144-621849c8e736"
      },
      "source": [
        "#########\n",
        "i = 0 \n",
        "j = 1\n",
        "if i < 1 and j < 2 :\n",
        "  print (\"{0} es menor a 1 y {1} es menor a 2\".format(i,j))"
      ],
      "execution_count": 131,
      "outputs": [
        {
          "output_type": "stream",
          "text": [
            "0 es menor a 1 y 1 es menor a 2\n"
          ],
          "name": "stdout"
        }
      ]
    },
    {
      "cell_type": "markdown",
      "metadata": {
        "id": "KM0Ej5LwiPZz"
      },
      "source": [
        "You can use the logical comparators to compare strings!"
      ]
    },
    {
      "cell_type": "code",
      "metadata": {
        "id": "EB2Z-yBjiPZz"
      },
      "source": [
        "my_string = \"Carthago delenda est\"\n",
        "if my_string == \"Carthago delenda est\":\n",
        "    print 'And so it was! For the glory of Rome!'\n",
        "else:\n",
        "    print 'War elephants are TERRIFYING. I am staying home.'"
      ],
      "execution_count": null,
      "outputs": []
    },
    {
      "cell_type": "code",
      "metadata": {
        "colab": {
          "base_uri": "https://localhost:8080/"
        },
        "id": "h-GaJgu8Dl1K",
        "outputId": "900c1304-ddbd-4a85-ebe2-47f418a0d557"
      },
      "source": [
        "###########\n",
        "mi_string = \"ola\"\n",
        "if mi_string == \"ola\":\n",
        "  print (\"mi string es \"\"ola\"\"\")\n",
        "else: \n",
        "  print ('mi_string no es \"\"ola\"\"')"
      ],
      "execution_count": 132,
      "outputs": [
        {
          "output_type": "stream",
          "text": [
            "mi string es ola\n"
          ],
          "name": "stdout"
        }
      ]
    },
    {
      "cell_type": "markdown",
      "metadata": {
        "id": "oRDa-rbdiPZ0"
      },
      "source": [
        "As with other data types, `==` will check for whether the two things on either side of it have the same value. In this case, we compare whether the value of the strings are the same. Using `>` or `<` or any of the other comparators is not quite so intuitive, however, so we will stay from using comparators with strings in this lecture. Comparators will examine the [lexicographical order](https://en.wikipedia.org/wiki/Lexicographical_order) of the strings, which might be a bit more in-depth than you might like."
      ]
    },
    {
      "cell_type": "markdown",
      "metadata": {
        "id": "gM_YGCT_iPZ0"
      },
      "source": [
        "Some built-in functions return a boolean value, so they can be used as conditions in an if-statement. User-defined functions can also be constructed so that they return a boolean value. This will be covered later with function definition!\n",
        "\n",
        "The `in` keyword is generally used to check membership of a value within another value. We can check memebership in the context of an if-statement and use it to output a truth value."
      ]
    },
    {
      "cell_type": "code",
      "metadata": {
        "id": "TkL7BuRmiPZ0"
      },
      "source": [
        "if 'a' in my_string or 'e' in my_string:\n",
        "    print 'Those are my favorite vowels!'"
      ],
      "execution_count": null,
      "outputs": []
    },
    {
      "cell_type": "code",
      "metadata": {
        "colab": {
          "base_uri": "https://localhost:8080/"
        },
        "id": "4CL2-ubVEgNl",
        "outputId": "7573ed09-dd03-41e3-acae-30b0840b8188"
      },
      "source": [
        "###################\n",
        "if 'a' in mi_string or 'e' in mi_string:\n",
        "  print (\"Son mis vocales favoritas\")"
      ],
      "execution_count": 133,
      "outputs": [
        {
          "output_type": "stream",
          "text": [
            "Son mis vocales favoritas\n"
          ],
          "name": "stdout"
        }
      ]
    },
    {
      "cell_type": "markdown",
      "metadata": {
        "id": "mxAhkubOiPZ0"
      },
      "source": [
        "Here we use `in` to check whether the variable `my_string` contains any particular letters. We will later use `in` to iterate through lists!"
      ]
    },
    {
      "cell_type": "markdown",
      "metadata": {
        "id": "hf1Qx0yniPZ0"
      },
      "source": [
        "## Loop Structures\n",
        "\n",
        "Loop structures are one of the most important parts of programming. The `for` loop and the `while` loop provide a way to repeatedly run a block of code repeatedly. A `while` loop will iterate until a certain condition has been met. If at any point after an iteration that condition is no longer satisfied, the loop terminates. A `for` loop will iterate over a sequence of values and terminate when the sequence has ended. You can instead include conditions within the `for` loop to decide whether it should terminate early or you could simply let it run its course."
      ]
    },
    {
      "cell_type": "code",
      "metadata": {
        "id": "SYpSj3hOiPZ0",
        "colab": {
          "base_uri": "https://localhost:8080/"
        },
        "outputId": "80fa274a-d81d-4b84-8841-5c3a66c9b0db"
      },
      "source": [
        "i = 5\n",
        "while i > 0: # We can write this as 'while i:' because 0 is False!\n",
        "    i -= 1\n",
        "    print ('I am looping! {0} more to go!'.format(i))"
      ],
      "execution_count": 134,
      "outputs": [
        {
          "output_type": "stream",
          "text": [
            "I am looping! 4 more to go!\n",
            "I am looping! 3 more to go!\n",
            "I am looping! 2 more to go!\n",
            "I am looping! 1 more to go!\n",
            "I am looping! 0 more to go!\n"
          ],
          "name": "stdout"
        }
      ]
    },
    {
      "cell_type": "code",
      "metadata": {
        "colab": {
          "base_uri": "https://localhost:8080/"
        },
        "id": "ZQTxtM2eE1sN",
        "outputId": "323b6e22-6c3b-4599-faef-9f0707e6f73d"
      },
      "source": [
        "################\n",
        "i = 6\n",
        "while i:\n",
        "  i -= 1\n",
        "  print (\"estoy iterando faltan {0} iteraciones\".format(i))"
      ],
      "execution_count": 136,
      "outputs": [
        {
          "output_type": "stream",
          "text": [
            "estoy iterando faltan 5 iteraciones\n",
            "estoy iterando faltan 4 iteraciones\n",
            "estoy iterando faltan 3 iteraciones\n",
            "estoy iterando faltan 2 iteraciones\n",
            "estoy iterando faltan 1 iteraciones\n",
            "estoy iterando faltan 0 iteraciones\n"
          ],
          "name": "stdout"
        }
      ]
    },
    {
      "cell_type": "markdown",
      "metadata": {
        "id": "Z-HMDD6niPZ1"
      },
      "source": [
        "\n",
        "With `while` loops we need to make sure that something actually changes from iteration to iteration so that that the loop actually terminates. In this case, we use the shorthand `i -= 1` (short for `i = i - 1`) so that the value of `i` gets smaller with each iteration. Eventually `i` will be reduced to `0`, rendering the condition `False` and exiting the loop."
      ]
    },
    {
      "cell_type": "markdown",
      "metadata": {
        "id": "KjywRBu8iPZ1"
      },
      "source": [
        "A `for` loop iterates a set number of times, determined when you state the entry into the loop. In this case we are iterating over the list returned from `range()`. The `for` loop selects a value from the list, in order, and temporarily assigns the value of `i` to it so that operations can be performed with the value."
      ]
    },
    {
      "cell_type": "code",
      "metadata": {
        "id": "ESBfsmYKiPZ1",
        "colab": {
          "base_uri": "https://localhost:8080/"
        },
        "outputId": "7d23d861-4c88-45e0-f1d5-409be8bed17f"
      },
      "source": [
        "for i in range(5):\n",
        "    print ('I am looping! I have looped {0} times!'.format(i + 1))"
      ],
      "execution_count": 137,
      "outputs": [
        {
          "output_type": "stream",
          "text": [
            "I am looping! I have looped 1 times!\n",
            "I am looping! I have looped 2 times!\n",
            "I am looping! I have looped 3 times!\n",
            "I am looping! I have looped 4 times!\n",
            "I am looping! I have looped 5 times!\n"
          ],
          "name": "stdout"
        }
      ]
    },
    {
      "cell_type": "code",
      "metadata": {
        "colab": {
          "base_uri": "https://localhost:8080/"
        },
        "id": "MkdfDBiXG0Zw",
        "outputId": "2467fc32-c7d1-4f93-d2ef-beed12698287"
      },
      "source": [
        "###############\n",
        "for i in range(10):\n",
        "  print(\"he iterado %s\" % (i+1) ,\"veces\")"
      ],
      "execution_count": 141,
      "outputs": [
        {
          "output_type": "stream",
          "text": [
            "he iterado 1 veces\n",
            "he iterado 2 veces\n",
            "he iterado 3 veces\n",
            "he iterado 4 veces\n",
            "he iterado 5 veces\n",
            "he iterado 6 veces\n",
            "he iterado 7 veces\n",
            "he iterado 8 veces\n",
            "he iterado 9 veces\n",
            "he iterado 10 veces\n"
          ],
          "name": "stdout"
        }
      ]
    },
    {
      "cell_type": "markdown",
      "metadata": {
        "id": "uVhYcyqtiPZ1"
      },
      "source": [
        "Note that in this `for` loop we use the `in` keyword. Use of the `in` keyword is not limited to checking for membership as in the if-statement example. You can iterate over any collection with a `for` loop by using the `in` keyword.\n",
        "\n",
        "In this next example, we will iterate over a `set` because we want to check for containment and add to a new set."
      ]
    },
    {
      "cell_type": "code",
      "metadata": {
        "id": "J4iSuNsRiPZ1"
      },
      "source": [
        "my_list = {'cats', 'dogs', 'lizards', 'cows', 'bats', 'sponges', 'humans'} # Lists all the animals in the world\n",
        "mammal_list = {'cats', 'dogs', 'cows', 'bats', 'humans'} # Lists all the mammals in the world\n",
        "my_new_list = set()\n",
        "for animal in my_list:\n",
        "    if animal in mammal_list:\n",
        "        # This adds any animal that is both in my_list and mammal_list to my_new_list\n",
        "        my_new_list.add(animal)\n",
        "        \n",
        "print my_new_list"
      ],
      "execution_count": null,
      "outputs": []
    },
    {
      "cell_type": "code",
      "metadata": {
        "colab": {
          "base_uri": "https://localhost:8080/"
        },
        "id": "E39LiY8gHc3A",
        "outputId": "b1340166-345f-4e08-cde4-2df82e8aa654"
      },
      "source": [
        "##########\n",
        "ciudadesgrandes = {'Bogota', 'Miami', 'New York', 'Austin', 'Medellin'}\n",
        "ciudadesCol = {'Bogota','Medellin', 'Mocoa'}\n",
        "ciudadesgrandesCol = set()\n",
        "for ciudad in ciudadesCol:\n",
        "  if ciudad in ciudadesgrandes:\n",
        "    ciudadesgrandesCol.add(ciudad)\n",
        "ciudadesgrandesCol"
      ],
      "execution_count": 142,
      "outputs": [
        {
          "output_type": "execute_result",
          "data": {
            "text/plain": [
              "{'Bogota', 'Medellin'}"
            ]
          },
          "metadata": {
            "tags": []
          },
          "execution_count": 142
        }
      ]
    },
    {
      "cell_type": "markdown",
      "metadata": {
        "id": "cuvCAsYsiPZ4"
      },
      "source": [
        "There are two statements that are very helpful in dealing with both `for` and `while` loops. These are `break` and `continue`. If `break` is encountered at any point while a loop is executing, the loop will immediately end."
      ]
    },
    {
      "cell_type": "code",
      "metadata": {
        "id": "RvKWCwq8iPZ4",
        "colab": {
          "base_uri": "https://localhost:8080/"
        },
        "outputId": "f84132d8-a75a-46ae-c0af-42389d9e4788"
      },
      "source": [
        "i = 10\n",
        "while True:\n",
        "    if i == 14:\n",
        "      \n",
        "        break\n",
        "    i += 1 # This is shorthand for i = i + 1. It increments i with each iteration.\n",
        "    print (i)"
      ],
      "execution_count": 143,
      "outputs": [
        {
          "output_type": "stream",
          "text": [
            "11\n",
            "12\n",
            "13\n",
            "14\n"
          ],
          "name": "stdout"
        }
      ]
    },
    {
      "cell_type": "code",
      "metadata": {
        "colab": {
          "base_uri": "https://localhost:8080/",
          "height": 1000
        },
        "id": "Mk6O1LTUJWcH",
        "outputId": "3c277222-c225-45b6-eed5-e3708f85aa64"
      },
      "source": [
        "##########\n",
        "while True:\n",
        "    if i == 14:\n",
        "        break\n",
        "    i += 1 # This is shorthand for i = i + 1. It increments i with each iteration.\n",
        "    print (i)"
      ],
      "execution_count": 148,
      "outputs": [
        {
          "output_type": "stream",
          "text": [
            "\u001b[1;30;43mStreaming output truncated to the last 5000 lines.\u001b[0m\n",
            "128450\n",
            "128451\n",
            "128452\n",
            "128453\n",
            "128454\n",
            "128455\n",
            "128456\n",
            "128457\n",
            "128458\n",
            "128459\n",
            "128460\n",
            "128461\n",
            "128462\n",
            "128463\n",
            "128464\n",
            "128465\n",
            "128466\n",
            "128467\n",
            "128468\n",
            "128469\n",
            "128470\n",
            "128471\n",
            "128472\n",
            "128473\n",
            "128474\n",
            "128475\n",
            "128476\n",
            "128477\n",
            "128478\n",
            "128479\n",
            "128480\n",
            "128481\n",
            "128482\n",
            "128483\n",
            "128484\n",
            "128485\n",
            "128486\n",
            "128487\n",
            "128488\n",
            "128489\n",
            "128490\n",
            "128491\n",
            "128492\n",
            "128493\n",
            "128494\n",
            "128495\n",
            "128496\n",
            "128497\n",
            "128498\n",
            "128499\n",
            "128500\n",
            "128501\n",
            "128502\n",
            "128503\n",
            "128504\n",
            "128505\n",
            "128506\n",
            "128507\n",
            "128508\n",
            "128509\n",
            "128510\n",
            "128511\n",
            "128512\n",
            "128513\n",
            "128514\n",
            "128515\n",
            "128516\n",
            "128517\n",
            "128518\n",
            "128519\n",
            "128520\n",
            "128521\n",
            "128522\n",
            "128523\n",
            "128524\n",
            "128525\n",
            "128526\n",
            "128527\n",
            "128528\n",
            "128529\n",
            "128530\n",
            "128531\n",
            "128532\n",
            "128533\n",
            "128534\n",
            "128535\n",
            "128536\n",
            "128537\n",
            "128538\n",
            "128539\n",
            "128540\n",
            "128541\n",
            "128542\n",
            "128543\n",
            "128544\n",
            "128545\n",
            "128546\n",
            "128547\n",
            "128548\n",
            "128549\n",
            "128550\n",
            "128551\n",
            "128552\n",
            "128553\n",
            "128554\n",
            "128555\n",
            "128556\n",
            "128557\n",
            "128558\n",
            "128559\n",
            "128560\n",
            "128561\n",
            "128562\n",
            "128563\n",
            "128564\n",
            "128565\n",
            "128566\n",
            "128567\n",
            "128568\n",
            "128569\n",
            "128570\n",
            "128571\n",
            "128572\n",
            "128573\n",
            "128574\n",
            "128575\n",
            "128576\n",
            "128577\n",
            "128578\n",
            "128579\n",
            "128580\n",
            "128581\n",
            "128582\n",
            "128583\n",
            "128584\n",
            "128585\n",
            "128586\n",
            "128587\n",
            "128588\n",
            "128589\n",
            "128590\n",
            "128591\n",
            "128592\n",
            "128593\n",
            "128594\n",
            "128595\n",
            "128596\n",
            "128597\n",
            "128598\n",
            "128599\n",
            "128600\n",
            "128601\n",
            "128602\n",
            "128603\n",
            "128604\n",
            "128605\n",
            "128606\n",
            "128607\n",
            "128608\n",
            "128609\n",
            "128610\n",
            "128611\n",
            "128612\n",
            "128613\n",
            "128614\n",
            "128615\n",
            "128616\n",
            "128617\n",
            "128618\n",
            "128619\n",
            "128620\n",
            "128621\n",
            "128622\n",
            "128623\n",
            "128624\n",
            "128625\n",
            "128626\n",
            "128627\n",
            "128628\n",
            "128629\n",
            "128630\n",
            "128631\n",
            "128632\n",
            "128633\n",
            "128634\n",
            "128635\n",
            "128636\n",
            "128637\n",
            "128638\n",
            "128639\n",
            "128640\n",
            "128641\n",
            "128642\n",
            "128643\n",
            "128644\n",
            "128645\n",
            "128646\n",
            "128647\n",
            "128648\n",
            "128649\n",
            "128650\n",
            "128651\n",
            "128652\n",
            "128653\n",
            "128654\n",
            "128655\n",
            "128656\n",
            "128657\n",
            "128658\n",
            "128659\n",
            "128660\n",
            "128661\n",
            "128662\n",
            "128663\n",
            "128664\n",
            "128665\n",
            "128666\n",
            "128667\n",
            "128668\n",
            "128669\n",
            "128670\n",
            "128671\n",
            "128672\n",
            "128673\n",
            "128674\n",
            "128675\n",
            "128676\n",
            "128677\n",
            "128678\n",
            "128679\n",
            "128680\n",
            "128681\n",
            "128682\n",
            "128683\n",
            "128684\n",
            "128685\n",
            "128686\n",
            "128687\n",
            "128688\n",
            "128689\n",
            "128690\n",
            "128691\n",
            "128692\n",
            "128693\n",
            "128694\n",
            "128695\n",
            "128696\n",
            "128697\n",
            "128698\n",
            "128699\n",
            "128700\n",
            "128701\n",
            "128702\n",
            "128703\n",
            "128704\n",
            "128705\n",
            "128706\n",
            "128707\n",
            "128708\n",
            "128709\n",
            "128710\n",
            "128711\n",
            "128712\n",
            "128713\n",
            "128714\n",
            "128715\n",
            "128716\n",
            "128717\n",
            "128718\n",
            "128719\n",
            "128720\n",
            "128721\n",
            "128722\n",
            "128723\n",
            "128724\n",
            "128725\n",
            "128726\n",
            "128727\n",
            "128728\n",
            "128729\n",
            "128730\n",
            "128731\n",
            "128732\n",
            "128733\n",
            "128734\n",
            "128735\n",
            "128736\n",
            "128737\n",
            "128738\n",
            "128739\n",
            "128740\n",
            "128741\n",
            "128742\n",
            "128743\n",
            "128744\n",
            "128745\n",
            "128746\n",
            "128747\n",
            "128748\n",
            "128749\n",
            "128750\n",
            "128751\n",
            "128752\n",
            "128753\n",
            "128754\n",
            "128755\n",
            "128756\n",
            "128757\n",
            "128758\n",
            "128759\n",
            "128760\n",
            "128761\n",
            "128762\n",
            "128763\n",
            "128764\n",
            "128765\n",
            "128766\n",
            "128767\n",
            "128768\n",
            "128769\n",
            "128770\n",
            "128771\n",
            "128772\n",
            "128773\n",
            "128774\n",
            "128775\n",
            "128776\n",
            "128777\n",
            "128778\n",
            "128779\n",
            "128780\n",
            "128781\n",
            "128782\n",
            "128783\n",
            "128784\n",
            "128785\n",
            "128786\n",
            "128787\n",
            "128788\n",
            "128789\n",
            "128790\n",
            "128791\n",
            "128792\n",
            "128793\n",
            "128794\n",
            "128795\n",
            "128796\n",
            "128797\n",
            "128798\n",
            "128799\n",
            "128800\n",
            "128801\n",
            "128802\n",
            "128803\n",
            "128804\n",
            "128805\n",
            "128806\n",
            "128807\n",
            "128808\n",
            "128809\n",
            "128810\n",
            "128811\n",
            "128812\n",
            "128813\n",
            "128814\n",
            "128815\n",
            "128816\n",
            "128817\n",
            "128818\n",
            "128819\n",
            "128820\n",
            "128821\n",
            "128822\n",
            "128823\n",
            "128824\n",
            "128825\n",
            "128826\n",
            "128827\n",
            "128828\n",
            "128829\n",
            "128830\n",
            "128831\n",
            "128832\n",
            "128833\n",
            "128834\n",
            "128835\n",
            "128836\n",
            "128837\n",
            "128838\n",
            "128839\n",
            "128840\n",
            "128841\n",
            "128842\n",
            "128843\n",
            "128844\n",
            "128845\n",
            "128846\n",
            "128847\n",
            "128848\n",
            "128849\n",
            "128850\n",
            "128851\n",
            "128852\n",
            "128853\n",
            "128854\n",
            "128855\n",
            "128856\n",
            "128857\n",
            "128858\n",
            "128859\n",
            "128860\n",
            "128861\n",
            "128862\n",
            "128863\n",
            "128864\n",
            "128865\n",
            "128866\n",
            "128867\n",
            "128868\n",
            "128869\n",
            "128870\n",
            "128871\n",
            "128872\n",
            "128873\n",
            "128874\n",
            "128875\n",
            "128876\n",
            "128877\n",
            "128878\n",
            "128879\n",
            "128880\n",
            "128881\n",
            "128882\n",
            "128883\n",
            "128884\n",
            "128885\n",
            "128886\n",
            "128887\n",
            "128888\n",
            "128889\n",
            "128890\n",
            "128891\n",
            "128892\n",
            "128893\n",
            "128894\n",
            "128895\n",
            "128896\n",
            "128897\n",
            "128898\n",
            "128899\n",
            "128900\n",
            "128901\n",
            "128902\n",
            "128903\n",
            "128904\n",
            "128905\n",
            "128906\n",
            "128907\n",
            "128908\n",
            "128909\n",
            "128910\n",
            "128911\n",
            "128912\n",
            "128913\n",
            "128914\n",
            "128915\n",
            "128916\n",
            "128917\n",
            "128918\n",
            "128919\n",
            "128920\n",
            "128921\n",
            "128922\n",
            "128923\n",
            "128924\n",
            "128925\n",
            "128926\n",
            "128927\n",
            "128928\n",
            "128929\n",
            "128930\n",
            "128931\n",
            "128932\n",
            "128933\n",
            "128934\n",
            "128935\n",
            "128936\n",
            "128937\n",
            "128938\n",
            "128939\n",
            "128940\n",
            "128941\n",
            "128942\n",
            "128943\n",
            "128944\n",
            "128945\n",
            "128946\n",
            "128947\n",
            "128948\n",
            "128949\n",
            "128950\n",
            "128951\n",
            "128952\n",
            "128953\n",
            "128954\n",
            "128955\n",
            "128956\n",
            "128957\n",
            "128958\n",
            "128959\n",
            "128960\n",
            "128961\n",
            "128962\n",
            "128963\n",
            "128964\n",
            "128965\n",
            "128966\n",
            "128967\n",
            "128968\n",
            "128969\n",
            "128970\n",
            "128971\n",
            "128972\n",
            "128973\n",
            "128974\n",
            "128975\n",
            "128976\n",
            "128977\n",
            "128978\n",
            "128979\n",
            "128980\n",
            "128981\n",
            "128982\n",
            "128983\n",
            "128984\n",
            "128985\n",
            "128986\n",
            "128987\n",
            "128988\n",
            "128989\n",
            "128990\n",
            "128991\n",
            "128992\n",
            "128993\n",
            "128994\n",
            "128995\n",
            "128996\n",
            "128997\n",
            "128998\n",
            "128999\n",
            "129000\n",
            "129001\n",
            "129002\n",
            "129003\n",
            "129004\n",
            "129005\n",
            "129006\n",
            "129007\n",
            "129008\n",
            "129009\n",
            "129010\n",
            "129011\n",
            "129012\n",
            "129013\n",
            "129014\n",
            "129015\n",
            "129016\n",
            "129017\n",
            "129018\n",
            "129019\n",
            "129020\n",
            "129021\n",
            "129022\n",
            "129023\n",
            "129024\n",
            "129025\n",
            "129026\n",
            "129027\n",
            "129028\n",
            "129029\n",
            "129030\n",
            "129031\n",
            "129032\n",
            "129033\n",
            "129034\n",
            "129035\n",
            "129036\n",
            "129037\n",
            "129038\n",
            "129039\n",
            "129040\n",
            "129041\n",
            "129042\n",
            "129043\n",
            "129044\n",
            "129045\n",
            "129046\n",
            "129047\n",
            "129048\n",
            "129049\n",
            "129050\n",
            "129051\n",
            "129052\n",
            "129053\n",
            "129054\n",
            "129055\n",
            "129056\n",
            "129057\n",
            "129058\n",
            "129059\n",
            "129060\n",
            "129061\n",
            "129062\n",
            "129063\n",
            "129064\n",
            "129065\n",
            "129066\n",
            "129067\n",
            "129068\n",
            "129069\n",
            "129070\n",
            "129071\n",
            "129072\n",
            "129073\n",
            "129074\n",
            "129075\n",
            "129076\n",
            "129077\n",
            "129078\n",
            "129079\n",
            "129080\n",
            "129081\n",
            "129082\n",
            "129083\n",
            "129084\n",
            "129085\n",
            "129086\n",
            "129087\n",
            "129088\n",
            "129089\n",
            "129090\n",
            "129091\n",
            "129092\n",
            "129093\n",
            "129094\n",
            "129095\n",
            "129096\n",
            "129097\n",
            "129098\n",
            "129099\n",
            "129100\n",
            "129101\n",
            "129102\n",
            "129103\n",
            "129104\n",
            "129105\n",
            "129106\n",
            "129107\n",
            "129108\n",
            "129109\n",
            "129110\n",
            "129111\n",
            "129112\n",
            "129113\n",
            "129114\n",
            "129115\n",
            "129116\n",
            "129117\n",
            "129118\n",
            "129119\n",
            "129120\n",
            "129121\n",
            "129122\n",
            "129123\n",
            "129124\n",
            "129125\n",
            "129126\n",
            "129127\n",
            "129128\n",
            "129129\n",
            "129130\n",
            "129131\n",
            "129132\n",
            "129133\n",
            "129134\n",
            "129135\n",
            "129136\n",
            "129137\n",
            "129138\n",
            "129139\n",
            "129140\n",
            "129141\n",
            "129142\n",
            "129143\n",
            "129144\n",
            "129145\n",
            "129146\n",
            "129147\n",
            "129148\n",
            "129149\n",
            "129150\n",
            "129151\n",
            "129152\n",
            "129153\n",
            "129154\n",
            "129155\n",
            "129156\n",
            "129157\n",
            "129158\n",
            "129159\n",
            "129160\n",
            "129161\n",
            "129162\n",
            "129163\n",
            "129164\n",
            "129165\n",
            "129166\n",
            "129167\n",
            "129168\n",
            "129169\n",
            "129170\n",
            "129171\n",
            "129172\n",
            "129173\n",
            "129174\n",
            "129175\n",
            "129176\n",
            "129177\n",
            "129178\n",
            "129179\n",
            "129180\n",
            "129181\n",
            "129182\n",
            "129183\n",
            "129184\n",
            "129185\n",
            "129186\n",
            "129187\n",
            "129188\n",
            "129189\n",
            "129190\n",
            "129191\n",
            "129192\n",
            "129193\n",
            "129194\n",
            "129195\n",
            "129196\n",
            "129197\n",
            "129198\n",
            "129199\n",
            "129200\n",
            "129201\n",
            "129202\n",
            "129203\n",
            "129204\n",
            "129205\n",
            "129206\n",
            "129207\n",
            "129208\n",
            "129209\n",
            "129210\n",
            "129211\n",
            "129212\n",
            "129213\n",
            "129214\n",
            "129215\n",
            "129216\n",
            "129217\n",
            "129218\n",
            "129219\n",
            "129220\n",
            "129221\n",
            "129222\n",
            "129223\n",
            "129224\n",
            "129225\n",
            "129226\n",
            "129227\n",
            "129228\n",
            "129229\n",
            "129230\n",
            "129231\n",
            "129232\n",
            "129233\n",
            "129234\n",
            "129235\n",
            "129236\n",
            "129237\n",
            "129238\n",
            "129239\n",
            "129240\n",
            "129241\n",
            "129242\n",
            "129243\n",
            "129244\n",
            "129245\n",
            "129246\n",
            "129247\n",
            "129248\n",
            "129249\n",
            "129250\n",
            "129251\n",
            "129252\n",
            "129253\n",
            "129254\n",
            "129255\n",
            "129256\n",
            "129257\n",
            "129258\n",
            "129259\n",
            "129260\n",
            "129261\n",
            "129262\n",
            "129263\n",
            "129264\n",
            "129265\n",
            "129266\n",
            "129267\n",
            "129268\n",
            "129269\n",
            "129270\n",
            "129271\n",
            "129272\n",
            "129273\n",
            "129274\n",
            "129275\n",
            "129276\n",
            "129277\n",
            "129278\n",
            "129279\n",
            "129280\n",
            "129281\n",
            "129282\n",
            "129283\n",
            "129284\n",
            "129285\n",
            "129286\n",
            "129287\n",
            "129288\n",
            "129289\n",
            "129290\n",
            "129291\n",
            "129292\n",
            "129293\n",
            "129294\n",
            "129295\n",
            "129296\n",
            "129297\n",
            "129298\n",
            "129299\n",
            "129300\n",
            "129301\n",
            "129302\n",
            "129303\n",
            "129304\n",
            "129305\n",
            "129306\n",
            "129307\n",
            "129308\n",
            "129309\n",
            "129310\n",
            "129311\n",
            "129312\n",
            "129313\n",
            "129314\n",
            "129315\n",
            "129316\n",
            "129317\n",
            "129318\n",
            "129319\n",
            "129320\n",
            "129321\n",
            "129322\n",
            "129323\n",
            "129324\n",
            "129325\n",
            "129326\n",
            "129327\n",
            "129328\n",
            "129329\n",
            "129330\n",
            "129331\n",
            "129332\n",
            "129333\n",
            "129334\n",
            "129335\n",
            "129336\n",
            "129337\n",
            "129338\n",
            "129339\n",
            "129340\n",
            "129341\n",
            "129342\n",
            "129343\n",
            "129344\n",
            "129345\n",
            "129346\n",
            "129347\n",
            "129348\n",
            "129349\n",
            "129350\n",
            "129351\n",
            "129352\n",
            "129353\n",
            "129354\n",
            "129355\n",
            "129356\n",
            "129357\n",
            "129358\n",
            "129359\n",
            "129360\n",
            "129361\n",
            "129362\n",
            "129363\n",
            "129364\n",
            "129365\n",
            "129366\n",
            "129367\n",
            "129368\n",
            "129369\n",
            "129370\n",
            "129371\n",
            "129372\n",
            "129373\n",
            "129374\n",
            "129375\n",
            "129376\n",
            "129377\n",
            "129378\n",
            "129379\n",
            "129380\n",
            "129381\n",
            "129382\n",
            "129383\n",
            "129384\n",
            "129385\n",
            "129386\n",
            "129387\n",
            "129388\n",
            "129389\n",
            "129390\n",
            "129391\n",
            "129392\n",
            "129393\n",
            "129394\n",
            "129395\n",
            "129396\n",
            "129397\n",
            "129398\n",
            "129399\n",
            "129400\n",
            "129401\n",
            "129402\n",
            "129403\n",
            "129404\n",
            "129405\n",
            "129406\n",
            "129407\n",
            "129408\n",
            "129409\n",
            "129410\n",
            "129411\n",
            "129412\n",
            "129413\n",
            "129414\n",
            "129415\n",
            "129416\n",
            "129417\n",
            "129418\n",
            "129419\n",
            "129420\n",
            "129421\n",
            "129422\n",
            "129423\n",
            "129424\n",
            "129425\n",
            "129426\n",
            "129427\n",
            "129428\n",
            "129429\n",
            "129430\n",
            "129431\n",
            "129432\n",
            "129433\n",
            "129434\n",
            "129435\n",
            "129436\n",
            "129437\n",
            "129438\n",
            "129439\n",
            "129440\n",
            "129441\n",
            "129442\n",
            "129443\n",
            "129444\n",
            "129445\n",
            "129446\n",
            "129447\n",
            "129448\n",
            "129449\n",
            "129450\n",
            "129451\n",
            "129452\n",
            "129453\n",
            "129454\n",
            "129455\n",
            "129456\n",
            "129457\n",
            "129458\n",
            "129459\n",
            "129460\n",
            "129461\n",
            "129462\n",
            "129463\n",
            "129464\n",
            "129465\n",
            "129466\n",
            "129467\n",
            "129468\n",
            "129469\n",
            "129470\n",
            "129471\n",
            "129472\n",
            "129473\n",
            "129474\n",
            "129475\n",
            "129476\n",
            "129477\n",
            "129478\n",
            "129479\n",
            "129480\n",
            "129481\n",
            "129482\n",
            "129483\n",
            "129484\n",
            "129485\n",
            "129486\n",
            "129487\n",
            "129488\n",
            "129489\n",
            "129490\n",
            "129491\n",
            "129492\n",
            "129493\n",
            "129494\n",
            "129495\n",
            "129496\n",
            "129497\n",
            "129498\n",
            "129499\n",
            "129500\n",
            "129501\n",
            "129502\n",
            "129503\n",
            "129504\n",
            "129505\n",
            "129506\n",
            "129507\n",
            "129508\n",
            "129509\n",
            "129510\n",
            "129511\n",
            "129512\n",
            "129513\n",
            "129514\n",
            "129515\n",
            "129516\n",
            "129517\n",
            "129518\n",
            "129519\n",
            "129520\n",
            "129521\n",
            "129522\n",
            "129523\n",
            "129524\n",
            "129525\n",
            "129526\n",
            "129527\n",
            "129528\n",
            "129529\n",
            "129530\n",
            "129531\n",
            "129532\n",
            "129533\n",
            "129534\n",
            "129535\n",
            "129536\n",
            "129537\n",
            "129538\n",
            "129539\n",
            "129540\n",
            "129541\n",
            "129542\n",
            "129543\n",
            "129544\n",
            "129545\n",
            "129546\n",
            "129547\n",
            "129548\n",
            "129549\n",
            "129550\n",
            "129551\n",
            "129552\n",
            "129553\n",
            "129554\n",
            "129555\n",
            "129556\n",
            "129557\n",
            "129558\n",
            "129559\n",
            "129560\n",
            "129561\n",
            "129562\n",
            "129563\n",
            "129564\n",
            "129565\n",
            "129566\n",
            "129567\n",
            "129568\n",
            "129569\n",
            "129570\n",
            "129571\n",
            "129572\n",
            "129573\n",
            "129574\n",
            "129575\n",
            "129576\n",
            "129577\n",
            "129578\n",
            "129579\n",
            "129580\n",
            "129581\n",
            "129582\n",
            "129583\n",
            "129584\n",
            "129585\n",
            "129586\n",
            "129587\n",
            "129588\n",
            "129589\n",
            "129590\n",
            "129591\n",
            "129592\n",
            "129593\n",
            "129594\n",
            "129595\n",
            "129596\n",
            "129597\n",
            "129598\n",
            "129599\n",
            "129600\n",
            "129601\n",
            "129602\n",
            "129603\n",
            "129604\n",
            "129605\n",
            "129606\n",
            "129607\n",
            "129608\n",
            "129609\n",
            "129610\n",
            "129611\n",
            "129612\n",
            "129613\n",
            "129614\n",
            "129615\n",
            "129616\n",
            "129617\n",
            "129618\n",
            "129619\n",
            "129620\n",
            "129621\n",
            "129622\n",
            "129623\n",
            "129624\n",
            "129625\n",
            "129626\n",
            "129627\n",
            "129628\n",
            "129629\n",
            "129630\n",
            "129631\n",
            "129632\n",
            "129633\n",
            "129634\n",
            "129635\n",
            "129636\n",
            "129637\n",
            "129638\n",
            "129639\n",
            "129640\n",
            "129641\n",
            "129642\n",
            "129643\n",
            "129644\n",
            "129645\n",
            "129646\n",
            "129647\n",
            "129648\n",
            "129649\n",
            "129650\n",
            "129651\n",
            "129652\n",
            "129653\n",
            "129654\n",
            "129655\n",
            "129656\n",
            "129657\n",
            "129658\n",
            "129659\n",
            "129660\n",
            "129661\n",
            "129662\n",
            "129663\n",
            "129664\n",
            "129665\n",
            "129666\n",
            "129667\n",
            "129668\n",
            "129669\n",
            "129670\n",
            "129671\n",
            "129672\n",
            "129673\n",
            "129674\n",
            "129675\n",
            "129676\n",
            "129677\n",
            "129678\n",
            "129679\n",
            "129680\n",
            "129681\n",
            "129682\n",
            "129683\n",
            "129684\n",
            "129685\n",
            "129686\n",
            "129687\n",
            "129688\n",
            "129689\n",
            "129690\n",
            "129691\n",
            "129692\n",
            "129693\n",
            "129694\n",
            "129695\n",
            "129696\n",
            "129697\n",
            "129698\n",
            "129699\n",
            "129700\n",
            "129701\n",
            "129702\n",
            "129703\n",
            "129704\n",
            "129705\n",
            "129706\n",
            "129707\n",
            "129708\n",
            "129709\n",
            "129710\n",
            "129711\n",
            "129712\n",
            "129713\n",
            "129714\n",
            "129715\n",
            "129716\n",
            "129717\n",
            "129718\n",
            "129719\n",
            "129720\n",
            "129721\n",
            "129722\n",
            "129723\n",
            "129724\n",
            "129725\n",
            "129726\n",
            "129727\n",
            "129728\n",
            "129729\n",
            "129730\n",
            "129731\n",
            "129732\n",
            "129733\n",
            "129734\n",
            "129735\n",
            "129736\n",
            "129737\n",
            "129738\n",
            "129739\n",
            "129740\n",
            "129741\n",
            "129742\n",
            "129743\n",
            "129744\n",
            "129745\n",
            "129746\n",
            "129747\n",
            "129748\n",
            "129749\n",
            "129750\n",
            "129751\n",
            "129752\n",
            "129753\n",
            "129754\n",
            "129755\n",
            "129756\n",
            "129757\n",
            "129758\n",
            "129759\n",
            "129760\n",
            "129761\n",
            "129762\n",
            "129763\n",
            "129764\n",
            "129765\n",
            "129766\n",
            "129767\n",
            "129768\n",
            "129769\n",
            "129770\n",
            "129771\n",
            "129772\n",
            "129773\n",
            "129774\n",
            "129775\n",
            "129776\n",
            "129777\n",
            "129778\n",
            "129779\n",
            "129780\n",
            "129781\n",
            "129782\n",
            "129783\n",
            "129784\n",
            "129785\n",
            "129786\n",
            "129787\n",
            "129788\n",
            "129789\n",
            "129790\n",
            "129791\n",
            "129792\n",
            "129793\n",
            "129794\n",
            "129795\n",
            "129796\n",
            "129797\n",
            "129798\n",
            "129799\n",
            "129800\n",
            "129801\n",
            "129802\n",
            "129803\n",
            "129804\n",
            "129805\n",
            "129806\n",
            "129807\n",
            "129808\n",
            "129809\n",
            "129810\n",
            "129811\n",
            "129812\n",
            "129813\n",
            "129814\n",
            "129815\n",
            "129816\n",
            "129817\n",
            "129818\n",
            "129819\n",
            "129820\n",
            "129821\n",
            "129822\n",
            "129823\n",
            "129824\n",
            "129825\n",
            "129826\n",
            "129827\n",
            "129828\n",
            "129829\n",
            "129830\n",
            "129831\n",
            "129832\n",
            "129833\n",
            "129834\n",
            "129835\n",
            "129836\n",
            "129837\n",
            "129838\n",
            "129839\n",
            "129840\n",
            "129841\n",
            "129842\n",
            "129843\n",
            "129844\n",
            "129845\n",
            "129846\n",
            "129847\n",
            "129848\n",
            "129849\n",
            "129850\n",
            "129851\n",
            "129852\n",
            "129853\n",
            "129854\n",
            "129855\n",
            "129856\n",
            "129857\n",
            "129858\n",
            "129859\n",
            "129860\n",
            "129861\n",
            "129862\n",
            "129863\n",
            "129864\n",
            "129865\n",
            "129866\n",
            "129867\n",
            "129868\n",
            "129869\n",
            "129870\n",
            "129871\n",
            "129872\n",
            "129873\n",
            "129874\n",
            "129875\n",
            "129876\n",
            "129877\n",
            "129878\n",
            "129879\n",
            "129880\n",
            "129881\n",
            "129882\n",
            "129883\n",
            "129884\n",
            "129885\n",
            "129886\n",
            "129887\n",
            "129888\n",
            "129889\n",
            "129890\n",
            "129891\n",
            "129892\n",
            "129893\n",
            "129894\n",
            "129895\n",
            "129896\n",
            "129897\n",
            "129898\n",
            "129899\n",
            "129900\n",
            "129901\n",
            "129902\n",
            "129903\n",
            "129904\n",
            "129905\n",
            "129906\n",
            "129907\n",
            "129908\n",
            "129909\n",
            "129910\n",
            "129911\n",
            "129912\n",
            "129913\n",
            "129914\n",
            "129915\n",
            "129916\n",
            "129917\n",
            "129918\n",
            "129919\n",
            "129920\n",
            "129921\n",
            "129922\n",
            "129923\n",
            "129924\n",
            "129925\n",
            "129926\n",
            "129927\n",
            "129928\n",
            "129929\n",
            "129930\n",
            "129931\n",
            "129932\n",
            "129933\n",
            "129934\n",
            "129935\n",
            "129936\n",
            "129937\n",
            "129938\n",
            "129939\n",
            "129940\n",
            "129941\n",
            "129942\n",
            "129943\n",
            "129944\n",
            "129945\n",
            "129946\n",
            "129947\n",
            "129948\n",
            "129949\n",
            "129950\n",
            "129951\n",
            "129952\n",
            "129953\n",
            "129954\n",
            "129955\n",
            "129956\n",
            "129957\n",
            "129958\n",
            "129959\n",
            "129960\n",
            "129961\n",
            "129962\n",
            "129963\n",
            "129964\n",
            "129965\n",
            "129966\n",
            "129967\n",
            "129968\n",
            "129969\n",
            "129970\n",
            "129971\n",
            "129972\n",
            "129973\n",
            "129974\n",
            "129975\n",
            "129976\n",
            "129977\n",
            "129978\n",
            "129979\n",
            "129980\n",
            "129981\n",
            "129982\n",
            "129983\n",
            "129984\n",
            "129985\n",
            "129986\n",
            "129987\n",
            "129988\n",
            "129989\n",
            "129990\n",
            "129991\n",
            "129992\n",
            "129993\n",
            "129994\n",
            "129995\n",
            "129996\n",
            "129997\n",
            "129998\n",
            "129999\n",
            "130000\n",
            "130001\n",
            "130002\n",
            "130003\n",
            "130004\n",
            "130005\n",
            "130006\n",
            "130007\n",
            "130008\n",
            "130009\n",
            "130010\n",
            "130011\n",
            "130012\n",
            "130013\n",
            "130014\n",
            "130015\n",
            "130016\n",
            "130017\n",
            "130018\n",
            "130019\n",
            "130020\n",
            "130021\n",
            "130022\n",
            "130023\n",
            "130024\n",
            "130025\n",
            "130026\n",
            "130027\n",
            "130028\n",
            "130029\n",
            "130030\n",
            "130031\n",
            "130032\n",
            "130033\n",
            "130034\n",
            "130035\n",
            "130036\n",
            "130037\n",
            "130038\n",
            "130039\n",
            "130040\n",
            "130041\n",
            "130042\n",
            "130043\n",
            "130044\n",
            "130045\n",
            "130046\n",
            "130047\n",
            "130048\n",
            "130049\n",
            "130050\n",
            "130051\n",
            "130052\n",
            "130053\n",
            "130054\n",
            "130055\n",
            "130056\n",
            "130057\n",
            "130058\n",
            "130059\n",
            "130060\n",
            "130061\n",
            "130062\n",
            "130063\n",
            "130064\n",
            "130065\n",
            "130066\n",
            "130067\n",
            "130068\n",
            "130069\n",
            "130070\n",
            "130071\n",
            "130072\n",
            "130073\n",
            "130074\n",
            "130075\n",
            "130076\n",
            "130077\n",
            "130078\n",
            "130079\n",
            "130080\n",
            "130081\n",
            "130082\n",
            "130083\n",
            "130084\n",
            "130085\n",
            "130086\n",
            "130087\n",
            "130088\n",
            "130089\n",
            "130090\n",
            "130091\n",
            "130092\n",
            "130093\n",
            "130094\n",
            "130095\n",
            "130096\n",
            "130097\n",
            "130098\n",
            "130099\n",
            "130100\n",
            "130101\n",
            "130102\n",
            "130103\n",
            "130104\n",
            "130105\n",
            "130106\n",
            "130107\n",
            "130108\n",
            "130109\n",
            "130110\n",
            "130111\n",
            "130112\n",
            "130113\n",
            "130114\n",
            "130115\n",
            "130116\n",
            "130117\n",
            "130118\n",
            "130119\n",
            "130120\n",
            "130121\n",
            "130122\n",
            "130123\n",
            "130124\n",
            "130125\n",
            "130126\n",
            "130127\n",
            "130128\n",
            "130129\n",
            "130130\n",
            "130131\n",
            "130132\n",
            "130133\n",
            "130134\n",
            "130135\n",
            "130136\n",
            "130137\n",
            "130138\n",
            "130139\n",
            "130140\n",
            "130141\n",
            "130142\n",
            "130143\n",
            "130144\n",
            "130145\n",
            "130146\n",
            "130147\n",
            "130148\n",
            "130149\n",
            "130150\n",
            "130151\n",
            "130152\n",
            "130153\n",
            "130154\n",
            "130155\n",
            "130156\n",
            "130157\n",
            "130158\n",
            "130159\n",
            "130160\n",
            "130161\n",
            "130162\n",
            "130163\n",
            "130164\n",
            "130165\n",
            "130166\n",
            "130167\n",
            "130168\n",
            "130169\n",
            "130170\n",
            "130171\n",
            "130172\n",
            "130173\n",
            "130174\n",
            "130175\n",
            "130176\n",
            "130177\n",
            "130178\n",
            "130179\n",
            "130180\n",
            "130181\n",
            "130182\n",
            "130183\n",
            "130184\n",
            "130185\n",
            "130186\n",
            "130187\n",
            "130188\n",
            "130189\n",
            "130190\n",
            "130191\n",
            "130192\n",
            "130193\n",
            "130194\n",
            "130195\n",
            "130196\n",
            "130197\n",
            "130198\n",
            "130199\n",
            "130200\n",
            "130201\n",
            "130202\n",
            "130203\n",
            "130204\n",
            "130205\n",
            "130206\n",
            "130207\n",
            "130208\n",
            "130209\n",
            "130210\n",
            "130211\n",
            "130212\n",
            "130213\n",
            "130214\n",
            "130215\n",
            "130216\n",
            "130217\n",
            "130218\n",
            "130219\n",
            "130220\n",
            "130221\n",
            "130222\n",
            "130223\n",
            "130224\n",
            "130225\n",
            "130226\n",
            "130227\n",
            "130228\n",
            "130229\n",
            "130230\n",
            "130231\n",
            "130232\n",
            "130233\n",
            "130234\n",
            "130235\n",
            "130236\n",
            "130237\n",
            "130238\n",
            "130239\n",
            "130240\n",
            "130241\n",
            "130242\n",
            "130243\n",
            "130244\n",
            "130245\n",
            "130246\n",
            "130247\n",
            "130248\n",
            "130249\n",
            "130250\n",
            "130251\n",
            "130252\n",
            "130253\n",
            "130254\n",
            "130255\n",
            "130256\n",
            "130257\n",
            "130258\n",
            "130259\n",
            "130260\n",
            "130261\n",
            "130262\n",
            "130263\n",
            "130264\n",
            "130265\n",
            "130266\n",
            "130267\n",
            "130268\n",
            "130269\n",
            "130270\n",
            "130271\n",
            "130272\n",
            "130273\n",
            "130274\n",
            "130275\n",
            "130276\n",
            "130277\n",
            "130278\n",
            "130279\n",
            "130280\n",
            "130281\n",
            "130282\n",
            "130283\n",
            "130284\n",
            "130285\n",
            "130286\n",
            "130287\n",
            "130288\n",
            "130289\n",
            "130290\n",
            "130291\n",
            "130292\n",
            "130293\n",
            "130294\n",
            "130295\n",
            "130296\n",
            "130297\n",
            "130298\n",
            "130299\n",
            "130300\n",
            "130301\n",
            "130302\n",
            "130303\n",
            "130304\n",
            "130305\n",
            "130306\n",
            "130307\n",
            "130308\n",
            "130309\n",
            "130310\n",
            "130311\n",
            "130312\n",
            "130313\n",
            "130314\n",
            "130315\n",
            "130316\n",
            "130317\n",
            "130318\n",
            "130319\n",
            "130320\n",
            "130321\n",
            "130322\n",
            "130323\n",
            "130324\n",
            "130325\n",
            "130326\n",
            "130327\n",
            "130328\n",
            "130329\n",
            "130330\n",
            "130331\n",
            "130332\n",
            "130333\n",
            "130334\n",
            "130335\n",
            "130336\n",
            "130337\n",
            "130338\n",
            "130339\n",
            "130340\n",
            "130341\n",
            "130342\n",
            "130343\n",
            "130344\n",
            "130345\n",
            "130346\n",
            "130347\n",
            "130348\n",
            "130349\n",
            "130350\n",
            "130351\n",
            "130352\n",
            "130353\n",
            "130354\n",
            "130355\n",
            "130356\n",
            "130357\n",
            "130358\n",
            "130359\n",
            "130360\n",
            "130361\n",
            "130362\n",
            "130363\n",
            "130364\n",
            "130365\n",
            "130366\n",
            "130367\n",
            "130368\n",
            "130369\n",
            "130370\n",
            "130371\n",
            "130372\n",
            "130373\n",
            "130374\n",
            "130375\n",
            "130376\n",
            "130377\n",
            "130378\n",
            "130379\n",
            "130380\n",
            "130381\n",
            "130382\n",
            "130383\n",
            "130384\n",
            "130385\n",
            "130386\n",
            "130387\n",
            "130388\n",
            "130389\n",
            "130390\n",
            "130391\n",
            "130392\n",
            "130393\n",
            "130394\n",
            "130395\n",
            "130396\n",
            "130397\n",
            "130398\n",
            "130399\n",
            "130400\n",
            "130401\n",
            "130402\n",
            "130403\n",
            "130404\n",
            "130405\n",
            "130406\n",
            "130407\n",
            "130408\n",
            "130409\n",
            "130410\n",
            "130411\n",
            "130412\n",
            "130413\n",
            "130414\n",
            "130415\n",
            "130416\n",
            "130417\n",
            "130418\n",
            "130419\n",
            "130420\n",
            "130421\n",
            "130422\n",
            "130423\n",
            "130424\n",
            "130425\n",
            "130426\n",
            "130427\n",
            "130428\n",
            "130429\n",
            "130430\n",
            "130431\n",
            "130432\n",
            "130433\n",
            "130434\n",
            "130435\n",
            "130436\n",
            "130437\n",
            "130438\n",
            "130439\n",
            "130440\n",
            "130441\n",
            "130442\n",
            "130443\n",
            "130444\n",
            "130445\n",
            "130446\n",
            "130447\n",
            "130448\n",
            "130449\n",
            "130450\n",
            "130451\n",
            "130452\n",
            "130453\n",
            "130454\n",
            "130455\n",
            "130456\n",
            "130457\n",
            "130458\n",
            "130459\n",
            "130460\n",
            "130461\n",
            "130462\n",
            "130463\n",
            "130464\n",
            "130465\n",
            "130466\n",
            "130467\n",
            "130468\n",
            "130469\n",
            "130470\n",
            "130471\n",
            "130472\n",
            "130473\n",
            "130474\n",
            "130475\n",
            "130476\n",
            "130477\n",
            "130478\n",
            "130479\n",
            "130480\n",
            "130481\n",
            "130482\n",
            "130483\n",
            "130484\n",
            "130485\n",
            "130486\n",
            "130487\n",
            "130488\n",
            "130489\n",
            "130490\n",
            "130491\n",
            "130492\n",
            "130493\n",
            "130494\n",
            "130495\n",
            "130496\n",
            "130497\n",
            "130498\n",
            "130499\n",
            "130500\n",
            "130501\n",
            "130502\n",
            "130503\n",
            "130504\n",
            "130505\n",
            "130506\n",
            "130507\n",
            "130508\n",
            "130509\n",
            "130510\n",
            "130511\n",
            "130512\n",
            "130513\n",
            "130514\n",
            "130515\n",
            "130516\n",
            "130517\n",
            "130518\n",
            "130519\n",
            "130520\n",
            "130521\n",
            "130522\n",
            "130523\n",
            "130524\n",
            "130525\n",
            "130526\n",
            "130527\n",
            "130528\n",
            "130529\n",
            "130530\n",
            "130531\n",
            "130532\n",
            "130533\n",
            "130534\n",
            "130535\n",
            "130536\n",
            "130537\n",
            "130538\n",
            "130539\n",
            "130540\n",
            "130541\n",
            "130542\n",
            "130543\n",
            "130544\n",
            "130545\n",
            "130546\n",
            "130547\n",
            "130548\n",
            "130549\n",
            "130550\n",
            "130551\n",
            "130552\n",
            "130553\n",
            "130554\n",
            "130555\n",
            "130556\n",
            "130557\n",
            "130558\n",
            "130559\n",
            "130560\n",
            "130561\n",
            "130562\n",
            "130563\n",
            "130564\n",
            "130565\n",
            "130566\n",
            "130567\n",
            "130568\n",
            "130569\n",
            "130570\n",
            "130571\n",
            "130572\n",
            "130573\n",
            "130574\n",
            "130575\n",
            "130576\n",
            "130577\n",
            "130578\n",
            "130579\n",
            "130580\n",
            "130581\n",
            "130582\n",
            "130583\n",
            "130584\n",
            "130585\n",
            "130586\n",
            "130587\n",
            "130588\n",
            "130589\n",
            "130590\n",
            "130591\n",
            "130592\n",
            "130593\n",
            "130594\n",
            "130595\n",
            "130596\n",
            "130597\n",
            "130598\n",
            "130599\n",
            "130600\n",
            "130601\n",
            "130602\n",
            "130603\n",
            "130604\n",
            "130605\n",
            "130606\n",
            "130607\n",
            "130608\n",
            "130609\n",
            "130610\n",
            "130611\n",
            "130612\n",
            "130613\n",
            "130614\n",
            "130615\n",
            "130616\n",
            "130617\n",
            "130618\n",
            "130619\n",
            "130620\n",
            "130621\n",
            "130622\n",
            "130623\n",
            "130624\n",
            "130625\n",
            "130626\n",
            "130627\n",
            "130628\n",
            "130629\n",
            "130630\n",
            "130631\n",
            "130632\n",
            "130633\n",
            "130634\n",
            "130635\n",
            "130636\n",
            "130637\n",
            "130638\n",
            "130639\n",
            "130640\n",
            "130641\n",
            "130642\n",
            "130643\n",
            "130644\n",
            "130645\n",
            "130646\n",
            "130647\n",
            "130648\n",
            "130649\n",
            "130650\n",
            "130651\n",
            "130652\n",
            "130653\n",
            "130654\n",
            "130655\n",
            "130656\n",
            "130657\n",
            "130658\n",
            "130659\n",
            "130660\n",
            "130661\n",
            "130662\n",
            "130663\n",
            "130664\n",
            "130665\n",
            "130666\n",
            "130667\n",
            "130668\n",
            "130669\n",
            "130670\n",
            "130671\n",
            "130672\n",
            "130673\n",
            "130674\n",
            "130675\n",
            "130676\n",
            "130677\n",
            "130678\n",
            "130679\n",
            "130680\n",
            "130681\n",
            "130682\n",
            "130683\n",
            "130684\n",
            "130685\n",
            "130686\n",
            "130687\n",
            "130688\n",
            "130689\n",
            "130690\n",
            "130691\n",
            "130692\n",
            "130693\n",
            "130694\n",
            "130695\n",
            "130696\n",
            "130697\n",
            "130698\n",
            "130699\n",
            "130700\n",
            "130701\n",
            "130702\n",
            "130703\n",
            "130704\n",
            "130705\n",
            "130706\n",
            "130707\n",
            "130708\n",
            "130709\n",
            "130710\n",
            "130711\n",
            "130712\n",
            "130713\n",
            "130714\n",
            "130715\n",
            "130716\n",
            "130717\n",
            "130718\n",
            "130719\n",
            "130720\n",
            "130721\n",
            "130722\n",
            "130723\n",
            "130724\n",
            "130725\n",
            "130726\n",
            "130727\n",
            "130728\n",
            "130729\n",
            "130730\n",
            "130731\n",
            "130732\n",
            "130733\n",
            "130734\n",
            "130735\n",
            "130736\n",
            "130737\n",
            "130738\n",
            "130739\n",
            "130740\n",
            "130741\n",
            "130742\n",
            "130743\n",
            "130744\n",
            "130745\n",
            "130746\n",
            "130747\n",
            "130748\n",
            "130749\n",
            "130750\n",
            "130751\n",
            "130752\n",
            "130753\n",
            "130754\n",
            "130755\n",
            "130756\n",
            "130757\n",
            "130758\n",
            "130759\n",
            "130760\n",
            "130761\n",
            "130762\n",
            "130763\n",
            "130764\n",
            "130765\n",
            "130766\n",
            "130767\n",
            "130768\n",
            "130769\n",
            "130770\n",
            "130771\n",
            "130772\n",
            "130773\n",
            "130774\n",
            "130775\n",
            "130776\n",
            "130777\n",
            "130778\n",
            "130779\n",
            "130780\n",
            "130781\n",
            "130782\n",
            "130783\n",
            "130784\n",
            "130785\n",
            "130786\n",
            "130787\n",
            "130788\n",
            "130789\n",
            "130790\n",
            "130791\n",
            "130792\n",
            "130793\n",
            "130794\n",
            "130795\n",
            "130796\n",
            "130797\n",
            "130798\n",
            "130799\n",
            "130800\n",
            "130801\n",
            "130802\n",
            "130803\n",
            "130804\n",
            "130805\n",
            "130806\n",
            "130807\n",
            "130808\n",
            "130809\n",
            "130810\n",
            "130811\n",
            "130812\n",
            "130813\n",
            "130814\n",
            "130815\n",
            "130816\n",
            "130817\n",
            "130818\n",
            "130819\n",
            "130820\n",
            "130821\n",
            "130822\n",
            "130823\n",
            "130824\n",
            "130825\n",
            "130826\n",
            "130827\n",
            "130828\n",
            "130829\n",
            "130830\n",
            "130831\n",
            "130832\n",
            "130833\n",
            "130834\n",
            "130835\n",
            "130836\n",
            "130837\n",
            "130838\n",
            "130839\n",
            "130840\n",
            "130841\n",
            "130842\n",
            "130843\n",
            "130844\n",
            "130845\n",
            "130846\n",
            "130847\n",
            "130848\n",
            "130849\n",
            "130850\n",
            "130851\n",
            "130852\n",
            "130853\n",
            "130854\n",
            "130855\n",
            "130856\n",
            "130857\n",
            "130858\n",
            "130859\n",
            "130860\n",
            "130861\n",
            "130862\n",
            "130863\n",
            "130864\n",
            "130865\n",
            "130866\n",
            "130867\n",
            "130868\n",
            "130869\n",
            "130870\n",
            "130871\n",
            "130872\n",
            "130873\n",
            "130874\n",
            "130875\n",
            "130876\n",
            "130877\n",
            "130878\n",
            "130879\n",
            "130880\n",
            "130881\n",
            "130882\n",
            "130883\n",
            "130884\n",
            "130885\n",
            "130886\n",
            "130887\n",
            "130888\n",
            "130889\n",
            "130890\n",
            "130891\n",
            "130892\n",
            "130893\n",
            "130894\n",
            "130895\n",
            "130896\n",
            "130897\n",
            "130898\n",
            "130899\n",
            "130900\n",
            "130901\n",
            "130902\n",
            "130903\n",
            "130904\n",
            "130905\n",
            "130906\n",
            "130907\n",
            "130908\n",
            "130909\n",
            "130910\n",
            "130911\n",
            "130912\n",
            "130913\n",
            "130914\n",
            "130915\n",
            "130916\n",
            "130917\n",
            "130918\n",
            "130919\n",
            "130920\n",
            "130921\n",
            "130922\n",
            "130923\n",
            "130924\n",
            "130925\n",
            "130926\n",
            "130927\n",
            "130928\n",
            "130929\n",
            "130930\n",
            "130931\n",
            "130932\n",
            "130933\n",
            "130934\n",
            "130935\n",
            "130936\n",
            "130937\n",
            "130938\n",
            "130939\n",
            "130940\n",
            "130941\n",
            "130942\n",
            "130943\n",
            "130944\n",
            "130945\n",
            "130946\n",
            "130947\n",
            "130948\n",
            "130949\n",
            "130950\n",
            "130951\n",
            "130952\n",
            "130953\n",
            "130954\n",
            "130955\n",
            "130956\n",
            "130957\n",
            "130958\n",
            "130959\n",
            "130960\n",
            "130961\n",
            "130962\n",
            "130963\n",
            "130964\n",
            "130965\n",
            "130966\n",
            "130967\n",
            "130968\n",
            "130969\n",
            "130970\n",
            "130971\n",
            "130972\n",
            "130973\n",
            "130974\n",
            "130975\n",
            "130976\n",
            "130977\n",
            "130978\n",
            "130979\n",
            "130980\n",
            "130981\n",
            "130982\n",
            "130983\n",
            "130984\n",
            "130985\n",
            "130986\n",
            "130987\n",
            "130988\n",
            "130989\n",
            "130990\n",
            "130991\n",
            "130992\n",
            "130993\n",
            "130994\n",
            "130995\n",
            "130996\n",
            "130997\n",
            "130998\n",
            "130999\n",
            "131000\n",
            "131001\n",
            "131002\n",
            "131003\n",
            "131004\n",
            "131005\n",
            "131006\n",
            "131007\n",
            "131008\n",
            "131009\n",
            "131010\n",
            "131011\n",
            "131012\n",
            "131013\n",
            "131014\n",
            "131015\n",
            "131016\n",
            "131017\n",
            "131018\n",
            "131019\n",
            "131020\n",
            "131021\n",
            "131022\n",
            "131023\n",
            "131024\n",
            "131025\n",
            "131026\n",
            "131027\n",
            "131028\n",
            "131029\n",
            "131030\n",
            "131031\n",
            "131032\n",
            "131033\n",
            "131034\n",
            "131035\n",
            "131036\n",
            "131037\n",
            "131038\n",
            "131039\n",
            "131040\n",
            "131041\n",
            "131042\n",
            "131043\n",
            "131044\n",
            "131045\n",
            "131046\n",
            "131047\n",
            "131048\n",
            "131049\n",
            "131050\n",
            "131051\n",
            "131052\n",
            "131053\n",
            "131054\n",
            "131055\n",
            "131056\n",
            "131057\n",
            "131058\n",
            "131059\n",
            "131060\n",
            "131061\n",
            "131062\n",
            "131063\n",
            "131064\n",
            "131065\n",
            "131066\n",
            "131067\n",
            "131068\n",
            "131069\n",
            "131070\n",
            "131071\n",
            "131072\n",
            "131073\n",
            "131074\n",
            "131075\n",
            "131076\n",
            "131077\n",
            "131078\n",
            "131079\n",
            "131080\n",
            "131081\n",
            "131082\n",
            "131083\n",
            "131084\n",
            "131085\n",
            "131086\n",
            "131087\n",
            "131088\n",
            "131089\n",
            "131090\n",
            "131091\n",
            "131092\n",
            "131093\n",
            "131094\n",
            "131095\n",
            "131096\n",
            "131097\n",
            "131098\n",
            "131099\n",
            "131100\n",
            "131101\n",
            "131102\n",
            "131103\n",
            "131104\n",
            "131105\n",
            "131106\n",
            "131107\n",
            "131108\n",
            "131109\n",
            "131110\n",
            "131111\n",
            "131112\n",
            "131113\n",
            "131114\n",
            "131115\n",
            "131116\n",
            "131117\n",
            "131118\n",
            "131119\n",
            "131120\n",
            "131121\n",
            "131122\n",
            "131123\n",
            "131124\n",
            "131125\n",
            "131126\n",
            "131127\n",
            "131128\n",
            "131129\n",
            "131130\n",
            "131131\n",
            "131132\n",
            "131133\n",
            "131134\n",
            "131135\n",
            "131136\n",
            "131137\n",
            "131138\n",
            "131139\n",
            "131140\n",
            "131141\n",
            "131142\n",
            "131143\n",
            "131144\n",
            "131145\n",
            "131146\n",
            "131147\n",
            "131148\n",
            "131149\n",
            "131150\n",
            "131151\n",
            "131152\n",
            "131153\n",
            "131154\n",
            "131155\n",
            "131156\n",
            "131157\n",
            "131158\n",
            "131159\n",
            "131160\n",
            "131161\n",
            "131162\n",
            "131163\n",
            "131164\n",
            "131165\n",
            "131166\n",
            "131167\n",
            "131168\n",
            "131169\n",
            "131170\n",
            "131171\n",
            "131172\n",
            "131173\n",
            "131174\n",
            "131175\n",
            "131176\n",
            "131177\n",
            "131178\n",
            "131179\n",
            "131180\n",
            "131181\n",
            "131182\n",
            "131183\n",
            "131184\n",
            "131185\n",
            "131186\n",
            "131187\n",
            "131188\n",
            "131189\n",
            "131190\n",
            "131191\n",
            "131192\n",
            "131193\n",
            "131194\n",
            "131195\n",
            "131196\n",
            "131197\n",
            "131198\n",
            "131199\n",
            "131200\n",
            "131201\n",
            "131202\n",
            "131203\n",
            "131204\n",
            "131205\n",
            "131206\n",
            "131207\n",
            "131208\n",
            "131209\n",
            "131210\n",
            "131211\n",
            "131212\n",
            "131213\n",
            "131214\n",
            "131215\n",
            "131216\n",
            "131217\n",
            "131218\n",
            "131219\n",
            "131220\n",
            "131221\n",
            "131222\n",
            "131223\n",
            "131224\n",
            "131225\n",
            "131226\n",
            "131227\n",
            "131228\n",
            "131229\n",
            "131230\n",
            "131231\n",
            "131232\n",
            "131233\n",
            "131234\n",
            "131235\n",
            "131236\n",
            "131237\n",
            "131238\n",
            "131239\n",
            "131240\n",
            "131241\n",
            "131242\n",
            "131243\n",
            "131244\n",
            "131245\n",
            "131246\n",
            "131247\n",
            "131248\n",
            "131249\n",
            "131250\n",
            "131251\n",
            "131252\n",
            "131253\n",
            "131254\n",
            "131255\n",
            "131256\n",
            "131257\n",
            "131258\n",
            "131259\n",
            "131260\n",
            "131261\n",
            "131262\n",
            "131263\n",
            "131264\n",
            "131265\n",
            "131266\n",
            "131267\n",
            "131268\n",
            "131269\n",
            "131270\n",
            "131271\n",
            "131272\n",
            "131273\n",
            "131274\n",
            "131275\n",
            "131276\n",
            "131277\n",
            "131278\n",
            "131279\n",
            "131280\n",
            "131281\n",
            "131282\n",
            "131283\n",
            "131284\n",
            "131285\n",
            "131286\n",
            "131287\n",
            "131288\n",
            "131289\n",
            "131290\n",
            "131291\n",
            "131292\n",
            "131293\n",
            "131294\n",
            "131295\n",
            "131296\n",
            "131297\n",
            "131298\n",
            "131299\n",
            "131300\n",
            "131301\n",
            "131302\n",
            "131303\n",
            "131304\n",
            "131305\n",
            "131306\n",
            "131307\n",
            "131308\n",
            "131309\n",
            "131310\n",
            "131311\n",
            "131312\n",
            "131313\n",
            "131314\n",
            "131315\n",
            "131316\n",
            "131317\n",
            "131318\n",
            "131319\n",
            "131320\n",
            "131321\n",
            "131322\n",
            "131323\n",
            "131324\n",
            "131325\n",
            "131326\n",
            "131327\n",
            "131328\n",
            "131329\n",
            "131330\n",
            "131331\n",
            "131332\n",
            "131333\n",
            "131334\n",
            "131335\n",
            "131336\n",
            "131337\n",
            "131338\n",
            "131339\n",
            "131340\n",
            "131341\n",
            "131342\n",
            "131343\n",
            "131344\n",
            "131345\n",
            "131346\n",
            "131347\n",
            "131348\n",
            "131349\n",
            "131350\n",
            "131351\n",
            "131352\n",
            "131353\n",
            "131354\n",
            "131355\n",
            "131356\n",
            "131357\n",
            "131358\n",
            "131359\n",
            "131360\n",
            "131361\n",
            "131362\n",
            "131363\n",
            "131364\n",
            "131365\n",
            "131366\n",
            "131367\n",
            "131368\n",
            "131369\n",
            "131370\n",
            "131371\n",
            "131372\n",
            "131373\n",
            "131374\n",
            "131375\n",
            "131376\n",
            "131377\n",
            "131378\n",
            "131379\n",
            "131380\n",
            "131381\n",
            "131382\n",
            "131383\n",
            "131384\n",
            "131385\n",
            "131386\n",
            "131387\n",
            "131388\n",
            "131389\n",
            "131390\n",
            "131391\n",
            "131392\n",
            "131393\n",
            "131394\n",
            "131395\n",
            "131396\n",
            "131397\n",
            "131398\n",
            "131399\n",
            "131400\n",
            "131401\n",
            "131402\n",
            "131403\n",
            "131404\n",
            "131405\n",
            "131406\n",
            "131407\n",
            "131408\n",
            "131409\n",
            "131410\n",
            "131411\n",
            "131412\n",
            "131413\n",
            "131414\n",
            "131415\n",
            "131416\n",
            "131417\n",
            "131418\n",
            "131419\n",
            "131420\n",
            "131421\n",
            "131422\n",
            "131423\n",
            "131424\n",
            "131425\n",
            "131426\n",
            "131427\n",
            "131428\n",
            "131429\n",
            "131430\n",
            "131431\n",
            "131432\n",
            "131433\n",
            "131434\n",
            "131435\n",
            "131436\n",
            "131437\n",
            "131438\n",
            "131439\n",
            "131440\n",
            "131441\n",
            "131442\n",
            "131443\n",
            "131444\n",
            "131445\n",
            "131446\n",
            "131447\n",
            "131448\n",
            "131449\n",
            "131450\n",
            "131451\n",
            "131452\n",
            "131453\n",
            "131454\n",
            "131455\n",
            "131456\n",
            "131457\n",
            "131458\n",
            "131459\n",
            "131460\n",
            "131461\n",
            "131462\n",
            "131463\n",
            "131464\n",
            "131465\n",
            "131466\n",
            "131467\n",
            "131468\n",
            "131469\n",
            "131470\n",
            "131471\n",
            "131472\n",
            "131473\n",
            "131474\n",
            "131475\n",
            "131476\n",
            "131477\n",
            "131478\n",
            "131479\n",
            "131480\n",
            "131481\n",
            "131482\n",
            "131483\n",
            "131484\n",
            "131485\n",
            "131486\n",
            "131487\n",
            "131488\n",
            "131489\n",
            "131490\n",
            "131491\n",
            "131492\n",
            "131493\n",
            "131494\n",
            "131495\n",
            "131496\n",
            "131497\n",
            "131498\n",
            "131499\n",
            "131500\n",
            "131501\n",
            "131502\n",
            "131503\n",
            "131504\n",
            "131505\n",
            "131506\n",
            "131507\n",
            "131508\n",
            "131509\n",
            "131510\n",
            "131511\n",
            "131512\n",
            "131513\n",
            "131514\n",
            "131515\n",
            "131516\n",
            "131517\n",
            "131518\n",
            "131519\n",
            "131520\n",
            "131521\n",
            "131522\n",
            "131523\n",
            "131524\n",
            "131525\n",
            "131526\n",
            "131527\n",
            "131528\n",
            "131529\n",
            "131530\n",
            "131531\n",
            "131532\n",
            "131533\n",
            "131534\n",
            "131535\n",
            "131536\n",
            "131537\n",
            "131538\n",
            "131539\n",
            "131540\n",
            "131541\n",
            "131542\n",
            "131543\n",
            "131544\n",
            "131545\n",
            "131546\n",
            "131547\n",
            "131548\n",
            "131549\n",
            "131550\n",
            "131551\n",
            "131552\n",
            "131553\n",
            "131554\n",
            "131555\n",
            "131556\n",
            "131557\n",
            "131558\n",
            "131559\n",
            "131560\n",
            "131561\n",
            "131562\n",
            "131563\n",
            "131564\n",
            "131565\n",
            "131566\n",
            "131567\n",
            "131568\n",
            "131569\n",
            "131570\n",
            "131571\n",
            "131572\n",
            "131573\n",
            "131574\n",
            "131575\n",
            "131576\n",
            "131577\n",
            "131578\n",
            "131579\n",
            "131580\n",
            "131581\n",
            "131582\n",
            "131583\n",
            "131584\n",
            "131585\n",
            "131586\n",
            "131587\n",
            "131588\n",
            "131589\n",
            "131590\n",
            "131591\n",
            "131592\n",
            "131593\n",
            "131594\n",
            "131595\n",
            "131596\n",
            "131597\n",
            "131598\n",
            "131599\n",
            "131600\n",
            "131601\n",
            "131602\n",
            "131603\n",
            "131604\n",
            "131605\n",
            "131606\n",
            "131607\n",
            "131608\n",
            "131609\n",
            "131610\n",
            "131611\n",
            "131612\n",
            "131613\n",
            "131614\n",
            "131615\n",
            "131616\n",
            "131617\n",
            "131618\n",
            "131619\n",
            "131620\n",
            "131621\n",
            "131622\n",
            "131623\n",
            "131624\n",
            "131625\n",
            "131626\n",
            "131627\n",
            "131628\n",
            "131629\n",
            "131630\n",
            "131631\n",
            "131632\n",
            "131633\n",
            "131634\n",
            "131635\n",
            "131636\n",
            "131637\n",
            "131638\n",
            "131639\n",
            "131640\n",
            "131641\n",
            "131642\n",
            "131643\n",
            "131644\n",
            "131645\n",
            "131646\n",
            "131647\n",
            "131648\n",
            "131649\n",
            "131650\n",
            "131651\n",
            "131652\n",
            "131653\n",
            "131654\n",
            "131655\n",
            "131656\n",
            "131657\n",
            "131658\n",
            "131659\n",
            "131660\n",
            "131661\n",
            "131662\n",
            "131663\n",
            "131664\n",
            "131665\n",
            "131666\n",
            "131667\n",
            "131668\n",
            "131669\n",
            "131670\n",
            "131671\n",
            "131672\n",
            "131673\n",
            "131674\n",
            "131675\n",
            "131676\n",
            "131677\n",
            "131678\n",
            "131679\n",
            "131680\n",
            "131681\n",
            "131682\n",
            "131683\n",
            "131684\n",
            "131685\n",
            "131686\n",
            "131687\n",
            "131688\n",
            "131689\n",
            "131690\n",
            "131691\n",
            "131692\n",
            "131693\n",
            "131694\n",
            "131695\n",
            "131696\n",
            "131697\n",
            "131698\n",
            "131699\n",
            "131700\n",
            "131701\n",
            "131702\n",
            "131703\n",
            "131704\n",
            "131705\n",
            "131706\n",
            "131707\n",
            "131708\n",
            "131709\n",
            "131710\n",
            "131711\n",
            "131712\n",
            "131713\n",
            "131714\n",
            "131715\n",
            "131716\n",
            "131717\n",
            "131718\n",
            "131719\n",
            "131720\n",
            "131721\n",
            "131722\n",
            "131723\n",
            "131724\n",
            "131725\n",
            "131726\n",
            "131727\n",
            "131728\n",
            "131729\n",
            "131730\n",
            "131731\n",
            "131732\n",
            "131733\n",
            "131734\n",
            "131735\n",
            "131736\n",
            "131737\n",
            "131738\n",
            "131739\n",
            "131740\n",
            "131741\n",
            "131742\n",
            "131743\n",
            "131744\n",
            "131745\n",
            "131746\n",
            "131747\n",
            "131748\n",
            "131749\n",
            "131750\n",
            "131751\n",
            "131752\n",
            "131753\n",
            "131754\n",
            "131755\n",
            "131756\n",
            "131757\n",
            "131758\n",
            "131759\n",
            "131760\n",
            "131761\n",
            "131762\n",
            "131763\n",
            "131764\n",
            "131765\n",
            "131766\n",
            "131767\n",
            "131768\n",
            "131769\n",
            "131770\n",
            "131771\n",
            "131772\n",
            "131773\n",
            "131774\n",
            "131775\n",
            "131776\n",
            "131777\n",
            "131778\n",
            "131779\n",
            "131780\n",
            "131781\n",
            "131782\n",
            "131783\n",
            "131784\n",
            "131785\n",
            "131786\n",
            "131787\n",
            "131788\n",
            "131789\n",
            "131790\n",
            "131791\n",
            "131792\n",
            "131793\n",
            "131794\n",
            "131795\n",
            "131796\n",
            "131797\n",
            "131798\n",
            "131799\n",
            "131800\n",
            "131801\n",
            "131802\n",
            "131803\n",
            "131804\n",
            "131805\n",
            "131806\n",
            "131807\n",
            "131808\n",
            "131809\n",
            "131810\n",
            "131811\n",
            "131812\n",
            "131813\n",
            "131814\n",
            "131815\n",
            "131816\n",
            "131817\n",
            "131818\n",
            "131819\n",
            "131820\n",
            "131821\n",
            "131822\n",
            "131823\n",
            "131824\n",
            "131825\n",
            "131826\n",
            "131827\n",
            "131828\n",
            "131829\n",
            "131830\n",
            "131831\n",
            "131832\n",
            "131833\n",
            "131834\n",
            "131835\n",
            "131836\n",
            "131837\n",
            "131838\n",
            "131839\n",
            "131840\n",
            "131841\n",
            "131842\n",
            "131843\n",
            "131844\n",
            "131845\n",
            "131846\n",
            "131847\n",
            "131848\n",
            "131849\n",
            "131850\n",
            "131851\n",
            "131852\n",
            "131853\n",
            "131854\n",
            "131855\n",
            "131856\n",
            "131857\n",
            "131858\n",
            "131859\n",
            "131860\n",
            "131861\n",
            "131862\n",
            "131863\n",
            "131864\n",
            "131865\n",
            "131866\n",
            "131867\n",
            "131868\n",
            "131869\n",
            "131870\n",
            "131871\n",
            "131872\n",
            "131873\n",
            "131874\n",
            "131875\n",
            "131876\n",
            "131877\n",
            "131878\n",
            "131879\n",
            "131880\n",
            "131881\n",
            "131882\n",
            "131883\n",
            "131884\n",
            "131885\n",
            "131886\n",
            "131887\n",
            "131888\n",
            "131889\n",
            "131890\n",
            "131891\n",
            "131892\n",
            "131893\n",
            "131894\n",
            "131895\n",
            "131896\n",
            "131897\n",
            "131898\n",
            "131899\n",
            "131900\n",
            "131901\n",
            "131902\n",
            "131903\n",
            "131904\n",
            "131905\n",
            "131906\n",
            "131907\n",
            "131908\n",
            "131909\n",
            "131910\n",
            "131911\n",
            "131912\n",
            "131913\n",
            "131914\n",
            "131915\n",
            "131916\n",
            "131917\n",
            "131918\n",
            "131919\n",
            "131920\n",
            "131921\n",
            "131922\n",
            "131923\n",
            "131924\n",
            "131925\n",
            "131926\n",
            "131927\n",
            "131928\n",
            "131929\n",
            "131930\n",
            "131931\n",
            "131932\n",
            "131933\n",
            "131934\n",
            "131935\n",
            "131936\n",
            "131937\n",
            "131938\n",
            "131939\n",
            "131940\n",
            "131941\n",
            "131942\n",
            "131943\n",
            "131944\n",
            "131945\n",
            "131946\n",
            "131947\n",
            "131948\n",
            "131949\n",
            "131950\n",
            "131951\n",
            "131952\n",
            "131953\n",
            "131954\n",
            "131955\n",
            "131956\n",
            "131957\n",
            "131958\n",
            "131959\n",
            "131960\n",
            "131961\n",
            "131962\n",
            "131963\n",
            "131964\n",
            "131965\n",
            "131966\n",
            "131967\n",
            "131968\n",
            "131969\n",
            "131970\n",
            "131971\n",
            "131972\n",
            "131973\n",
            "131974\n",
            "131975\n",
            "131976\n",
            "131977\n",
            "131978\n",
            "131979\n",
            "131980\n",
            "131981\n",
            "131982\n",
            "131983\n",
            "131984\n",
            "131985\n",
            "131986\n",
            "131987\n",
            "131988\n",
            "131989\n",
            "131990\n",
            "131991\n",
            "131992\n",
            "131993\n",
            "131994\n",
            "131995\n",
            "131996\n",
            "131997\n",
            "131998\n",
            "131999\n",
            "132000\n",
            "132001\n",
            "132002\n",
            "132003\n",
            "132004\n",
            "132005\n",
            "132006\n",
            "132007\n",
            "132008\n",
            "132009\n",
            "132010\n",
            "132011\n",
            "132012\n",
            "132013\n",
            "132014\n",
            "132015\n",
            "132016\n",
            "132017\n",
            "132018\n",
            "132019\n",
            "132020\n",
            "132021\n",
            "132022\n",
            "132023\n",
            "132024\n",
            "132025\n",
            "132026\n",
            "132027\n",
            "132028\n",
            "132029\n",
            "132030\n",
            "132031\n",
            "132032\n",
            "132033\n",
            "132034\n",
            "132035\n",
            "132036\n",
            "132037\n",
            "132038\n",
            "132039\n",
            "132040\n",
            "132041\n",
            "132042\n",
            "132043\n",
            "132044\n",
            "132045\n",
            "132046\n",
            "132047\n",
            "132048\n",
            "132049\n",
            "132050\n",
            "132051\n",
            "132052\n",
            "132053\n",
            "132054\n",
            "132055\n",
            "132056\n",
            "132057\n",
            "132058\n",
            "132059\n",
            "132060\n",
            "132061\n",
            "132062\n",
            "132063\n",
            "132064\n",
            "132065\n",
            "132066\n",
            "132067\n",
            "132068\n",
            "132069\n",
            "132070\n",
            "132071\n",
            "132072\n",
            "132073\n",
            "132074\n",
            "132075\n",
            "132076\n",
            "132077\n",
            "132078\n",
            "132079\n",
            "132080\n",
            "132081\n",
            "132082\n",
            "132083\n",
            "132084\n",
            "132085\n",
            "132086\n",
            "132087\n",
            "132088\n",
            "132089\n",
            "132090\n",
            "132091\n",
            "132092\n",
            "132093\n",
            "132094\n",
            "132095\n",
            "132096\n",
            "132097\n",
            "132098\n",
            "132099\n",
            "132100\n",
            "132101\n",
            "132102\n",
            "132103\n",
            "132104\n",
            "132105\n",
            "132106\n",
            "132107\n",
            "132108\n",
            "132109\n",
            "132110\n",
            "132111\n",
            "132112\n",
            "132113\n",
            "132114\n",
            "132115\n",
            "132116\n",
            "132117\n",
            "132118\n",
            "132119\n",
            "132120\n",
            "132121\n",
            "132122\n",
            "132123\n",
            "132124\n",
            "132125\n",
            "132126\n",
            "132127\n",
            "132128\n",
            "132129\n",
            "132130\n",
            "132131\n",
            "132132\n",
            "132133\n",
            "132134\n",
            "132135\n",
            "132136\n",
            "132137\n",
            "132138\n",
            "132139\n",
            "132140\n",
            "132141\n",
            "132142\n",
            "132143\n",
            "132144\n",
            "132145\n",
            "132146\n",
            "132147\n",
            "132148\n",
            "132149\n",
            "132150\n",
            "132151\n",
            "132152\n",
            "132153\n",
            "132154\n",
            "132155\n",
            "132156\n",
            "132157\n",
            "132158\n",
            "132159\n",
            "132160\n",
            "132161\n",
            "132162\n",
            "132163\n",
            "132164\n",
            "132165\n",
            "132166\n",
            "132167\n",
            "132168\n",
            "132169\n",
            "132170\n",
            "132171\n",
            "132172\n",
            "132173\n",
            "132174\n",
            "132175\n",
            "132176\n",
            "132177\n",
            "132178\n",
            "132179\n",
            "132180\n",
            "132181\n",
            "132182\n",
            "132183\n",
            "132184\n",
            "132185\n",
            "132186\n",
            "132187\n",
            "132188\n",
            "132189\n",
            "132190\n",
            "132191\n",
            "132192\n",
            "132193\n",
            "132194\n",
            "132195\n",
            "132196\n",
            "132197\n",
            "132198\n",
            "132199\n",
            "132200\n",
            "132201\n",
            "132202\n",
            "132203\n",
            "132204\n",
            "132205\n",
            "132206\n",
            "132207\n",
            "132208\n",
            "132209\n",
            "132210\n",
            "132211\n",
            "132212\n",
            "132213\n",
            "132214\n",
            "132215\n",
            "132216\n",
            "132217\n",
            "132218\n",
            "132219\n",
            "132220\n",
            "132221\n",
            "132222\n",
            "132223\n",
            "132224\n",
            "132225\n",
            "132226\n",
            "132227\n",
            "132228\n",
            "132229\n",
            "132230\n",
            "132231\n",
            "132232\n",
            "132233\n",
            "132234\n",
            "132235\n",
            "132236\n",
            "132237\n",
            "132238\n",
            "132239\n",
            "132240\n",
            "132241\n",
            "132242\n",
            "132243\n",
            "132244\n",
            "132245\n",
            "132246\n",
            "132247\n",
            "132248\n",
            "132249\n",
            "132250\n",
            "132251\n",
            "132252\n",
            "132253\n",
            "132254\n",
            "132255\n",
            "132256\n",
            "132257\n",
            "132258\n",
            "132259\n",
            "132260\n",
            "132261\n",
            "132262\n",
            "132263\n",
            "132264\n",
            "132265\n",
            "132266\n",
            "132267\n",
            "132268\n",
            "132269\n",
            "132270\n",
            "132271\n",
            "132272\n",
            "132273\n",
            "132274\n",
            "132275\n",
            "132276\n",
            "132277\n",
            "132278\n",
            "132279\n",
            "132280\n",
            "132281\n",
            "132282\n",
            "132283\n",
            "132284\n",
            "132285\n",
            "132286\n",
            "132287\n",
            "132288\n",
            "132289\n",
            "132290\n",
            "132291\n",
            "132292\n",
            "132293\n",
            "132294\n",
            "132295\n",
            "132296\n",
            "132297\n",
            "132298\n",
            "132299\n",
            "132300\n",
            "132301\n",
            "132302\n",
            "132303\n",
            "132304\n",
            "132305\n",
            "132306\n",
            "132307\n",
            "132308\n",
            "132309\n",
            "132310\n",
            "132311\n",
            "132312\n",
            "132313\n",
            "132314\n",
            "132315\n",
            "132316\n",
            "132317\n",
            "132318\n",
            "132319\n",
            "132320\n",
            "132321\n",
            "132322\n",
            "132323\n",
            "132324\n",
            "132325\n",
            "132326\n",
            "132327\n",
            "132328\n",
            "132329\n",
            "132330\n",
            "132331\n",
            "132332\n",
            "132333\n",
            "132334\n",
            "132335\n",
            "132336\n",
            "132337\n",
            "132338\n",
            "132339\n",
            "132340\n",
            "132341\n",
            "132342\n",
            "132343\n",
            "132344\n",
            "132345\n",
            "132346\n",
            "132347\n",
            "132348\n",
            "132349\n",
            "132350\n",
            "132351\n",
            "132352\n",
            "132353\n",
            "132354\n",
            "132355\n",
            "132356\n",
            "132357\n",
            "132358\n",
            "132359\n",
            "132360\n",
            "132361\n",
            "132362\n",
            "132363\n",
            "132364\n",
            "132365\n",
            "132366\n",
            "132367\n",
            "132368\n",
            "132369\n",
            "132370\n",
            "132371\n",
            "132372\n",
            "132373\n",
            "132374\n",
            "132375\n",
            "132376\n",
            "132377\n",
            "132378\n",
            "132379\n",
            "132380\n",
            "132381\n",
            "132382\n",
            "132383\n",
            "132384\n",
            "132385\n",
            "132386\n",
            "132387\n",
            "132388\n",
            "132389\n",
            "132390\n",
            "132391\n",
            "132392\n",
            "132393\n",
            "132394\n",
            "132395\n",
            "132396\n",
            "132397\n",
            "132398\n",
            "132399\n",
            "132400\n",
            "132401\n",
            "132402\n",
            "132403\n",
            "132404\n",
            "132405\n",
            "132406\n",
            "132407\n",
            "132408\n",
            "132409\n",
            "132410\n",
            "132411\n",
            "132412\n",
            "132413\n",
            "132414\n",
            "132415\n",
            "132416\n",
            "132417\n",
            "132418\n",
            "132419\n",
            "132420\n",
            "132421\n",
            "132422\n",
            "132423\n",
            "132424\n",
            "132425\n",
            "132426\n",
            "132427\n",
            "132428\n",
            "132429\n",
            "132430\n",
            "132431\n",
            "132432\n",
            "132433\n",
            "132434\n",
            "132435\n",
            "132436\n",
            "132437\n",
            "132438\n",
            "132439\n",
            "132440\n",
            "132441\n",
            "132442\n",
            "132443\n",
            "132444\n",
            "132445\n",
            "132446\n",
            "132447\n",
            "132448\n",
            "132449\n",
            "132450\n",
            "132451\n",
            "132452\n",
            "132453\n",
            "132454\n",
            "132455\n",
            "132456\n",
            "132457\n",
            "132458\n",
            "132459\n",
            "132460\n",
            "132461\n",
            "132462\n",
            "132463\n",
            "132464\n",
            "132465\n",
            "132466\n",
            "132467\n",
            "132468\n",
            "132469\n",
            "132470\n",
            "132471\n",
            "132472\n",
            "132473\n",
            "132474\n",
            "132475\n",
            "132476\n",
            "132477\n",
            "132478\n",
            "132479\n",
            "132480\n",
            "132481\n",
            "132482\n",
            "132483\n",
            "132484\n",
            "132485\n",
            "132486\n",
            "132487\n",
            "132488\n",
            "132489\n",
            "132490\n",
            "132491\n",
            "132492\n",
            "132493\n",
            "132494\n",
            "132495\n",
            "132496\n",
            "132497\n",
            "132498\n",
            "132499\n",
            "132500\n",
            "132501\n",
            "132502\n",
            "132503\n",
            "132504\n",
            "132505\n",
            "132506\n",
            "132507\n",
            "132508\n",
            "132509\n",
            "132510\n",
            "132511\n",
            "132512\n",
            "132513\n",
            "132514\n",
            "132515\n",
            "132516\n",
            "132517\n",
            "132518\n",
            "132519\n",
            "132520\n",
            "132521\n",
            "132522\n",
            "132523\n",
            "132524\n",
            "132525\n",
            "132526\n",
            "132527\n",
            "132528\n",
            "132529\n",
            "132530\n",
            "132531\n",
            "132532\n",
            "132533\n",
            "132534\n",
            "132535\n",
            "132536\n",
            "132537\n",
            "132538\n",
            "132539\n",
            "132540\n",
            "132541\n",
            "132542\n",
            "132543\n",
            "132544\n",
            "132545\n",
            "132546\n",
            "132547\n",
            "132548\n",
            "132549\n",
            "132550\n",
            "132551\n",
            "132552\n",
            "132553\n",
            "132554\n",
            "132555\n",
            "132556\n",
            "132557\n",
            "132558\n",
            "132559\n",
            "132560\n",
            "132561\n",
            "132562\n",
            "132563\n",
            "132564\n",
            "132565\n",
            "132566\n",
            "132567\n",
            "132568\n",
            "132569\n",
            "132570\n",
            "132571\n",
            "132572\n",
            "132573\n",
            "132574\n",
            "132575\n",
            "132576\n",
            "132577\n",
            "132578\n",
            "132579\n",
            "132580\n",
            "132581\n",
            "132582\n",
            "132583\n",
            "132584\n",
            "132585\n",
            "132586\n",
            "132587\n",
            "132588\n",
            "132589\n",
            "132590\n",
            "132591\n",
            "132592\n",
            "132593\n",
            "132594\n",
            "132595\n",
            "132596\n",
            "132597\n",
            "132598\n",
            "132599\n",
            "132600\n",
            "132601\n",
            "132602\n",
            "132603\n",
            "132604\n",
            "132605\n",
            "132606\n",
            "132607\n",
            "132608\n",
            "132609\n",
            "132610\n",
            "132611\n",
            "132612\n",
            "132613\n",
            "132614\n",
            "132615\n",
            "132616\n",
            "132617\n",
            "132618\n",
            "132619\n",
            "132620\n",
            "132621\n",
            "132622\n",
            "132623\n",
            "132624\n",
            "132625\n",
            "132626\n",
            "132627\n",
            "132628\n",
            "132629\n",
            "132630\n",
            "132631\n",
            "132632\n",
            "132633\n",
            "132634\n",
            "132635\n",
            "132636\n",
            "132637\n",
            "132638\n",
            "132639\n",
            "132640\n",
            "132641\n",
            "132642\n",
            "132643\n",
            "132644\n",
            "132645\n",
            "132646\n",
            "132647\n",
            "132648\n",
            "132649\n",
            "132650\n",
            "132651\n",
            "132652\n",
            "132653\n",
            "132654\n",
            "132655\n",
            "132656\n",
            "132657\n",
            "132658\n",
            "132659\n",
            "132660\n",
            "132661\n",
            "132662\n",
            "132663\n",
            "132664\n",
            "132665\n",
            "132666\n",
            "132667\n",
            "132668\n",
            "132669\n",
            "132670\n",
            "132671\n",
            "132672\n",
            "132673\n",
            "132674\n",
            "132675\n",
            "132676\n",
            "132677\n",
            "132678\n",
            "132679\n",
            "132680\n",
            "132681\n",
            "132682\n",
            "132683\n",
            "132684\n",
            "132685\n",
            "132686\n",
            "132687\n",
            "132688\n",
            "132689\n",
            "132690\n",
            "132691\n",
            "132692\n",
            "132693\n",
            "132694\n",
            "132695\n",
            "132696\n",
            "132697\n",
            "132698\n",
            "132699\n",
            "132700\n",
            "132701\n",
            "132702\n",
            "132703\n",
            "132704\n",
            "132705\n",
            "132706\n",
            "132707\n",
            "132708\n",
            "132709\n",
            "132710\n",
            "132711\n",
            "132712\n",
            "132713\n",
            "132714\n",
            "132715\n",
            "132716\n",
            "132717\n",
            "132718\n",
            "132719\n",
            "132720\n",
            "132721\n",
            "132722\n",
            "132723\n",
            "132724\n",
            "132725\n",
            "132726\n",
            "132727\n",
            "132728\n",
            "132729\n",
            "132730\n",
            "132731\n",
            "132732\n",
            "132733\n",
            "132734\n",
            "132735\n",
            "132736\n",
            "132737\n",
            "132738\n",
            "132739\n",
            "132740\n",
            "132741\n",
            "132742\n",
            "132743\n",
            "132744\n",
            "132745\n",
            "132746\n",
            "132747\n",
            "132748\n",
            "132749\n",
            "132750\n",
            "132751\n",
            "132752\n",
            "132753\n",
            "132754\n",
            "132755\n",
            "132756\n",
            "132757\n",
            "132758\n",
            "132759\n",
            "132760\n",
            "132761\n",
            "132762\n",
            "132763\n",
            "132764\n",
            "132765\n",
            "132766\n",
            "132767\n",
            "132768\n",
            "132769\n",
            "132770\n",
            "132771\n",
            "132772\n",
            "132773\n",
            "132774\n",
            "132775\n",
            "132776\n",
            "132777\n",
            "132778\n",
            "132779\n",
            "132780\n",
            "132781\n",
            "132782\n",
            "132783\n",
            "132784\n",
            "132785\n",
            "132786\n",
            "132787\n",
            "132788\n",
            "132789\n",
            "132790\n",
            "132791\n",
            "132792\n",
            "132793\n",
            "132794\n",
            "132795\n",
            "132796\n",
            "132797\n",
            "132798\n",
            "132799\n",
            "132800\n",
            "132801\n",
            "132802\n",
            "132803\n",
            "132804\n",
            "132805\n",
            "132806\n",
            "132807\n",
            "132808\n",
            "132809\n",
            "132810\n",
            "132811\n",
            "132812\n",
            "132813\n",
            "132814\n",
            "132815\n",
            "132816\n",
            "132817\n",
            "132818\n",
            "132819\n",
            "132820\n",
            "132821\n",
            "132822\n",
            "132823\n",
            "132824\n",
            "132825\n",
            "132826\n",
            "132827\n",
            "132828\n",
            "132829\n",
            "132830\n",
            "132831\n",
            "132832\n",
            "132833\n",
            "132834\n",
            "132835\n",
            "132836\n",
            "132837\n",
            "132838\n",
            "132839\n",
            "132840\n",
            "132841\n",
            "132842\n",
            "132843\n",
            "132844\n",
            "132845\n",
            "132846\n",
            "132847\n",
            "132848\n",
            "132849\n",
            "132850\n",
            "132851\n",
            "132852\n",
            "132853\n",
            "132854\n",
            "132855\n",
            "132856\n",
            "132857\n",
            "132858\n",
            "132859\n",
            "132860\n",
            "132861\n",
            "132862\n",
            "132863\n",
            "132864\n",
            "132865\n",
            "132866\n",
            "132867\n",
            "132868\n",
            "132869\n",
            "132870\n",
            "132871\n",
            "132872\n",
            "132873\n",
            "132874\n",
            "132875\n",
            "132876\n",
            "132877\n",
            "132878\n",
            "132879\n",
            "132880\n",
            "132881\n",
            "132882\n",
            "132883\n",
            "132884\n",
            "132885\n",
            "132886\n",
            "132887\n",
            "132888\n",
            "132889\n",
            "132890\n",
            "132891\n",
            "132892\n",
            "132893\n",
            "132894\n",
            "132895\n",
            "132896\n",
            "132897\n",
            "132898\n",
            "132899\n",
            "132900\n",
            "132901\n",
            "132902\n",
            "132903\n",
            "132904\n",
            "132905\n",
            "132906\n",
            "132907\n",
            "132908\n",
            "132909\n",
            "132910\n",
            "132911\n",
            "132912\n",
            "132913\n",
            "132914\n",
            "132915\n",
            "132916\n",
            "132917\n",
            "132918\n",
            "132919\n",
            "132920\n",
            "132921\n",
            "132922\n",
            "132923\n",
            "132924\n",
            "132925\n",
            "132926\n",
            "132927\n",
            "132928\n",
            "132929\n",
            "132930\n",
            "132931\n",
            "132932\n",
            "132933\n",
            "132934\n",
            "132935\n",
            "132936\n",
            "132937\n",
            "132938\n",
            "132939\n",
            "132940\n",
            "132941\n",
            "132942\n",
            "132943\n",
            "132944\n",
            "132945\n",
            "132946\n",
            "132947\n",
            "132948\n",
            "132949\n",
            "132950\n",
            "132951\n",
            "132952\n",
            "132953\n",
            "132954\n",
            "132955\n",
            "132956\n",
            "132957\n",
            "132958\n",
            "132959\n",
            "132960\n",
            "132961\n",
            "132962\n",
            "132963\n",
            "132964\n",
            "132965\n",
            "132966\n",
            "132967\n",
            "132968\n",
            "132969\n",
            "132970\n",
            "132971\n",
            "132972\n",
            "132973\n",
            "132974\n",
            "132975\n",
            "132976\n",
            "132977\n",
            "132978\n",
            "132979\n",
            "132980\n",
            "132981\n",
            "132982\n",
            "132983\n",
            "132984\n",
            "132985\n",
            "132986\n",
            "132987\n",
            "132988\n",
            "132989\n",
            "132990\n",
            "132991\n",
            "132992\n",
            "132993\n",
            "132994\n",
            "132995\n",
            "132996\n",
            "132997\n",
            "132998\n",
            "132999\n",
            "133000\n",
            "133001\n",
            "133002\n",
            "133003\n",
            "133004\n",
            "133005\n",
            "133006\n",
            "133007\n",
            "133008\n",
            "133009\n",
            "133010\n",
            "133011\n",
            "133012\n",
            "133013\n",
            "133014\n",
            "133015\n",
            "133016\n",
            "133017\n",
            "133018\n",
            "133019\n",
            "133020\n",
            "133021\n",
            "133022\n",
            "133023\n",
            "133024\n",
            "133025\n",
            "133026\n",
            "133027\n",
            "133028\n",
            "133029\n",
            "133030\n",
            "133031\n",
            "133032\n",
            "133033\n",
            "133034\n",
            "133035\n",
            "133036\n",
            "133037\n",
            "133038\n",
            "133039\n",
            "133040\n",
            "133041\n",
            "133042\n",
            "133043\n",
            "133044\n",
            "133045\n",
            "133046\n",
            "133047\n",
            "133048\n",
            "133049\n",
            "133050\n",
            "133051\n",
            "133052\n",
            "133053\n",
            "133054\n",
            "133055\n",
            "133056\n",
            "133057\n",
            "133058\n",
            "133059\n",
            "133060\n",
            "133061\n",
            "133062\n",
            "133063\n",
            "133064\n",
            "133065\n",
            "133066\n",
            "133067\n",
            "133068\n",
            "133069\n",
            "133070\n",
            "133071\n",
            "133072\n",
            "133073\n",
            "133074\n",
            "133075\n",
            "133076\n",
            "133077\n",
            "133078\n",
            "133079\n",
            "133080\n",
            "133081\n",
            "133082\n",
            "133083\n",
            "133084\n",
            "133085\n",
            "133086\n",
            "133087\n",
            "133088\n",
            "133089\n",
            "133090\n",
            "133091\n",
            "133092\n",
            "133093\n",
            "133094\n",
            "133095\n",
            "133096\n",
            "133097\n",
            "133098\n",
            "133099\n",
            "133100\n",
            "133101\n",
            "133102\n",
            "133103\n",
            "133104\n",
            "133105\n",
            "133106\n",
            "133107\n",
            "133108\n",
            "133109\n",
            "133110\n",
            "133111\n",
            "133112\n",
            "133113\n",
            "133114\n",
            "133115\n",
            "133116\n",
            "133117\n",
            "133118\n",
            "133119\n",
            "133120\n",
            "133121\n",
            "133122\n",
            "133123\n",
            "133124\n",
            "133125\n",
            "133126\n",
            "133127\n",
            "133128\n",
            "133129\n",
            "133130\n",
            "133131\n",
            "133132\n",
            "133133\n",
            "133134\n",
            "133135\n",
            "133136\n",
            "133137\n",
            "133138\n",
            "133139\n",
            "133140\n",
            "133141\n",
            "133142\n",
            "133143\n",
            "133144\n",
            "133145\n",
            "133146\n",
            "133147\n",
            "133148\n",
            "133149\n",
            "133150\n",
            "133151\n",
            "133152\n",
            "133153\n",
            "133154\n",
            "133155\n",
            "133156\n",
            "133157\n",
            "133158\n",
            "133159\n",
            "133160\n",
            "133161\n",
            "133162\n",
            "133163\n",
            "133164\n",
            "133165\n",
            "133166\n",
            "133167\n",
            "133168\n",
            "133169\n",
            "133170\n",
            "133171\n",
            "133172\n",
            "133173\n",
            "133174\n",
            "133175\n",
            "133176\n",
            "133177\n",
            "133178\n",
            "133179\n",
            "133180\n",
            "133181\n",
            "133182\n",
            "133183\n",
            "133184\n",
            "133185\n",
            "133186\n",
            "133187\n",
            "133188\n",
            "133189\n",
            "133190\n",
            "133191\n",
            "133192\n",
            "133193\n",
            "133194\n",
            "133195\n",
            "133196\n",
            "133197\n",
            "133198\n",
            "133199\n",
            "133200\n",
            "133201\n",
            "133202\n",
            "133203\n",
            "133204\n",
            "133205\n",
            "133206\n",
            "133207\n",
            "133208\n",
            "133209\n",
            "133210\n",
            "133211\n",
            "133212\n",
            "133213\n",
            "133214\n",
            "133215\n",
            "133216\n",
            "133217\n",
            "133218\n",
            "133219\n",
            "133220\n",
            "133221\n",
            "133222\n",
            "133223\n",
            "133224\n",
            "133225\n",
            "133226\n",
            "133227\n",
            "133228\n",
            "133229\n",
            "133230\n",
            "133231\n",
            "133232\n",
            "133233\n",
            "133234\n",
            "133235\n",
            "133236\n",
            "133237\n",
            "133238\n",
            "133239\n",
            "133240\n",
            "133241\n",
            "133242\n",
            "133243\n",
            "133244\n",
            "133245\n",
            "133246\n",
            "133247\n",
            "133248\n",
            "133249\n",
            "133250\n",
            "133251\n",
            "133252\n",
            "133253\n",
            "133254\n",
            "133255\n",
            "133256\n",
            "133257\n",
            "133258\n",
            "133259\n",
            "133260\n",
            "133261\n",
            "133262\n",
            "133263\n",
            "133264\n",
            "133265\n",
            "133266\n",
            "133267\n",
            "133268\n",
            "133269\n",
            "133270\n",
            "133271\n",
            "133272\n",
            "133273\n",
            "133274\n",
            "133275\n",
            "133276\n",
            "133277\n",
            "133278\n",
            "133279\n",
            "133280\n",
            "133281\n",
            "133282\n",
            "133283\n",
            "133284\n",
            "133285\n",
            "133286\n",
            "133287\n",
            "133288\n",
            "133289\n",
            "133290\n",
            "133291\n",
            "133292\n",
            "133293\n",
            "133294\n",
            "133295\n",
            "133296\n",
            "133297\n",
            "133298\n",
            "133299\n",
            "133300\n",
            "133301\n",
            "133302\n",
            "133303\n",
            "133304\n",
            "133305\n",
            "133306\n",
            "133307\n",
            "133308\n",
            "133309\n",
            "133310\n",
            "133311\n",
            "133312\n",
            "133313\n",
            "133314\n",
            "133315\n",
            "133316\n",
            "133317\n",
            "133318\n",
            "133319\n",
            "133320\n",
            "133321\n",
            "133322\n",
            "133323\n",
            "133324\n",
            "133325\n",
            "133326\n",
            "133327\n",
            "133328\n",
            "133329\n",
            "133330\n",
            "133331\n",
            "133332\n",
            "133333\n",
            "133334\n",
            "133335\n",
            "133336\n",
            "133337\n",
            "133338\n",
            "133339\n",
            "133340\n",
            "133341\n",
            "133342\n",
            "133343\n",
            "133344\n",
            "133345\n",
            "133346\n",
            "133347\n",
            "133348\n",
            "133349\n",
            "133350\n",
            "133351\n",
            "133352\n",
            "133353\n",
            "133354\n",
            "133355\n",
            "133356\n",
            "133357\n",
            "133358\n",
            "133359\n",
            "133360\n",
            "133361\n",
            "133362\n",
            "133363\n",
            "133364\n",
            "133365\n",
            "133366\n",
            "133367\n",
            "133368\n",
            "133369\n",
            "133370\n",
            "133371\n",
            "133372\n",
            "133373\n",
            "133374\n",
            "133375\n",
            "133376\n",
            "133377\n",
            "133378\n",
            "133379\n",
            "133380\n",
            "133381\n",
            "133382\n",
            "133383\n",
            "133384\n",
            "133385\n",
            "133386\n",
            "133387\n",
            "133388\n",
            "133389\n",
            "133390\n",
            "133391\n",
            "133392\n",
            "133393\n",
            "133394\n",
            "133395\n",
            "133396\n",
            "133397\n",
            "133398\n",
            "133399\n",
            "133400\n",
            "133401\n",
            "133402\n",
            "133403\n",
            "133404\n",
            "133405\n",
            "133406\n",
            "133407\n",
            "133408\n",
            "133409\n",
            "133410\n",
            "133411\n",
            "133412\n",
            "133413\n",
            "133414\n",
            "133415\n",
            "133416\n",
            "133417\n",
            "133418\n",
            "133419\n",
            "133420\n",
            "133421\n",
            "133422\n",
            "133423\n",
            "133424\n",
            "133425\n",
            "133426\n",
            "133427\n",
            "133428\n",
            "133429\n",
            "133430\n",
            "133431\n",
            "133432\n",
            "133433\n",
            "133434\n",
            "133435\n",
            "133436\n",
            "133437\n",
            "133438\n",
            "133439\n",
            "133440\n",
            "133441\n",
            "133442\n",
            "133443\n",
            "133444\n",
            "133445\n",
            "133446\n",
            "133447\n",
            "133448\n",
            "133449\n"
          ],
          "name": "stdout"
        },
        {
          "output_type": "error",
          "ename": "KeyboardInterrupt",
          "evalue": "ignored",
          "traceback": [
            "\u001b[0;31m---------------------------------------------------------------------------\u001b[0m",
            "\u001b[0;31mKeyboardInterrupt\u001b[0m                         Traceback (most recent call last)",
            "\u001b[0;32m<ipython-input-148-993ef36f4524>\u001b[0m in \u001b[0;36m<module>\u001b[0;34m()\u001b[0m\n\u001b[1;32m      5\u001b[0m         \u001b[0;32mbreak\u001b[0m\u001b[0;34m\u001b[0m\u001b[0;34m\u001b[0m\u001b[0m\n\u001b[1;32m      6\u001b[0m     \u001b[0mi\u001b[0m \u001b[0;34m+=\u001b[0m \u001b[0;36m1\u001b[0m \u001b[0;31m# This is shorthand for i = i + 1. It increments i with each iteration.\u001b[0m\u001b[0;34m\u001b[0m\u001b[0;34m\u001b[0m\u001b[0m\n\u001b[0;32m----> 7\u001b[0;31m     \u001b[0mprint\u001b[0m \u001b[0;34m(\u001b[0m\u001b[0mi\u001b[0m\u001b[0;34m)\u001b[0m\u001b[0;34m\u001b[0m\u001b[0;34m\u001b[0m\u001b[0m\n\u001b[0m",
            "\u001b[0;32m/usr/local/lib/python3.7/dist-packages/ipykernel/iostream.py\u001b[0m in \u001b[0;36mwrite\u001b[0;34m(self, string)\u001b[0m\n\u001b[1;32m    406\u001b[0m                     \u001b[0mself\u001b[0m\u001b[0;34m.\u001b[0m\u001b[0mflush\u001b[0m\u001b[0;34m(\u001b[0m\u001b[0;34m)\u001b[0m\u001b[0;34m\u001b[0m\u001b[0;34m\u001b[0m\u001b[0m\n\u001b[1;32m    407\u001b[0m             \u001b[0;32melse\u001b[0m\u001b[0;34m:\u001b[0m\u001b[0;34m\u001b[0m\u001b[0;34m\u001b[0m\u001b[0m\n\u001b[0;32m--> 408\u001b[0;31m                 \u001b[0mself\u001b[0m\u001b[0;34m.\u001b[0m\u001b[0m_schedule_flush\u001b[0m\u001b[0;34m(\u001b[0m\u001b[0;34m)\u001b[0m\u001b[0;34m\u001b[0m\u001b[0;34m\u001b[0m\u001b[0m\n\u001b[0m\u001b[1;32m    409\u001b[0m \u001b[0;34m\u001b[0m\u001b[0m\n\u001b[1;32m    410\u001b[0m     \u001b[0;32mdef\u001b[0m \u001b[0mwritelines\u001b[0m\u001b[0;34m(\u001b[0m\u001b[0mself\u001b[0m\u001b[0;34m,\u001b[0m \u001b[0msequence\u001b[0m\u001b[0;34m)\u001b[0m\u001b[0;34m:\u001b[0m\u001b[0;34m\u001b[0m\u001b[0;34m\u001b[0m\u001b[0m\n",
            "\u001b[0;31mKeyboardInterrupt\u001b[0m: "
          ]
        }
      ]
    },
    {
      "cell_type": "code",
      "metadata": {
        "id": "GJcrCtePiPZ4"
      },
      "source": [
        "for i in range(5):\n",
        "    if i == 2:\n",
        "        break\n",
        "    print i"
      ],
      "execution_count": null,
      "outputs": []
    },
    {
      "cell_type": "code",
      "metadata": {
        "colab": {
          "base_uri": "https://localhost:8080/"
        },
        "id": "soWyfEDZKg4R",
        "outputId": "772eeb32-fc6c-4518-ea1f-9cc9598a505c"
      },
      "source": [
        "#############\n",
        "for j in range(10):\n",
        "  if j == 5:\n",
        "    break\n",
        "  print (j)"
      ],
      "execution_count": 149,
      "outputs": [
        {
          "output_type": "stream",
          "text": [
            "0\n",
            "1\n",
            "2\n",
            "3\n",
            "4\n"
          ],
          "name": "stdout"
        }
      ]
    },
    {
      "cell_type": "markdown",
      "metadata": {
        "id": "q-8yQjCWiPZ4"
      },
      "source": [
        "The `continue` statement will tell the loop to immediately end this iteration and continue onto the next iteration of the loop."
      ]
    },
    {
      "cell_type": "code",
      "metadata": {
        "id": "IYoFBeLgiPZ4"
      },
      "source": [
        "i = 0\n",
        "while i < 5:\n",
        "    i += 1\n",
        "    if i == 3:\n",
        "        continue\n",
        "    print i"
      ],
      "execution_count": null,
      "outputs": []
    },
    {
      "cell_type": "code",
      "metadata": {
        "colab": {
          "base_uri": "https://localhost:8080/"
        },
        "id": "XW6JKJyIKrRf",
        "outputId": "bf207b86-a9f1-4ed0-9a2f-84ce66f95c1f"
      },
      "source": [
        "############\n",
        "i = 0\n",
        "while i <13:\n",
        "  i += 1\n",
        "  if i == 5:\n",
        "    continue\n",
        "  print (i)"
      ],
      "execution_count": 150,
      "outputs": [
        {
          "output_type": "stream",
          "text": [
            "1\n",
            "2\n",
            "3\n",
            "4\n",
            "6\n",
            "7\n",
            "8\n",
            "9\n",
            "10\n",
            "11\n",
            "12\n",
            "13\n"
          ],
          "name": "stdout"
        }
      ]
    },
    {
      "cell_type": "markdown",
      "metadata": {
        "id": "f8WkNtg2iPZ5"
      },
      "source": [
        "This loop skips printing the number $3$ because of the `continue` statement that executes when we enter the if-statement. The code never sees the command to print the number $3$ because it has already moved to the next iteration. The `break` and `continue` statements are further tools to help you control the flow of your loops and, as a result, your code."
      ]
    },
    {
      "cell_type": "markdown",
      "metadata": {
        "id": "Vt-9Zeg0iPZ5"
      },
      "source": [
        "The variable that we use to iterate over a loop will retain its value when the loop exits. Similarly, any variables defined within the context of the loop will continue to exist outside of it."
      ]
    },
    {
      "cell_type": "code",
      "metadata": {
        "id": "awDg_EkxiPZ5"
      },
      "source": [
        "for i in range(5):\n",
        "    loop_string = 'I transcend the loop!'\n",
        "    print 'I am eternal! I am {0} and I exist everywhere!'.format(i)\n",
        "\n",
        "print 'I persist! My value is {0}'.format(i)\n",
        "print loop_string"
      ],
      "execution_count": null,
      "outputs": []
    },
    {
      "cell_type": "code",
      "metadata": {
        "colab": {
          "base_uri": "https://localhost:8080/",
          "height": 105
        },
        "id": "XH9qImj4LAk2",
        "outputId": "59b6204c-ffb4-4ba5-87ba-1259a163409f"
      },
      "source": [
        "######\n",
        "for i in range (3):\n",
        "  loop = \"Transciendo el for\"\n",
        "  print (\"Soy eterno soy el {0} y esisto en todo lado\".format(i))\n",
        "\n",
        "print (\"Persisto, mi valor es {0}\".format(i))\n",
        "loop"
      ],
      "execution_count": 151,
      "outputs": [
        {
          "output_type": "stream",
          "text": [
            "Soy eterno soy el 0 y esisto en todo lado\n",
            "Soy eterno soy el 1 y esisto en todo lado\n",
            "Soy eterno soy el 2 y esisto en todo lado\n",
            "Persisto, mi valor es 2\n"
          ],
          "name": "stdout"
        },
        {
          "output_type": "execute_result",
          "data": {
            "application/vnd.google.colaboratory.intrinsic+json": {
              "type": "string"
            },
            "text/plain": [
              "'Transciendo el for'"
            ]
          },
          "metadata": {
            "tags": []
          },
          "execution_count": 151
        }
      ]
    },
    {
      "cell_type": "markdown",
      "metadata": {
        "id": "5LxybtUAiPZ5"
      },
      "source": [
        "We can also iterate over a dictionary!"
      ]
    },
    {
      "cell_type": "code",
      "metadata": {
        "id": "1Ai5GtiKiPZ5"
      },
      "source": [
        "my_dict = {'firstname' : 'Inigo', 'lastname' : 'Montoya', 'nemesis' : 'Rugen'}"
      ],
      "execution_count": null,
      "outputs": []
    },
    {
      "cell_type": "code",
      "metadata": {
        "id": "AvXoKWXNLjj4"
      },
      "source": [
        "############\n",
        "dic = {'primer nombre': 'Will', 'apellido': 'Garcia'}"
      ],
      "execution_count": 152,
      "outputs": []
    },
    {
      "cell_type": "code",
      "metadata": {
        "id": "PGMS1wyviPZ6"
      },
      "source": [
        "for key in my_dict:\n",
        "    print key"
      ],
      "execution_count": null,
      "outputs": []
    },
    {
      "cell_type": "code",
      "metadata": {
        "colab": {
          "base_uri": "https://localhost:8080/"
        },
        "id": "zA0D487BL8Tq",
        "outputId": "08dec624-9499-47de-8238-80e30020f557"
      },
      "source": [
        "for llave in dic:\n",
        "  print(llave)"
      ],
      "execution_count": 153,
      "outputs": [
        {
          "output_type": "stream",
          "text": [
            "primer nombre\n",
            "apellido\n"
          ],
          "name": "stdout"
        }
      ]
    },
    {
      "cell_type": "markdown",
      "metadata": {
        "id": "5Yt3tMAYiPZ6"
      },
      "source": [
        "If we just iterate over a dictionary without doing anything else, we will only get the keys. We can either use the keys to get the values, like so:"
      ]
    },
    {
      "cell_type": "code",
      "metadata": {
        "id": "u2OVGKLeiPZ6"
      },
      "source": [
        "for key in my_dict:\n",
        "    print my_dict[key]"
      ],
      "execution_count": null,
      "outputs": []
    },
    {
      "cell_type": "code",
      "metadata": {
        "colab": {
          "base_uri": "https://localhost:8080/"
        },
        "id": "kia2aE4xMCYA",
        "outputId": "61947661-5603-4092-e1d2-fc1a6fa45881"
      },
      "source": [
        "########\n",
        "for llave in dic:\n",
        "  print (dic[llave])"
      ],
      "execution_count": 155,
      "outputs": [
        {
          "output_type": "stream",
          "text": [
            "Will\n",
            "Garcia\n"
          ],
          "name": "stdout"
        }
      ]
    },
    {
      "cell_type": "markdown",
      "metadata": {
        "id": "-Ivf1yesiPZ6"
      },
      "source": [
        "Or we can use the `items()` function to get both key and value at the same time."
      ]
    },
    {
      "cell_type": "code",
      "metadata": {
        "id": "Ug43UaKeiPZ6"
      },
      "source": [
        "for key, value in my_dict.items():\n",
        "    print key, ':', value"
      ],
      "execution_count": null,
      "outputs": []
    },
    {
      "cell_type": "code",
      "metadata": {
        "colab": {
          "base_uri": "https://localhost:8080/"
        },
        "id": "tpn1n9XPMPnQ",
        "outputId": "df9610eb-d3d9-4377-e5f9-52dcc1843f45"
      },
      "source": [
        "#############\n",
        "for llave, valor in dic.items():\n",
        "  print (llave, ':', valor)"
      ],
      "execution_count": 156,
      "outputs": [
        {
          "output_type": "stream",
          "text": [
            "primer nombre : Will\n",
            "apellido : Garcia\n"
          ],
          "name": "stdout"
        }
      ]
    },
    {
      "cell_type": "markdown",
      "metadata": {
        "id": "pLFjNi6biPZ6"
      },
      "source": [
        "The `items()` function creates a tuple of each key-value pair and the for loop unpacks that tuple into `key, value` on each separate execution of the loop!"
      ]
    },
    {
      "cell_type": "markdown",
      "metadata": {
        "id": "oV-Zwo5eiPZ7"
      },
      "source": [
        "## Functions\n",
        "\n",
        "A function is a reusable block of code that you can call repeatedly to make calculations, output data, or really do anything that you want. This is one of the key aspects of using a programming language. To add to the built-in functions in Python, you can define your own!"
      ]
    },
    {
      "cell_type": "code",
      "metadata": {
        "id": "IYbYsBVCiPZ7",
        "colab": {
          "base_uri": "https://localhost:8080/"
        },
        "outputId": "ab81452e-daab-4fa0-8d5b-667384a479c2"
      },
      "source": [
        "def hello_world():\n",
        "    \"\"\" Prints Hello, world! \"\"\"bbbbbbbbbbbbbbbbbbbbbbbbbbbbb\n",
        "    print ('Hello, world!')\n",
        "\n",
        "hello_world()"
      ],
      "execution_count": 157,
      "outputs": [
        {
          "output_type": "stream",
          "text": [
            "Hello, world!\n"
          ],
          "name": "stdout"
        }
      ]
    },
    {
      "cell_type": "code",
      "metadata": {
        "id": "n5b6Lz2QMdt4"
      },
      "source": [
        "###################\n",
        "def Hola_mundo():\n",
        "  print ('Hola mundo cruel')\n"
      ],
      "execution_count": 158,
      "outputs": []
    },
    {
      "cell_type": "code",
      "metadata": {
        "id": "x3FnWY2AiPZ7"
      },
      "source": [
        "for i in range(5):\n",
        "    hello_world()"
      ],
      "execution_count": null,
      "outputs": []
    },
    {
      "cell_type": "code",
      "metadata": {
        "colab": {
          "base_uri": "https://localhost:8080/"
        },
        "id": "XC2-vxU_Ncyj",
        "outputId": "85315b96-e363-436b-9e83-2e1b7c75271d"
      },
      "source": [
        "##############\n",
        "for i in range(2):\n",
        "  Hola_mundo()"
      ],
      "execution_count": 159,
      "outputs": [
        {
          "output_type": "stream",
          "text": [
            "Hola mundo cruel\n",
            "Hola mundo cruel\n"
          ],
          "name": "stdout"
        }
      ]
    },
    {
      "cell_type": "markdown",
      "metadata": {
        "id": "9Agu18nHiPZ7"
      },
      "source": [
        "Functions are defined with `def`, a function name, a list of parameters, and a colon. Everything indented below the colon will be included in the definition of the function.\n",
        "\n",
        "We can have our functions do anything that you can do with a normal block of code. For example, our `hello_world()` function prints a string every time it is called. If we want to keep a value that a function calculates, we can define the function so that it will `return` the value we want. This is a very important feature of functions, as any variable defined purely within a function will not exist outside of it."
      ]
    },
    {
      "cell_type": "code",
      "metadata": {
        "id": "tyHrnoV5iPZ7",
        "colab": {
          "base_uri": "https://localhost:8080/",
          "height": 201
        },
        "outputId": "bd6da04a-d1fa-4b75-c197-fecb0cdb306e"
      },
      "source": [
        "def see_the_scope():\n",
        "    in_function_string = \"I'm stuck in here!\"\n",
        "\n",
        "see_the_scope()\n",
        "print (in_function_string)"
      ],
      "execution_count": 160,
      "outputs": [
        {
          "output_type": "error",
          "ename": "NameError",
          "evalue": "ignored",
          "traceback": [
            "\u001b[0;31m---------------------------------------------------------------------------\u001b[0m",
            "\u001b[0;31mNameError\u001b[0m                                 Traceback (most recent call last)",
            "\u001b[0;32m<ipython-input-160-a851cbb13893>\u001b[0m in \u001b[0;36m<module>\u001b[0;34m()\u001b[0m\n\u001b[1;32m      3\u001b[0m \u001b[0;34m\u001b[0m\u001b[0m\n\u001b[1;32m      4\u001b[0m \u001b[0msee_the_scope\u001b[0m\u001b[0;34m(\u001b[0m\u001b[0;34m)\u001b[0m\u001b[0;34m\u001b[0m\u001b[0;34m\u001b[0m\u001b[0m\n\u001b[0;32m----> 5\u001b[0;31m \u001b[0mprint\u001b[0m \u001b[0;34m(\u001b[0m\u001b[0min_function_string\u001b[0m\u001b[0;34m)\u001b[0m\u001b[0;34m\u001b[0m\u001b[0;34m\u001b[0m\u001b[0m\n\u001b[0m",
            "\u001b[0;31mNameError\u001b[0m: name 'in_function_string' is not defined"
          ]
        }
      ]
    },
    {
      "cell_type": "code",
      "metadata": {
        "colab": {
          "base_uri": "https://localhost:8080/",
          "height": 201
        },
        "id": "V6y1X2B9N4nO",
        "outputId": "b3ccd4f5-670e-4ec9-e80f-2758a641a650"
      },
      "source": [
        "###las variables creadas dentro de un afuncion no existen fuera de ella\n",
        "def ejemplo():\n",
        "  u = 5\n",
        "  \n",
        "print (u)"
      ],
      "execution_count": 164,
      "outputs": [
        {
          "output_type": "error",
          "ename": "NameError",
          "evalue": "ignored",
          "traceback": [
            "\u001b[0;31m---------------------------------------------------------------------------\u001b[0m",
            "\u001b[0;31mNameError\u001b[0m                                 Traceback (most recent call last)",
            "\u001b[0;32m<ipython-input-164-5615aa9e657a>\u001b[0m in \u001b[0;36m<module>\u001b[0;34m()\u001b[0m\n\u001b[1;32m      3\u001b[0m   \u001b[0mu\u001b[0m \u001b[0;34m=\u001b[0m \u001b[0;36m5\u001b[0m\u001b[0;34m\u001b[0m\u001b[0;34m\u001b[0m\u001b[0m\n\u001b[1;32m      4\u001b[0m \u001b[0;34m\u001b[0m\u001b[0m\n\u001b[0;32m----> 5\u001b[0;31m \u001b[0mprint\u001b[0m \u001b[0;34m(\u001b[0m\u001b[0mu\u001b[0m\u001b[0;34m)\u001b[0m\u001b[0;34m\u001b[0m\u001b[0;34m\u001b[0m\u001b[0m\n\u001b[0m",
            "\u001b[0;31mNameError\u001b[0m: name 'u' is not defined"
          ]
        }
      ]
    },
    {
      "cell_type": "markdown",
      "metadata": {
        "id": "jq5BA7HniPZ7"
      },
      "source": [
        " The **scope** of a variable is the part of a block of code where that variable is tied to a particular value. Functions in Python have an enclosed scope, making it so that variables defined within them can only be accessed directly within them. If we pass those values to a return statement we can get them out of the function. This makes it so that the function call returns values so that you can store them in variables that have a greater scope.\n",
        " \n",
        "In this case specifically, including a return statement allows us to keep the string value that we define in the function."
      ]
    },
    {
      "cell_type": "code",
      "metadata": {
        "id": "P8XGzlNdiPZ8"
      },
      "source": [
        "def free_the_scope():\n",
        "    in_function_string = \"Anything you can do I can do better!\"\n",
        "    return in_function_string\n",
        "my_string = free_the_scope()\n",
        "print my_string"
      ],
      "execution_count": null,
      "outputs": []
    },
    {
      "cell_type": "code",
      "metadata": {
        "colab": {
          "base_uri": "https://localhost:8080/"
        },
        "id": "Nl4byj7uOTah",
        "outputId": "894dbc6d-2c38-4671-bd7e-74b6f002558f"
      },
      "source": [
        "##################\n",
        "def ejemplo():\n",
        "  u = 5\n",
        "  return u \n",
        "\n",
        "t = ejemplo()\n",
        "print (t)"
      ],
      "execution_count": 165,
      "outputs": [
        {
          "output_type": "stream",
          "text": [
            "5\n"
          ],
          "name": "stdout"
        }
      ]
    },
    {
      "cell_type": "markdown",
      "metadata": {
        "id": "MjbhJhDLiPZ8"
      },
      "source": [
        "Just as we can get values out of a function, we can also put values into a function. We do this by defining our function with parameters."
      ]
    },
    {
      "cell_type": "code",
      "metadata": {
        "id": "gqhsdf4hiPZ8"
      },
      "source": [
        "def multiply_by_five(x):\n",
        "    \"\"\" Multiplies an input number by 5 \"\"\"\n",
        "    return x * 5\n",
        "\n",
        "n = 4\n",
        "print n\n",
        "print multiply_by_five(n)"
      ],
      "execution_count": null,
      "outputs": []
    },
    {
      "cell_type": "code",
      "metadata": {
        "colab": {
          "base_uri": "https://localhost:8080/"
        },
        "id": "cGrykqQjPDB2",
        "outputId": "5ff12c14-4501-4458-abc0-56d3ce5077e1"
      },
      "source": [
        "def por6(n):\n",
        "  return n*6\n",
        "\n",
        "m = 1\n",
        "print (m)\n",
        "print (por6(m))"
      ],
      "execution_count": 166,
      "outputs": [
        {
          "output_type": "stream",
          "text": [
            "1\n",
            "6\n"
          ],
          "name": "stdout"
        }
      ]
    },
    {
      "cell_type": "markdown",
      "metadata": {
        "id": "B2E2GasUiPZ8"
      },
      "source": [
        "In this example we only had one parameter for our function, `x`. We can easily add more parameters, separating everything with a comma."
      ]
    },
    {
      "cell_type": "code",
      "metadata": {
        "id": "qSMq8CTXiPZ8"
      },
      "source": [
        "def calculate_area(length, width):\n",
        "    \"\"\" Calculates the area of a rectangle \"\"\"\n",
        "    return length * width"
      ],
      "execution_count": null,
      "outputs": []
    },
    {
      "cell_type": "code",
      "metadata": {
        "id": "4HUFovzvPRFb"
      },
      "source": [
        "################\n",
        "def area(base, altura):\n",
        "  return base*altura"
      ],
      "execution_count": 167,
      "outputs": []
    },
    {
      "cell_type": "code",
      "metadata": {
        "id": "iq7zndYGiPZ8"
      },
      "source": [
        "l = 5\n",
        "w = 10\n",
        "print 'Area: ', calculate_area(l, w)\n",
        "print 'Length: ', l\n",
        "print 'Width: ', w"
      ],
      "execution_count": null,
      "outputs": []
    },
    {
      "cell_type": "code",
      "metadata": {
        "colab": {
          "base_uri": "https://localhost:8080/"
        },
        "id": "66thGM73PWqB",
        "outputId": "f4e951f8-9d91-4179-cb7f-d607f96a20f4"
      },
      "source": [
        "############\n",
        "b = 10\n",
        "a = 50\n",
        "print ('Area de rectangulo con base {0} y altura {1} es :'.format('10', '50'), area(b,a))"
      ],
      "execution_count": 169,
      "outputs": [
        {
          "output_type": "stream",
          "text": [
            "Area de rectangulo con base 10 y altura 50 es : 500\n"
          ],
          "name": "stdout"
        }
      ]
    },
    {
      "cell_type": "code",
      "metadata": {
        "id": "BD_6FYxviPZ9"
      },
      "source": [
        "def calculate_volume(length, width, depth):\n",
        "    \"\"\" Calculates the volume of a rectangular prism \"\"\"\n",
        "    return length * width * depth"
      ],
      "execution_count": null,
      "outputs": []
    },
    {
      "cell_type": "code",
      "metadata": {
        "id": "FggG6W1QP1R2"
      },
      "source": [
        "##########\n",
        "def volumen(b,h,w):\n",
        "  return b*h*w\n",
        "  "
      ],
      "execution_count": 171,
      "outputs": []
    },
    {
      "cell_type": "markdown",
      "metadata": {
        "id": "wXEFxTwWiPZ9"
      },
      "source": [
        "If we want to, we can define a function so that it takes an arbitrary number of parameters. We tell Python that we want this by using an asterisk (`*`)."
      ]
    },
    {
      "cell_type": "code",
      "metadata": {
        "id": "lofRPoiIiPZ9"
      },
      "source": [
        "def sum_values(*args):\n",
        "    sum_val = 0\n",
        "    for i in args:\n",
        "        sum_val += i\n",
        "    return sum_val"
      ],
      "execution_count": null,
      "outputs": []
    },
    {
      "cell_type": "code",
      "metadata": {
        "id": "CCgO88FyQElC"
      },
      "source": [
        "################\n",
        "def sumatoria(*args):\n",
        "  sum = 0 \n",
        "  for i in args:\n",
        "    sum += i\n",
        "  return sum"
      ],
      "execution_count": 175,
      "outputs": []
    },
    {
      "cell_type": "code",
      "metadata": {
        "id": "xy9Lqb1iiPZ9"
      },
      "source": [
        "print sum_values(1, 2, 3)\n",
        "print sum_values(10, 20, 30, 40, 50)\n",
        "print sum_values(4, 2, 5, 1, 10, 249, 25, 24, 13, 6, 4)"
      ],
      "execution_count": null,
      "outputs": []
    },
    {
      "cell_type": "code",
      "metadata": {
        "colab": {
          "base_uri": "https://localhost:8080/"
        },
        "id": "ttJPw12YQRzG",
        "outputId": "bf8337e6-574c-43c3-ea0a-6a5277277b18"
      },
      "source": [
        "###############\n",
        "print (sumatoria(1,2,3,4,5,6,7,8,9))"
      ],
      "execution_count": 177,
      "outputs": [
        {
          "output_type": "stream",
          "text": [
            "45\n"
          ],
          "name": "stdout"
        }
      ]
    },
    {
      "cell_type": "markdown",
      "metadata": {
        "id": "Prx7-2HZiPZ-"
      },
      "source": [
        "The time to use `*args` as a parameter for your function is when you do not know how many values may be passed to it, as in the case of our sum function. The asterisk in this case is the syntax that tells Python that you are going to pass an arbitrary number of parameters into your function. These parameters are stored in the form of a tuple."
      ]
    },
    {
      "cell_type": "code",
      "metadata": {
        "id": "sw9f2mqqiPZ-",
        "colab": {
          "base_uri": "https://localhost:8080/"
        },
        "outputId": "96e3cbd4-56a5-46ef-e69f-fa22aa3f2737"
      },
      "source": [
        "def test_args(*args):\n",
        "    print (type(args))\n",
        "\n",
        "test_args(1, 2, 3, 4, 5, 6)"
      ],
      "execution_count": 179,
      "outputs": [
        {
          "output_type": "stream",
          "text": [
            "<class 'tuple'>\n"
          ],
          "name": "stdout"
        }
      ]
    },
    {
      "cell_type": "code",
      "metadata": {
        "colab": {
          "base_uri": "https://localhost:8080/"
        },
        "id": "c-VQ8VQ5QrBY",
        "outputId": "109e1a76-dc88-414c-9c01-5f940de8bebe"
      },
      "source": [
        "##############\n",
        "def test(*args):\n",
        "  return (type(args))\n",
        "\n",
        "print (test([11,3]))\n",
        "print (test(1,3,4))\n",
        "print (test('a', 5))"
      ],
      "execution_count": 181,
      "outputs": [
        {
          "output_type": "stream",
          "text": [
            "<class 'tuple'>\n",
            "<class 'tuple'>\n",
            "<class 'tuple'>\n"
          ],
          "name": "stdout"
        }
      ]
    },
    {
      "cell_type": "markdown",
      "metadata": {
        "id": "vTBRDOg8iPZ_"
      },
      "source": [
        "We can put as many elements into the `args` tuple as we want to when we call the function. However, because `args` is a tuple, we cannot modify it after it has been created.\n",
        "\n",
        "The `args` name of the variable is purely by convention. You could just as easily name your parameter `*vars` or `*things`. You can treat the `args` tuple like you would any other tuple, easily accessing `arg`'s values and iterating over it, as in the above `sum_values(*args)` function."
      ]
    },
    {
      "cell_type": "markdown",
      "metadata": {
        "id": "SvyXI6IviPZ_"
      },
      "source": [
        "Our functions can return any data type. This makes it easy for us to create functions that check for conditions that we might want to monitor.\n",
        "\n",
        "Here we define a function that returns a boolean value. We can easily use this in conjunction with if-statements and  other situations that require a boolean."
      ]
    },
    {
      "cell_type": "code",
      "metadata": {
        "id": "Gbcx6VvgiPZ_"
      },
      "source": [
        "def has_a_vowel(word):\n",
        "    \"\"\" \n",
        "    Checks to see whether a word contains a vowel \n",
        "    If it doesn't contain a conventional vowel, it\n",
        "    will check for the presence of 'y' or 'w'. Does\n",
        "    not check to see whether those are in the word\n",
        "    in a vowel context.\n",
        "    \"\"\"\n",
        "    vowel_list = ['a', 'e', 'i', 'o', 'u']\n",
        "    \n",
        "    for vowel in vowel_list:\n",
        "        if vowel in word:\n",
        "            return True\n",
        "    # If there is a vowel in the word, the function returns, preventing anything after this loop from running\n",
        "    return False"
      ],
      "execution_count": 182,
      "outputs": []
    },
    {
      "cell_type": "code",
      "metadata": {
        "id": "cfutBXDzXLIM"
      },
      "source": [
        "#############\n",
        "def tieneA(word):\n",
        "  if 'a' in word:\n",
        "    return True\n",
        "  else:\n",
        "    return false"
      ],
      "execution_count": 183,
      "outputs": []
    },
    {
      "cell_type": "code",
      "metadata": {
        "id": "4eL1PVumiPZ_"
      },
      "source": [
        "my_word = 'catnapping'\n",
        "if has_a_vowel(my_word):\n",
        "    print 'How surprising, an english word contains a vowel.'\n",
        "else:\n",
        "    print 'This is actually surprising.'"
      ],
      "execution_count": null,
      "outputs": []
    },
    {
      "cell_type": "code",
      "metadata": {
        "colab": {
          "base_uri": "https://localhost:8080/"
        },
        "id": "XnZZo_gCXfWW",
        "outputId": "2495d552-a658-4030-f1d1-fce6e6e3d4c2"
      },
      "source": [
        "##########\n",
        "palabra = \"aguacate\"\n",
        "if tieneA(palabra):\n",
        "  print ('mi palabra tiene la letra a')\n",
        "else:\n",
        "  print('Mi palabra no tiene la letra a')"
      ],
      "execution_count": 185,
      "outputs": [
        {
          "output_type": "stream",
          "text": [
            "mi palabra tiene la letra a\n"
          ],
          "name": "stdout"
        }
      ]
    },
    {
      "cell_type": "code",
      "metadata": {
        "id": "Rq90bGDYiPZ_"
      },
      "source": [
        "def point_maker(x, y):\n",
        "    \"\"\" Groups x and y values into a point, technically a tuple \"\"\"\n",
        "    return x, y"
      ],
      "execution_count": null,
      "outputs": []
    },
    {
      "cell_type": "code",
      "metadata": {
        "id": "0Yr52o2gX3j7"
      },
      "source": [
        "###############\n",
        "def tupla(a,b):\n",
        "  return a,b"
      ],
      "execution_count": 186,
      "outputs": []
    },
    {
      "cell_type": "markdown",
      "metadata": {
        "id": "AfMUFQMjiPZ_"
      },
      "source": [
        "This above function returns an ordered pair of the input parameters, stored as a tuple."
      ]
    },
    {
      "cell_type": "code",
      "metadata": {
        "scrolled": true,
        "id": "jZtY3x8siPZ_"
      },
      "source": [
        "a = point_maker(0, 10)\n",
        "b = point_maker(5, 3)\n",
        "def calculate_slope(point_a, point_b):\n",
        "    \"\"\" Calculates the linear slope between two points \"\"\"\n",
        "    return (point_b[1] - point_a[1])/(point_b[0] - point_a[0])\n",
        "print \"The slope between a and b is {0}\".format(calculate_slope(a, b))"
      ],
      "execution_count": null,
      "outputs": []
    },
    {
      "cell_type": "code",
      "metadata": {
        "id": "_q6jKVy2YHeg"
      },
      "source": [
        "############ funcion retorna el punto mas alejado del origen\n",
        "def masalejado(a, b):\n",
        "  dista = (a[0]**2+a[1]**2)**0.5\n",
        "  distb = (b[0]**2+b[1]**2)**0.5\n",
        "  if dista < distb:\n",
        "    return b\n",
        "  else:\n",
        "    return a"
      ],
      "execution_count": 188,
      "outputs": []
    },
    {
      "cell_type": "code",
      "metadata": {
        "colab": {
          "base_uri": "https://localhost:8080/"
        },
        "id": "0i7YrdOxY0xM",
        "outputId": "dfd5e341-b7d5-4b57-a884-75b11191c73a"
      },
      "source": [
        "##############\n",
        "prim = [1,2]\n",
        "prim2 = [3,9]\n",
        "print (masalejado(prim, prim2))"
      ],
      "execution_count": 189,
      "outputs": [
        {
          "output_type": "stream",
          "text": [
            "[3, 9]\n"
          ],
          "name": "stdout"
        }
      ]
    },
    {
      "cell_type": "markdown",
      "metadata": {
        "id": "EJaJdULJiPaA"
      },
      "source": [
        "And that one calculates the slope between two points!"
      ]
    },
    {
      "cell_type": "code",
      "metadata": {
        "id": "mKoBuiLKiPaA"
      },
      "source": [
        "print \"The slope-intercept form of the line between a and b, using point a, is: y - {0} = {2}(x - {1})\".format(a[1], a[0], calculate_slope(a, b))"
      ],
      "execution_count": null,
      "outputs": []
    },
    {
      "cell_type": "markdown",
      "metadata": {
        "id": "J054MSssiPaA"
      },
      "source": [
        "With the proper syntax, you can define functions to do whatever calculations you want. This makes them an indispensible part of programming in any language."
      ]
    },
    {
      "cell_type": "markdown",
      "metadata": {
        "id": "BLgU95DtiPaA"
      },
      "source": [
        "## Next Steps\n",
        "\n",
        "This was a lot of material and there is still even more to cover! Make sure you play around with the cells in each notebook to accustom yourself to the syntax featured here and to figure out any limitations. If you want to delve even deeper into the material, the [documentation for Python](https://docs.python.org/2/) is all available online. We are in the process of developing a second part to this Python tutorial, designed to provide you with even more programming knowledge, so keep an eye on the [Quantopian Lectures Page](quantopian.com/lectures) and the [forums](quantopian.com/posts) for any new lectures."
      ]
    },
    {
      "cell_type": "markdown",
      "metadata": {
        "id": "TGdGFeiuiPaA"
      },
      "source": [
        "*This presentation is for informational purposes only and does not constitute an offer to sell, a solicitation to buy, or a recommendation for any security; nor does it constitute an offer to provide investment advisory or other services by Quantopian, Inc. (\"Quantopian\"). Nothing contained herein constitutes investment advice or offers any opinion with respect to the suitability of any security, and any views expressed herein should not be taken as advice to buy, sell, or hold any security or as an endorsement of any security or company.  In preparing the information contained herein, Quantopian, Inc. has not taken into account the investment needs, objectives, and financial circumstances of any particular investor. Any views expressed and data illustrated herein were prepared based upon information, believed to be reliable, available to Quantopian, Inc. at the time of publication. Quantopian makes no guarantees as to their accuracy or completeness. All information is subject to change and may quickly become unreliable for various reasons, including changes in market conditions or economic circumstances.*"
      ]
    },
    {
      "cell_type": "code",
      "metadata": {
        "colab": {
          "base_uri": "https://localhost:8080/",
          "height": 295
        },
        "id": "sHuKWM1wh-Eh",
        "outputId": "acda316b-311b-4e62-87d1-a423db4d2970"
      },
      "source": [
        "import matplotlib.pyplot as plt\n",
        "names = ['group_a', 'group_b', 'group_c']\n",
        "\n",
        "values = [1, 100, 10]\n",
        "\n",
        " \n",
        "\n",
        "plt.plot(names, values)\n",
        "\n",
        "plt.suptitle('Categorical Plotting')\n",
        "\n",
        "plt.show()"
      ],
      "execution_count": null,
      "outputs": [
        {
          "output_type": "display_data",
          "data": {
            "image/png": "[encoded data removed]",
            "text/plain": [
              "<Figure size 432x288 with 1 Axes>"
            ]
          },
          "metadata": {
            "tags": [],
            "needs_background": "light"
          }
        }
      ]
    },
    {
      "cell_type": "code",
      "metadata": {
        "id": "t1tSNp5uioBJ",
        "colab": {
          "base_uri": "https://localhost:8080/",
          "height": 294
        },
        "outputId": "5e276ead-24ef-4bfa-c86d-29c29b403358"
      },
      "source": [
        "#######################\n",
        "import matplotlib.pyplot as plt\n",
        "hora = ['9am', '4pm', '12pm']\n",
        "\n",
        "energia = [100, 75, 0]\n",
        "\n",
        " \n",
        "\n",
        "plt.plot(hora, energia)\n",
        "\n",
        "plt.suptitle('Animos en el dia')\n",
        "\n",
        "plt.show()"
      ],
      "execution_count": 191,
      "outputs": [
        {
          "output_type": "display_data",
          "data": {
            "image/png": "[encoded data removed]",
            "text/plain": [
              "<Figure size 432x288 with 1 Axes>"
            ]
          },
          "metadata": {
            "tags": [],
            "needs_background": "light"
          }
        }
      ]
    }
  ]
}